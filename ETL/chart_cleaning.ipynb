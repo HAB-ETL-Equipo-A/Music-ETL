{
 "cells": [
  {
   "cell_type": "code",
   "execution_count": 10,
   "id": "1709ec3a-b600-4526-bcba-2c854fe91912",
   "metadata": {},
   "outputs": [],
   "source": [
    "import sys\n",
    "sys.path.append('..')\n",
    "import config\n",
    "\n",
    "import pandas"
   ]
  },
  {
   "cell_type": "code",
   "execution_count": 3,
   "id": "5b52c110-25d9-4e26-8cc9-0448a0093686",
   "metadata": {},
   "outputs": [
    {
     "name": "stdout",
     "output_type": "stream",
     "text": [
      "pandas==2.2.3\n"
     ]
    }
   ],
   "source": [
    "print(f\"pandas=={pd.__version__}\")"
   ]
  },
  {
   "cell_type": "code",
   "execution_count": 6,
   "id": "245f9be9-bdc9-407f-9fa3-d3674daa85b0",
   "metadata": {},
   "outputs": [],
   "source": [
    "kaggle_datasets_path = config.kaggle_datasets_path"
   ]
  },
  {
   "cell_type": "code",
   "execution_count": null,
   "id": "54253ba6-2a5c-429e-b2c3-965eb4ddb0bf",
   "metadata": {},
   "outputs": [],
   "source": []
  }
 ],
 "metadata": {
  "kernelspec": {
   "display_name": "Python 3 (ipykernel)",
   "language": "python",
   "name": "python3"
  },
  "language_info": {
   "codemirror_mode": {
    "name": "ipython",
    "version": 3
   },
   "file_extension": ".py",
   "mimetype": "text/x-python",
   "name": "python",
   "nbconvert_exporter": "python",
   "pygments_lexer": "ipython3",
   "version": "3.13.0"
  }
 },
 "nbformat": 4,
 "nbformat_minor": 5
}
