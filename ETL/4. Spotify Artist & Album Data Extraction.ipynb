{
 "cells": [
  {
   "cell_type": "code",
   "execution_count": 1,
   "id": "162c1ef8-9e45-46ca-aadc-df43896b1fec",
   "metadata": {},
   "outputs": [],
   "source": [
    "import pandas as pd\n",
    "import json\n",
    "import sys\n",
    "sys.path.append('..')\n",
    "from spotify_api import SpotifyAPI"
   ]
  },
  {
   "cell_type": "code",
   "execution_count": 18,
   "id": "c343e333-092d-450b-ad7e-4204c392a06f",
   "metadata": {},
   "outputs": [],
   "source": [
    "track_data = pd.read_json('../datasets/rank_1/track_data.json')\n",
    "artist_ids = [row['artists'][0]['id'] for _, row in track_data.iterrows()]\n",
    "album_ids = [row['album']['id'] for _, row in track_data.iterrows()]\n",
    "explicits = [row['explicit'] for _, row in track_data.iterrows()]"
   ]
  },
  {
   "cell_type": "code",
   "execution_count": 46,
   "id": "ad0a4b82-0852-4306-ba44-78a6d53f807b",
   "metadata": {},
   "outputs": [
    {
     "data": {
      "text/html": [
       "<div>\n",
       "<style scoped>\n",
       "    .dataframe tbody tr th:only-of-type {\n",
       "        vertical-align: middle;\n",
       "    }\n",
       "\n",
       "    .dataframe tbody tr th {\n",
       "        vertical-align: top;\n",
       "    }\n",
       "\n",
       "    .dataframe thead th {\n",
       "        text-align: right;\n",
       "    }\n",
       "</style>\n",
       "<table border=\"1\" class=\"dataframe\">\n",
       "  <thead>\n",
       "    <tr style=\"text-align: right;\">\n",
       "      <th></th>\n",
       "      <th>Song</th>\n",
       "      <th>Artist</th>\n",
       "      <th>Track ID</th>\n",
       "    </tr>\n",
       "  </thead>\n",
       "  <tbody>\n",
       "    <tr>\n",
       "      <th>0</th>\n",
       "      <td>Poor Little Fool</td>\n",
       "      <td>Ricky Nelson</td>\n",
       "      <td>5ayybTSXNwcarDtxQKqvWX</td>\n",
       "    </tr>\n",
       "    <tr>\n",
       "      <th>1</th>\n",
       "      <td>Nel Blu Dipinto Di Blu (Volare)</td>\n",
       "      <td>Domenico Modugno</td>\n",
       "      <td>006Ndmw2hHxvnLbJsBFnPx</td>\n",
       "    </tr>\n",
       "    <tr>\n",
       "      <th>2</th>\n",
       "      <td>Little Star</td>\n",
       "      <td>The Elegants</td>\n",
       "      <td>6xupOaBWORbDmakCdQwMRG</td>\n",
       "    </tr>\n",
       "    <tr>\n",
       "      <th>3</th>\n",
       "      <td>It's All In The Game</td>\n",
       "      <td>Tommy Edwards</td>\n",
       "      <td>2tvt5K7y1gndmCgtIoLo1f</td>\n",
       "    </tr>\n",
       "    <tr>\n",
       "      <th>4</th>\n",
       "      <td>It's Only Make Believe</td>\n",
       "      <td>Conway Twitty</td>\n",
       "      <td>1xVOttVNT27FBTD8iHjOfU</td>\n",
       "    </tr>\n",
       "  </tbody>\n",
       "</table>\n",
       "</div>"
      ],
      "text/plain": [
       "                              Song            Artist                Track ID\n",
       "0                 Poor Little Fool      Ricky Nelson  5ayybTSXNwcarDtxQKqvWX\n",
       "1  Nel Blu Dipinto Di Blu (Volare)  Domenico Modugno  006Ndmw2hHxvnLbJsBFnPx\n",
       "2                      Little Star      The Elegants  6xupOaBWORbDmakCdQwMRG\n",
       "3             It's All In The Game     Tommy Edwards  2tvt5K7y1gndmCgtIoLo1f\n",
       "4           It's Only Make Believe     Conway Twitty  1xVOttVNT27FBTD8iHjOfU"
      ]
     },
     "execution_count": 46,
     "metadata": {},
     "output_type": "execute_result"
    }
   ],
   "source": [
    "unique_df = pd.read_csv('datasets/rank_1/unique.csv')\n",
    "unique_df.head()"
   ]
  },
  {
   "cell_type": "code",
   "execution_count": 47,
   "id": "1791c2c9-30ed-4e37-add4-ca79dcee5521",
   "metadata": {},
   "outputs": [
    {
     "data": {
      "text/html": [
       "<div>\n",
       "<style scoped>\n",
       "    .dataframe tbody tr th:only-of-type {\n",
       "        vertical-align: middle;\n",
       "    }\n",
       "\n",
       "    .dataframe tbody tr th {\n",
       "        vertical-align: top;\n",
       "    }\n",
       "\n",
       "    .dataframe thead th {\n",
       "        text-align: right;\n",
       "    }\n",
       "</style>\n",
       "<table border=\"1\" class=\"dataframe\">\n",
       "  <thead>\n",
       "    <tr style=\"text-align: right;\">\n",
       "      <th></th>\n",
       "      <th>Song</th>\n",
       "      <th>Artist</th>\n",
       "      <th>Track ID</th>\n",
       "      <th>Artist ID</th>\n",
       "      <th>Album ID</th>\n",
       "    </tr>\n",
       "  </thead>\n",
       "  <tbody>\n",
       "    <tr>\n",
       "      <th>0</th>\n",
       "      <td>Poor Little Fool</td>\n",
       "      <td>Ricky Nelson</td>\n",
       "      <td>5ayybTSXNwcarDtxQKqvWX</td>\n",
       "      <td>73sSFVlM6pkweLXE8qw1OS</td>\n",
       "      <td>08TlIPCh7esOAnqBvlmkEt</td>\n",
       "    </tr>\n",
       "    <tr>\n",
       "      <th>1</th>\n",
       "      <td>Nel Blu Dipinto Di Blu (Volare)</td>\n",
       "      <td>Domenico Modugno</td>\n",
       "      <td>006Ndmw2hHxvnLbJsBFnPx</td>\n",
       "      <td>4llklDtTTyMYMY2LfFOkTI</td>\n",
       "      <td>3RWfLO5X2CSxBI5oH84mra</td>\n",
       "    </tr>\n",
       "    <tr>\n",
       "      <th>2</th>\n",
       "      <td>Little Star</td>\n",
       "      <td>The Elegants</td>\n",
       "      <td>6xupOaBWORbDmakCdQwMRG</td>\n",
       "      <td>7bNoMfBqbaLJrfH3Vw1q6L</td>\n",
       "      <td>7mFC0w7g7lopYnuQeZH7rd</td>\n",
       "    </tr>\n",
       "    <tr>\n",
       "      <th>3</th>\n",
       "      <td>It's All In The Game</td>\n",
       "      <td>Tommy Edwards</td>\n",
       "      <td>2tvt5K7y1gndmCgtIoLo1f</td>\n",
       "      <td>1ObAu0tz0NlOI6FNHTXchD</td>\n",
       "      <td>5Pm6JmFRagCaNbD5OLlG3d</td>\n",
       "    </tr>\n",
       "    <tr>\n",
       "      <th>4</th>\n",
       "      <td>It's Only Make Believe</td>\n",
       "      <td>Conway Twitty</td>\n",
       "      <td>1xVOttVNT27FBTD8iHjOfU</td>\n",
       "      <td>7gi3jmwpUpNWdswT8eEprF</td>\n",
       "      <td>3niZ3iipFSFzO6335VBZiP</td>\n",
       "    </tr>\n",
       "  </tbody>\n",
       "</table>\n",
       "</div>"
      ],
      "text/plain": [
       "                              Song            Artist                Track ID  \\\n",
       "0                 Poor Little Fool      Ricky Nelson  5ayybTSXNwcarDtxQKqvWX   \n",
       "1  Nel Blu Dipinto Di Blu (Volare)  Domenico Modugno  006Ndmw2hHxvnLbJsBFnPx   \n",
       "2                      Little Star      The Elegants  6xupOaBWORbDmakCdQwMRG   \n",
       "3             It's All In The Game     Tommy Edwards  2tvt5K7y1gndmCgtIoLo1f   \n",
       "4           It's Only Make Believe     Conway Twitty  1xVOttVNT27FBTD8iHjOfU   \n",
       "\n",
       "                Artist ID                Album ID  \n",
       "0  73sSFVlM6pkweLXE8qw1OS  08TlIPCh7esOAnqBvlmkEt  \n",
       "1  4llklDtTTyMYMY2LfFOkTI  3RWfLO5X2CSxBI5oH84mra  \n",
       "2  7bNoMfBqbaLJrfH3Vw1q6L  7mFC0w7g7lopYnuQeZH7rd  \n",
       "3  1ObAu0tz0NlOI6FNHTXchD  5Pm6JmFRagCaNbD5OLlG3d  \n",
       "4  7gi3jmwpUpNWdswT8eEprF  3niZ3iipFSFzO6335VBZiP  "
      ]
     },
     "execution_count": 47,
     "metadata": {},
     "output_type": "execute_result"
    }
   ],
   "source": [
    "unique_df['Artist ID'] = artist_ids\n",
    "unique_df['Album ID'] = album_ids\n",
    "unique_df.to_csv('datasets/rank_1/metadata.csv', index=False)\n",
    "unique_df.head()"
   ]
  },
  {
   "cell_type": "code",
   "execution_count": 4,
   "id": "65aa9b10-138f-4a7c-95ce-ce444599f521",
   "metadata": {},
   "outputs": [],
   "source": [
    "api = SpotifyAPI(secrets_path='secrets.json')"
   ]
  },
  {
   "cell_type": "code",
   "execution_count": 7,
   "id": "23fb4ed2-035a-4c24-ac92-fc283a2fad5f",
   "metadata": {},
   "outputs": [],
   "source": [
    "artists_data = await api.get_artists_data(artist_ids=unique_df['Artist ID'], retries=3, delay=3)\n",
    "artist_genres = [item['genres'] for item in artists_data]"
   ]
  },
  {
   "cell_type": "code",
   "execution_count": 9,
   "id": "21fc60b4-500a-47d4-ac35-783eaa6f4337",
   "metadata": {},
   "outputs": [],
   "source": [
    "artist_genres = track_info_df['artist_genres']\n",
    "explicits = track_info_df['explicit']"
   ]
  },
  {
   "cell_type": "code",
   "execution_count": 10,
   "id": "9e03e02f-ea28-4d63-87c1-3d41b7563252",
   "metadata": {},
   "outputs": [],
   "source": [
    "unique_df = pd.read_csv('../datasets/rank_1/unique.csv')"
   ]
  },
  {
   "cell_type": "code",
   "execution_count": 14,
   "id": "d7f06996-17d0-4b9a-a740-c83434d1120f",
   "metadata": {},
   "outputs": [
    {
     "ename": "NameError",
     "evalue": "name 'key_mapping' is not defined",
     "output_type": "error",
     "traceback": [
      "\u001b[0;31m---------------------------------------------------------------------------\u001b[0m",
      "\u001b[0;31mNameError\u001b[0m                                 Traceback (most recent call last)",
      "Cell \u001b[0;32mIn[14], line 11\u001b[0m\n\u001b[1;32m      4\u001b[0m features_df \u001b[38;5;241m=\u001b[39m pd\u001b[38;5;241m.\u001b[39mread_csv(\u001b[38;5;124m'\u001b[39m\u001b[38;5;124m../datasets/rank_1/features.csv\u001b[39m\u001b[38;5;124m'\u001b[39m)\n\u001b[1;32m      5\u001b[0m \u001b[38;5;66;03m#unique_df['duration'] = features_df['duration_ms']\u001b[39;00m\n\u001b[1;32m      6\u001b[0m \u001b[38;5;66;03m#unique_df['duration'] = unique_df['duration_ms'].apply(lambda x: f\"{x // 60000}:{(x % 60000) // 1000:02d}\")\u001b[39;00m\n\u001b[1;32m      7\u001b[0m \n\u001b[1;32m      8\u001b[0m \u001b[38;5;66;03m#unique_df = unique_df.drop(columns=['duration_ms'])\u001b[39;00m\n\u001b[1;32m      9\u001b[0m \n\u001b[1;32m     10\u001b[0m \u001b[38;5;66;03m#key_mapping = {0: \"C\", 1: \"C♯/D♭\", 2: \"D\", 3: \"D♯/E♭\", 4: \"E\", 5: \"F\", 6: \"F♯/G♭\", 7: \"G\", 8: \"G♯/A♭\", 9: \"A\", 10: \"A♯/B♭\", 11: \"B\"}\u001b[39;00m\n\u001b[0;32m---> 11\u001b[0m unique_df[\u001b[38;5;124m'\u001b[39m\u001b[38;5;124mkey\u001b[39m\u001b[38;5;124m'\u001b[39m] \u001b[38;5;241m=\u001b[39m features_df[\u001b[38;5;124m'\u001b[39m\u001b[38;5;124mkey\u001b[39m\u001b[38;5;124m'\u001b[39m]\u001b[38;5;241m.\u001b[39mmap(\u001b[43mkey_mapping\u001b[49m)\u001b[38;5;241m.\u001b[39mastype(\u001b[38;5;124m'\u001b[39m\u001b[38;5;124mcategory\u001b[39m\u001b[38;5;124m'\u001b[39m)\n\u001b[1;32m     12\u001b[0m unique_df[\u001b[38;5;124m'\u001b[39m\u001b[38;5;124mmode\u001b[39m\u001b[38;5;124m'\u001b[39m] \u001b[38;5;241m=\u001b[39m features_df[\u001b[38;5;124m'\u001b[39m\u001b[38;5;124mmode\u001b[39m\u001b[38;5;124m'\u001b[39m]\u001b[38;5;241m.\u001b[39mreplace({\u001b[38;5;241m0\u001b[39m: \u001b[38;5;124m'\u001b[39m\u001b[38;5;124mMinor\u001b[39m\u001b[38;5;124m'\u001b[39m, \u001b[38;5;241m1\u001b[39m: \u001b[38;5;124m'\u001b[39m\u001b[38;5;124mMajor\u001b[39m\u001b[38;5;124m'\u001b[39m})\u001b[38;5;241m.\u001b[39mastype(\u001b[38;5;124m'\u001b[39m\u001b[38;5;124mcategory\u001b[39m\u001b[38;5;124m'\u001b[39m)\n\u001b[1;32m     13\u001b[0m unique_df[\u001b[38;5;124m'\u001b[39m\u001b[38;5;124mtime_signature\u001b[39m\u001b[38;5;124m'\u001b[39m] \u001b[38;5;241m=\u001b[39m features_df[\u001b[38;5;124m'\u001b[39m\u001b[38;5;124mtime_signature\u001b[39m\u001b[38;5;124m'\u001b[39m]\u001b[38;5;241m.\u001b[39mastype(\u001b[38;5;124m'\u001b[39m\u001b[38;5;124mcategory\u001b[39m\u001b[38;5;124m'\u001b[39m)\n",
      "\u001b[0;31mNameError\u001b[0m: name 'key_mapping' is not defined"
     ]
    }
   ],
   "source": [
    "unique_df['artist_genres'] = artist_genres\n",
    "unique_df['explicit'] = explicits\n",
    "\n",
    "features_df = pd.read_csv('../datasets/rank_1/features.csv')\n",
    "#unique_df['duration'] = features_df['duration_ms']\n",
    "#unique_df['duration'] = unique_df['duration_ms'].apply(lambda x: f\"{x // 60000}:{(x % 60000) // 1000:02d}\")\n",
    "\n",
    "#unique_df = unique_df.drop(columns=['duration_ms'])\n",
    "\n",
    "#key_mapping = {0: \"C\", 1: \"C♯/D♭\", 2: \"D\", 3: \"D♯/E♭\", 4: \"E\", 5: \"F\", 6: \"F♯/G♭\", 7: \"G\", 8: \"G♯/A♭\", 9: \"A\", 10: \"A♯/B♭\", 11: \"B\"}\n",
    "unique_df['key'] = features_df['key'].map(key_mapping).astype('category')\n",
    "unique_df['mode'] = features_df['mode'].replace({0: 'Minor', 1: 'Major'}).astype('category')\n",
    "unique_df['time_signature'] = features_df['time_signature'].astype('category')\n",
    "\n",
    "unique_df = unique_df.rename(columns={\n",
    "    'Song': 'track_name',\n",
    "    'Artist': 'artist_name',\n",
    "    'Track ID': 'track_id',\n",
    "    'Artist ID': 'artist_id'\n",
    "})\n",
    "\n",
    "col_order = ['track_id', 'track_name', 'artist_id', 'artist_name']\n",
    "cols = col_order + [col for col in unique_df.columns if col not in col_order]\n",
    "unique_df = unique_df[cols]\n",
    "\n",
    "#unique_df.to_csv('datasets/rank_1/track_info.csv', index=False)\n",
    "unique_df.head()"
   ]
  },
  {
   "cell_type": "code",
   "execution_count": null,
   "id": "04abd8cd-4cbc-44d6-bfac-d7008c4d62a5",
   "metadata": {},
   "outputs": [],
   "source": []
  }
 ],
 "metadata": {
  "kernelspec": {
   "display_name": "Python 3 (ipykernel)",
   "language": "python",
   "name": "python3"
  },
  "language_info": {
   "codemirror_mode": {
    "name": "ipython",
    "version": 3
   },
   "file_extension": ".py",
   "mimetype": "text/x-python",
   "name": "python",
   "nbconvert_exporter": "python",
   "pygments_lexer": "ipython3",
   "version": "3.13.0"
  }
 },
 "nbformat": 4,
 "nbformat_minor": 5
}
