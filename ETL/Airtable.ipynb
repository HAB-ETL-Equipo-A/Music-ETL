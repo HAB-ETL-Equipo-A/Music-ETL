{
 "cells": [
  {
   "cell_type": "code",
   "execution_count": 109,
   "id": "18cfcc42-7abb-4e39-be45-024681c16f29",
   "metadata": {},
   "outputs": [],
   "source": [
    "import json\n",
    "import asyncio\n",
    "import aiohttp\n",
    "import glob\n",
    "import requests\n",
    "import pandas as pd\n",
    "import warnings\n",
    "import time\n",
    "import numpy as np\n",
    "from decimal import Decimal\n",
    "from pandas.api.types import is_bool_dtype, is_numeric_dtype, is_object_dtype, is_datetime64_dtype, is_float_dtype, is_int64_dtype"
   ]
  },
  {
   "cell_type": "code",
   "execution_count": 2,
   "id": "6e17b8f8-5708-4459-af7d-9332e572bd1e",
   "metadata": {},
   "outputs": [],
   "source": [
    "with open('../secrets.json') as f:\n",
    "    access_token = json.load(f)['AIRTABLE_ACCESS_TOKEN']"
   ]
  },
  {
   "cell_type": "code",
   "execution_count": 3,
   "id": "9f8c3f33-9703-43b7-a4ac-9abae8c3ca9f",
   "metadata": {},
   "outputs": [],
   "source": [
    "headers = {\"Authorization\" : f\"Bearer {access_token}\",\n",
    "           \"Content-Type\"  : \"application/json\"}"
   ]
  },
  {
   "cell_type": "code",
   "execution_count": 4,
   "id": "a21cb716-1384-4ee3-9b77-aa850ffb1f76",
   "metadata": {},
   "outputs": [],
   "source": [
    "api_url = \"https://api.airtable.com\""
   ]
  },
  {
   "cell_type": "code",
   "execution_count": 5,
   "id": "e27a52bb-0f3e-4b11-9479-38c9ea4af16d",
   "metadata": {},
   "outputs": [],
   "source": [
    "app_id = \"appBgReq44W6yAMqS\""
   ]
  },
  {
   "cell_type": "code",
   "execution_count": 6,
   "id": "9f952049-fb80-4cd4-ac2d-2abfb936b766",
   "metadata": {},
   "outputs": [],
   "source": [
    "def table_exists(table_name):\n",
    "    url = f\"{api_url}/v0/{app_id}/{table_name}\"\n",
    "    response = requests.get(url, headers=headers)\n",
    "    if response.status_code == 200:\n",
    "        return True\n",
    "    elif response.status_code == 403:\n",
    "        return False\n",
    "    else:\n",
    "        response.raise_for_status()"
   ]
  },
  {
   "cell_type": "code",
   "execution_count": 7,
   "id": "d7a18bd2-3f2c-4ccd-9bc2-7c492ea2c4d4",
   "metadata": {},
   "outputs": [],
   "source": [
    "root_path = \"../datasets/rank_1\""
   ]
  },
  {
   "cell_type": "code",
   "execution_count": 8,
   "id": "e7cfbf95-47ca-496c-a6f3-bc2c5cebfb43",
   "metadata": {},
   "outputs": [],
   "source": [
    "table_names = []\n",
    "table_data = []\n",
    "\n",
    "for file in glob.glob(f\"{root_path}/*.csv\"):\n",
    "    name = file.split('/')[-1].split('.')[0]\n",
    "    table_names.append(name)\n",
    "    df = pd.read_csv(file)\n",
    "    table_data.append(df)"
   ]
  },
  {
   "cell_type": "code",
   "execution_count": 9,
   "id": "3dae24f2-935d-4a9e-b046-dd204a4af89a",
   "metadata": {},
   "outputs": [],
   "source": [
    "# POST\n",
    "create_table_endpoint = f\"{api_url}/v0/meta/bases/{app_id}/tables\"\n",
    "def create_table(name, fields):\n",
    "    payload = {\n",
    "        \"name\": name,\n",
    "        \"description\": \"\",\n",
    "        \"fields\": fields\n",
    "    }\n",
    "    response = requests.post(create_table_endpoint, headers=headers, data=json.dumps(payload))\n",
    "    return response.json()"
   ]
  },
  {
   "cell_type": "code",
   "execution_count": 10,
   "id": "dcb7aeca-4b83-410f-9a46-858553243cb9",
   "metadata": {},
   "outputs": [],
   "source": [
    "def is_date_col(df, col):\n",
    "    date_pattern = r'^(19|20)\\d\\d[- /.](0[1-9]|1[012])[- /.](0[1-9]|[12][0-9]|3[01])$'\n",
    "        \n",
    "    try:\n",
    "        is_date = df[col].str.match(date_pattern, na=True) \n",
    "        true_count = is_date.sum()\n",
    "        total_count = is_date.notna().sum()\n",
    "        \n",
    "        if total_count > 0:\n",
    "            percentage_true = true_count / total_count\n",
    "            if percentage_true > 0.99:\n",
    "                return True\n",
    "    except:\n",
    "        return False"
   ]
  },
  {
   "cell_type": "code",
   "execution_count": 44,
   "id": "32a11197-0e42-406b-b7fd-32636cb080a3",
   "metadata": {},
   "outputs": [],
   "source": [
    "def is_bool_col(df, col):\n",
    "    nuniques = len(pd.unique(df[col]))\n",
    "    return nuniques == 2 and df[col].dtype == 'int64'"
   ]
  },
  {
   "cell_type": "code",
   "execution_count": 62,
   "id": "bfd65c48-6500-478f-bb1d-78f792ec8e35",
   "metadata": {},
   "outputs": [],
   "source": [
    "def get_field_type(df, col):\n",
    "    dtype = df[col].dtype\n",
    "    \n",
    "    if is_bool_dtype(dtype):\n",
    "        return 'checkbox'\n",
    "    elif is_datetime64_dtype(dtype):\n",
    "        return 'date'\n",
    "    elif is_numeric_dtype(dtype):\n",
    "        return 'number'\n",
    "    else:\n",
    "        return 'singleLineText'"
   ]
  },
  {
   "cell_type": "code",
   "execution_count": 69,
   "id": "f66b2b4f-11df-4412-b47c-a9a999bb8fda",
   "metadata": {},
   "outputs": [],
   "source": [
    "def df_to_fields(df):\n",
    "    field_types = [get_field_type(df, col) for col in df.columns]\n",
    "    fields = [{\"name\": col, \"type\": field_types[i]} for i, col in enumerate(df.columns)]\n",
    "    \n",
    "    for i, field in enumerate(fields):\n",
    "        if field['type'] == 'date':\n",
    "            fields[i]['options'] = {\n",
    "                \"dateFormat\": {\n",
    "                    \"name\": \"iso\"\n",
    "                }\n",
    "            }\n",
    "            \n",
    "        elif field['type'] == 'number':\n",
    "            col = df[df.columns[i]]\n",
    "            precision = 0 if col.dtype == 'int64' else 6\n",
    "            fields[i]['options'] = {\n",
    "                \"precision\": precision\n",
    "            }\n",
    "\n",
    "        elif field['type'] == 'checkbox':\n",
    "            fields[i]['options'] = {\n",
    "                \"color\": \"greenBright\",\n",
    "                \"icon\": \"check\"\n",
    "            }\n",
    "            \n",
    "    return fields"
   ]
  },
  {
   "cell_type": "code",
   "execution_count": 104,
   "id": "1cfd6772-5dea-4665-a4b9-e1b82fe4bc14",
   "metadata": {},
   "outputs": [],
   "source": [
    "fields_data = []\n",
    "formatted_data = []\n",
    "\n",
    "for i, df in enumerate(table_data):\n",
    "\n",
    "    # Process the columns for field type inference\n",
    "    for col in df.columns:\n",
    "        \n",
    "        # Convert dates to datetime\n",
    "        if is_date_col(df, col):\n",
    "            with warnings.catch_warnings():\n",
    "                warnings.simplefilter(\"ignore\")\n",
    "                df[col] = pd.to_datetime(df[col], errors='coerce')\n",
    "\n",
    "        # Convert 1/0 to True/False\n",
    "        if is_bool_col(df, col):\n",
    "            df[col] = df[col].replace({0: False, 1: True})\n",
    "\n",
    "    # Infer field types\n",
    "    fields = df_to_fields(df)\n",
    "\n",
    "    # Format data for passing into API\n",
    "    df = df.fillna('')\n",
    "    \n",
    "    for col in df.columns:\n",
    "        if is_datetime64_dtype(df[col]):\n",
    "            # Format to ISO string\n",
    "            df[col] = df[col].dt.strftime('%Y-%m-%d')\n",
    "            \n",
    "    fields_data.append(fields)\n",
    "    formatted_data.append(df)"
   ]
  },
  {
   "cell_type": "code",
   "execution_count": 72,
   "id": "2839ed1e-e1ca-4acf-926c-220ee9e18e4e",
   "metadata": {},
   "outputs": [],
   "source": [
    "for name, fields in zip(table_names, fields_data):\n",
    "    if table_exists(name):\n",
    "        continue\n",
    "    create_table(name, fields)"
   ]
  },
  {
   "cell_type": "code",
   "execution_count": 76,
   "id": "34a4e55f-26db-42c1-86c9-9b09a7ea2519",
   "metadata": {},
   "outputs": [],
   "source": [
    "def prepare_data(df):\n",
    "    df = df.where(pd.notnull(df), None)\n",
    "    records = []\n",
    "    for _, row in df.iterrows():\n",
    "        fields = {col: row[col] for col in df.columns}\n",
    "        records.append({\"fields\": fields})\n",
    "    return records"
   ]
  },
  {
   "cell_type": "code",
   "execution_count": 141,
   "id": "7bb24249-8117-4bb0-ab30-f6b24942624a",
   "metadata": {},
   "outputs": [],
   "source": [
    "prepared_data = []\n",
    "\n",
    "for df in formatted_data:\n",
    "    prepared_df = prepare_data(df)\n",
    "    prepared_data.append(prepared_df)"
   ]
  },
  {
   "cell_type": "code",
   "execution_count": 81,
   "id": "421753cc-1e2d-4395-a8bb-a0859f3c2e4c",
   "metadata": {},
   "outputs": [],
   "source": [
    "def upload_data(data, table_name):\n",
    "    \n",
    "    table_endpoint = f\"{api_url}/v0/{app_id}/{table_name}\"\n",
    "    \n",
    "    for i in range(0, len(data), 10):\n",
    "        batch = data[i:i + 10]\n",
    "        payload = {\"records\": batch}\n",
    "        \n",
    "        response = requests.post(table_endpoint, headers=headers, json=payload)\n",
    "        \n",
    "        if response.status_code == 200:\n",
    "            print(f\"Batch {i // 10 + 1} uploaded successfully.\")\n",
    "        else:\n",
    "            print(f\"Error in batch {i // 10 + 1}: {response.json()}\")"
   ]
  },
  {
   "cell_type": "code",
   "execution_count": 94,
   "id": "7f61e37c-7f95-4eff-8156-6e27bb18b1ee",
   "metadata": {},
   "outputs": [],
   "source": [
    "uploaded_states = [\"False\"]*len(table_names)"
   ]
  },
  {
   "cell_type": "code",
   "execution_count": 148,
   "id": "2b4e8736-1eaf-4e99-9d1e-58641a806e0c",
   "metadata": {},
   "outputs": [
    {
     "name": "stdout",
     "output_type": "stream",
     "text": [
      "Table binary_classifications data already uploaded\n",
      "Table canciones_aleatorias_con_fechas_y_datos data already uploaded\n",
      "Table charts data already uploaded\n",
      "Table complete_filled_top_1_songs data already uploaded\n",
      "Table features data already uploaded\n",
      "Table features_scaled data already uploaded\n",
      "Table lyric_sentiment data already uploaded\n",
      "Table lyric_sentiment_scaled data already uploaded\n",
      "Table query data already uploaded\n",
      "Table track_info data already uploaded\n",
      "Table unique data already uploaded\n"
     ]
    }
   ],
   "source": [
    "i =-1\n",
    "for table_name, data in zip(table_names, prepared_data):\n",
    "    i += 1\n",
    "\n",
    "    if uploaded_states[i] == True:\n",
    "        print(f\"Table {table_name} data already uploaded\")\n",
    "        continue\n",
    "    \n",
    "    if not table_exists(table_name):\n",
    "        print(f\"Could not find table {table_name}\")\n",
    "        continue\n",
    "\n",
    "    #result = await post_data(table_name, data, retries=2, delay=3)\n",
    "    result = upload_data(data, table_name)\n",
    "    print(result)\n",
    "    uploaded_states[i] = True\n",
    "    \n",
    "    res = input(\"continue?\")\n",
    "    if res != 'y':\n",
    "        break"
   ]
  }
 ],
 "metadata": {
  "kernelspec": {
   "display_name": "Python 3 (ipykernel)",
   "language": "python",
   "name": "python3"
  },
  "language_info": {
   "codemirror_mode": {
    "name": "ipython",
    "version": 3
   },
   "file_extension": ".py",
   "mimetype": "text/x-python",
   "name": "python",
   "nbconvert_exporter": "python",
   "pygments_lexer": "ipython3",
   "version": "3.13.1"
  }
 },
 "nbformat": 4,
 "nbformat_minor": 5
}
