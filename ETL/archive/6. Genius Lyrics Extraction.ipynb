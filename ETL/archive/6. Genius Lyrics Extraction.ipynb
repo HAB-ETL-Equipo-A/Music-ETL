{
 "cells": [
  {
   "cell_type": "code",
   "execution_count": 1,
   "id": "0a25bcdf-4f33-4923-83e9-02149497568a",
   "metadata": {},
   "outputs": [],
   "source": [
    "from lyricsgenius import Genius, artist\n",
    "import json\n",
    "import pandas as pd\n",
    "import asyncio\n",
    "import re\n",
    "import os\n",
    "from requests.exceptions import HTTPError\n",
    "from IPython.display import clear_output\n",
    "import nest_asyncio\n",
    "import time"
   ]
  },
  {
   "cell_type": "code",
   "execution_count": 2,
   "id": "8d70204a-65d6-46f2-bf80-9983eba3be3f",
   "metadata": {},
   "outputs": [],
   "source": [
    "df = pd.read_csv('../datasets/rank_1/query.csv')\n",
    "idf = pd.read_csv('../datasets/rank_1/unique.csv')\n",
    "df['track_id'] = idf['Track ID']\n",
    "\n",
    "json_path = '../datasets/rank_1/lyrics.json'\n",
    "with open(json_path, 'r') as json_file:\n",
    "    existing_data = json.load(json_file)"
   ]
  },
  {
   "cell_type": "code",
   "execution_count": 3,
   "id": "3567537d-21cf-4cbe-9cac-f607cb3dde2b",
   "metadata": {},
   "outputs": [],
   "source": [
    "batch_size = 20\n",
    "batches_done = int(len(existing_data) / batch_size)\n",
    "batched_dfs = [df.iloc[i:i+batch_size] for i in range(0, len(df), batch_size)]\n",
    "total_batches = len(batched_dfs)"
   ]
  },
  {
   "cell_type": "code",
   "execution_count": 4,
   "id": "c7af5377-4577-451f-8fa6-2e1eb4c73c13",
   "metadata": {},
   "outputs": [],
   "source": [
    "with open('../secrets.json') as f:\n",
    "    secrets = json.load(f)\n",
    "    \n",
    "token = secrets['GENIUS_ACCESS_TOKEN']\n",
    "genius = Genius(token)\n",
    "\n",
    "artist_cache = {}"
   ]
  },
  {
   "cell_type": "code",
   "execution_count": 5,
   "id": "66c8c8c4-2335-4ffd-8cd8-3105622d2bd8",
   "metadata": {},
   "outputs": [],
   "source": [
    "async def search_genius(search_func, retries, delay, *args, **kwargs):\n",
    "    for i in range(retries):\n",
    "        try:\n",
    "            data = await asyncio.to_thread(search_func, *args)\n",
    "            return data\n",
    "        except Exception as e:\n",
    "            print(f\"Error: {e}\")\n",
    "            if isinstance(e, HTTPError) and e.response:\n",
    "                if e.response.status in {429, 503, 504}:\n",
    "                    await asyncio.sleep(delay)\n",
    "                elif e.response.status == 403:\n",
    "                    raise e\n",
    "            else:\n",
    "                return None"
   ]
  },
  {
   "cell_type": "code",
   "execution_count": 6,
   "id": "c9bbbd60-60b3-4d46-97eb-6854295c6cb7",
   "metadata": {},
   "outputs": [],
   "source": [
    "async def search_artist(artist_name, retries, delay):\n",
    "    res = await search_genius(genius.search_artist, retries, delay, artist_name, max_songs=0)\n",
    "    return res\n",
    "\n",
    "async def search_song(song_name, artist_name, genius_artist, retries, delay):\n",
    "    if genius_artist:\n",
    "        res = await search_genius(genius_artist.song, retries, delay, song_name)\n",
    "    else:\n",
    "        res = await search_genius(genius.search_song, retries, delay, song_name, artist_name)\n",
    "    return res"
   ]
  },
  {
   "cell_type": "code",
   "execution_count": 7,
   "id": "257d048a-8c8b-451b-b855-fcac2e016ae2",
   "metadata": {},
   "outputs": [],
   "source": [
    "async def get_results(batch):\n",
    "    genius_artists = await asyncio.gather(*(search_artist(artist_name, retries=1, delay=50) for artist_name in batch['Artist']))\n",
    "    songs_results = await asyncio.gather(*(search_song(song_name, artist_name, genius_artist, retries=2, delay=3) for song_name, artist_name, genius_artist, in zip(batch['Song'], batch['Artist'], genius_artists)))\n",
    "    return songs_results"
   ]
  },
  {
   "cell_type": "code",
   "execution_count": 8,
   "id": "a3260133-d812-4894-b251-a85f703093f4",
   "metadata": {},
   "outputs": [],
   "source": [
    "def clean_lyrics(raw_lyrics):\n",
    "    cleaned = re.sub(r'^\\d+\\s+Contributors\\S*\\s+', '', raw_lyrics)\n",
    "    cleaned = re.sub(r\"^.*Lyrics\", '', cleaned)\n",
    "    cleaned = re.sub(r\"\\[.*?\\]\", \"\", cleaned)\n",
    "    cleaned = re.sub(r\"[^a-zA-Z0-9\\s']\", \"\", cleaned)\n",
    "    cleaned = re.sub(r\"\\s+\", \" \", cleaned).strip()\n",
    "    cleaned = re.sub(r\"\\d?Embed.*$\", \"\", cleaned).strip()\n",
    "    return cleaned"
   ]
  },
  {
   "cell_type": "code",
   "execution_count": 9,
   "id": "78d074c2-605d-4090-8e00-b6a345d24a8b",
   "metadata": {},
   "outputs": [],
   "source": [
    "def clean_and_extract(track_ids, song_results):\n",
    "    lyrics = [song.lyrics if song and hasattr(song, 'lyrics') else 'None' for song in song_results]\n",
    "    lyrics_clean = [clean_lyrics(l) for l in lyrics]\n",
    "    return {\n",
    "        index: {\"track_id\": track_id, \"lyrics\": lyric}\n",
    "        for index, (track_id, lyric) in enumerate(zip(track_ids, lyrics_clean))\n",
    "    }"
   ]
  },
  {
   "cell_type": "code",
   "execution_count": 10,
   "id": "86fbb745-16c8-4757-b11c-8b5292518bd7",
   "metadata": {},
   "outputs": [],
   "source": [
    "def append_to_file(data):\n",
    "    with open(json_path, 'r') as json_file:\n",
    "        existing_data = json.load(json_file)\n",
    "    \n",
    "    existing_data.update(data)\n",
    "    \n",
    "    with open(json_path, 'w') as json_file:\n",
    "        json.dump(existing_data, json_file)"
   ]
  },
  {
   "cell_type": "code",
   "execution_count": 11,
   "id": "7941157d-c33b-497a-849b-53e3a8e7af10",
   "metadata": {},
   "outputs": [],
   "source": [
    "async def process_batches():\n",
    "    global batches_done\n",
    "    while batches_done < total_batches and input('Continue? (y/n): ').lower() == 'y':\n",
    "        current_batch = batched_dfs[batches_done]\n",
    "        batch_results = await get_results(current_batch)\n",
    "        if batch_results:\n",
    "            batch_results_cleaned = clean_and_extract(current_batch['track_id'], batch_results)\n",
    "            input(batch_results_cleaned)\n",
    "            append_to_file(batch_results_cleaned)\n",
    "            print(f'Processed batch {batches_done+1}/{total_batches}')\n",
    "            batches_done += 1\n",
    "        else:\n",
    "            print(f'Failed to process batch {batches_done+1}')\n",
    "            break"
   ]
  },
  {
   "cell_type": "code",
   "execution_count": null,
   "id": "06ed8a5f-cfdc-444f-b7b3-b5841ff93dc7",
   "metadata": {},
   "outputs": [],
   "source": [
    "nest_asyncio.apply()\n",
    "start_time = time.time()\n",
    "init_batches_done = batches_done\n",
    "asyncio.get_event_loop().run_until_complete(process_batches())\n",
    "round_batches_done = batches_done - init_batches_done\n",
    "clear_output()\n",
    "print(f'Batches processed: {round_batches_done}')\n",
    "print(f\"Execution Time: {time.time() - start_time:.2f} seconds\")"
   ]
  }
 ],
 "metadata": {
  "kernelspec": {
   "display_name": "Python 3 (ipykernel)",
   "language": "python",
   "name": "python3"
  },
  "language_info": {
   "codemirror_mode": {
    "name": "ipython",
    "version": 3
   },
   "file_extension": ".py",
   "mimetype": "text/x-python",
   "name": "python",
   "nbconvert_exporter": "python",
   "pygments_lexer": "ipython3",
   "version": "3.13.0"
  }
 },
 "nbformat": 4,
 "nbformat_minor": 5
}
