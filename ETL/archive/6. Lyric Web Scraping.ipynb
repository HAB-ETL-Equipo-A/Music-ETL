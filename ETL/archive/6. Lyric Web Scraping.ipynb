{
 "cells": [
  {
   "cell_type": "code",
   "execution_count": 1,
   "id": "6074d204-ac0c-44e9-9c57-a94ee20821af",
   "metadata": {},
   "outputs": [],
   "source": [
    "import pandas as pd\n",
    "import aiohttp\n",
    "import asyncio\n",
    "import nest_asyncio\n",
    "from urllib.parse import quote_plus\n",
    "import os\n",
    "import json\n",
    "import time\n",
    "from bs4 import BeautifulSoup\n",
    "from IPython.display import clear_output"
   ]
  },
  {
   "cell_type": "code",
   "execution_count": 2,
   "id": "6db23606-26c9-4b41-8647-ea013514ab00",
   "metadata": {},
   "outputs": [],
   "source": [
    "df = pd.read_csv('../datasets/rank_1/query.csv')"
   ]
  },
  {
   "cell_type": "code",
   "execution_count": 3,
   "id": "4f487967-b280-4a5b-ad23-e19c94e37c1f",
   "metadata": {},
   "outputs": [],
   "source": [
    "json_path = '../datasets/rank_1/lyrics.json'\n",
    "\n",
    "if not os.path.exists(json_path):\n",
    "    os.makedirs(os.path.dirname(json_path), exist_ok=True)\n",
    "    with open(json_path, 'w') as json_file:\n",
    "        json.dump({}, json_file)\n",
    "\n",
    "with open(json_path, 'r') as json_file:\n",
    "    existing_data = json.load(json_file)"
   ]
  },
  {
   "cell_type": "code",
   "execution_count": 4,
   "id": "91cc0ca1-50f4-4cf5-bb3b-91b27dd0d0da",
   "metadata": {},
   "outputs": [],
   "source": [
    "batch_size = 100\n",
    "batches_done = int(len(existing_data) / batch_size)\n",
    "batched_dfs = [df.iloc[i:i+batch_size] for i in range(0, len(df), batch_size)]\n",
    "total_batches = len(batched_dfs)\n",
    "total_items = len(df)"
   ]
  },
  {
   "cell_type": "code",
   "execution_count": 5,
   "id": "2015c191-10d6-43c5-a352-ea9a0f245d8e",
   "metadata": {},
   "outputs": [
    {
     "data": {
      "text/plain": [
       "(100, 0, 12, 1175)"
      ]
     },
     "execution_count": 5,
     "metadata": {},
     "output_type": "execute_result"
    }
   ],
   "source": [
    "batch_size, batches_done, total_batches, total_items"
   ]
  },
  {
   "cell_type": "code",
   "execution_count": 6,
   "id": "5d6ebb0f-cf36-4f54-a1f1-a39d05c6ce95",
   "metadata": {},
   "outputs": [],
   "source": [
    "base_url = 'http://search.azlyrics.com'\n",
    "x_param = '3d8668771b0c5d2c207aae1e914bd019a30dd1633e66b7f78328f040c3851ab9'\n",
    "headers = {\n",
    "        \"User-Agent\": \"Mozilla/5.0 (Windows NT 10.0; Win64; x64) AppleWebKit/537.36 (KHTML, like Gecko) Chrome/91.0.4472.124 Safari/537.36\",\n",
    "        \"Accept-Language\": \"en-US,en;q=0.9\",\n",
    "        \"Accept-Encoding\": \"gzip, deflate, br\",\n",
    "        \"Connection\": \"keep-alive\",\n",
    "        \"Upgrade-Insecure-Requests\": \"1\"\n",
    "    }"
   ]
  },
  {
   "cell_type": "code",
   "execution_count": 7,
   "id": "ccaa955f-54fd-438b-bd36-df8a92d414ee",
   "metadata": {},
   "outputs": [],
   "source": [
    "async def search(session, song, artist):\n",
    "    \n",
    "    song_param = quote_plus(song)\n",
    "    artist_param = quote_plus(artist)\n",
    "    \n",
    "    query_string = f\"{song_param}+{artist_param}&x={x_param}\"\n",
    "    \n",
    "    url = f\"{base_url}/search.php?q={query_string}\"\n",
    "    print(url)\n",
    "    \n",
    "    async with session.get(url, headers=headers) as response:\n",
    "        \n",
    "        response.raise_for_status()\n",
    "        \n",
    "        html = await response.text()\n",
    "        soup = BeautifulSoup(html, 'html.parser')\n",
    "\n",
    "        try:\n",
    "            result = soup.find(\"td\", class_=\"text-left visitedlyr\").find('a').get('href')\n",
    "            return result\n",
    "            \n",
    "        except Exception as e:\n",
    "            print(e)\n",
    "            return None"
   ]
  },
  {
   "cell_type": "code",
   "execution_count": 8,
   "id": "0d75f84f-23d8-44cd-a6fd-74e063641d20",
   "metadata": {},
   "outputs": [],
   "source": [
    "async def get_link(song, artist):\n",
    "    async with aiohttp.ClientSession() as session:\n",
    "        link = await asyncio.gather(search(session, song, artist))\n",
    "        return link"
   ]
  },
  {
   "cell_type": "code",
   "execution_count": 9,
   "id": "31634c1b-0942-4870-96e9-23e5c9e456c1",
   "metadata": {},
   "outputs": [],
   "source": [
    "async def get_all_links(df):\n",
    "    tasks = [get_link(song, artist) for song, artist in zip(df[\"Song\"], df[\"Artist\"])]\n",
    "    all_links = await asyncio.gather(*tasks)\n",
    "    return all_links"
   ]
  },
  {
   "cell_type": "code",
   "execution_count": 10,
   "id": "ce76fa12-2e42-48c3-abe8-dfed64fdf87d",
   "metadata": {},
   "outputs": [],
   "source": [
    "def parse_data(track_ids, batch_results):\n",
    "    return {\n",
    "        index: {\"track_id\": track_id, \"link\": link}\n",
    "        for index, (track_id, link) in enumerate(zip(track_ids, batch_results))\n",
    "    }\n",
    "    return {track_id: result for track_id, result in zip(track_ids, batch_results)}"
   ]
  },
  {
   "cell_type": "code",
   "execution_count": 11,
   "id": "af10f592-9118-4e3a-be12-c0c815a3299d",
   "metadata": {},
   "outputs": [],
   "source": [
    "def append_to_file(data):\n",
    "    with open(json_path, 'r') as json_file:\n",
    "        existing_data = json.load(json_file)\n",
    "\n",
    "    existing_data.append(data)\n",
    "    \n",
    "    with open(json_path, 'w') as json_file:\n",
    "        json.dump(existing_data, json_file, indent=4)"
   ]
  },
  {
   "cell_type": "code",
   "execution_count": 12,
   "id": "6d24c953-1542-4ed5-ab83-b771ff3c4c6a",
   "metadata": {},
   "outputs": [],
   "source": [
    "async def process_batches():\n",
    "    global batches_done\n",
    "    while batches_done < total_batches and input('Continue? (y/n): ').lower() == 'y':\n",
    "        current_batch = batched_dfs[batches_done]\n",
    "        batch_results = await get_all_links(current_batch)\n",
    "        if batch_results:\n",
    "            data = parse_data(current_batch['Track ID'], batch_results)\n",
    "            append_to_file(data)\n",
    "            print(f'Processed batch {batches_done+1}/{total_batches}')\n",
    "            batches_done += 1\n",
    "        else:\n",
    "            print(f'Failed to process batch {batches_done+1}')\n",
    "            break"
   ]
  },
  {
   "cell_type": "code",
   "execution_count": 13,
   "id": "1529813c-6501-4f0e-8d07-afa1277f3ba3",
   "metadata": {},
   "outputs": [
    {
     "name": "stdin",
     "output_type": "stream",
     "text": [
      "Continue? (y/n):  y\n"
     ]
    },
    {
     "name": "stdout",
     "output_type": "stream",
     "text": [
      "http://search.azlyrics.com/search.php?q=poor+little+fool+ricky+nelson&x=3d8668771b0c5d2c207aae1e914bd019a30dd1633e66b7f78328f040c3851ab9\n",
      "http://search.azlyrics.com/search.php?q=nel+blu+dipinto+di+domenico+modugno&x=3d8668771b0c5d2c207aae1e914bd019a30dd1633e66b7f78328f040c3851ab9\n",
      "http://search.azlyrics.com/search.php?q=little+star+the+elegants&x=3d8668771b0c5d2c207aae1e914bd019a30dd1633e66b7f78328f040c3851ab9\n",
      "http://search.azlyrics.com/search.php?q=it%27s+all+in+the+tommy+edwards&x=3d8668771b0c5d2c207aae1e914bd019a30dd1633e66b7f78328f040c3851ab9\n",
      "http://search.azlyrics.com/search.php?q=it%27s+only+make+believe+conway+twitty&x=3d8668771b0c5d2c207aae1e914bd019a30dd1633e66b7f78328f040c3851ab9\n",
      "http://search.azlyrics.com/search.php?q=tom+dooley+the+kingston&x=3d8668771b0c5d2c207aae1e914bd019a30dd1633e66b7f78328f040c3851ab9\n",
      "http://search.azlyrics.com/search.php?q=to+know+him+is+the+teddy&x=3d8668771b0c5d2c207aae1e914bd019a30dd1633e66b7f78328f040c3851ab9\n",
      "http://search.azlyrics.com/search.php?q=the+chipmunk+song+the+chipmunks&x=3d8668771b0c5d2c207aae1e914bd019a30dd1633e66b7f78328f040c3851ab9\n",
      "http://search.azlyrics.com/search.php?q=smoke+gets+in+your+the+platters&x=3d8668771b0c5d2c207aae1e914bd019a30dd1633e66b7f78328f040c3851ab9\n",
      "http://search.azlyrics.com/search.php?q=stagger+lee+lloyd+price&x=3d8668771b0c5d2c207aae1e914bd019a30dd1633e66b7f78328f040c3851ab9\n",
      "http://search.azlyrics.com/search.php?q=venus+frankie+avalon&x=3d8668771b0c5d2c207aae1e914bd019a30dd1633e66b7f78328f040c3851ab9\n",
      "http://search.azlyrics.com/search.php?q=come+softly+to+me+the+fleetwoods&x=3d8668771b0c5d2c207aae1e914bd019a30dd1633e66b7f78328f040c3851ab9\n",
      "http://search.azlyrics.com/search.php?q=the+happy+organ+dave+baby&x=3d8668771b0c5d2c207aae1e914bd019a30dd1633e66b7f78328f040c3851ab9\n",
      "http://search.azlyrics.com/search.php?q=kansas+city+wilbert+harrison&x=3d8668771b0c5d2c207aae1e914bd019a30dd1633e66b7f78328f040c3851ab9\n",
      "http://search.azlyrics.com/search.php?q=the+battle+of+new+johnny+horton&x=3d8668771b0c5d2c207aae1e914bd019a30dd1633e66b7f78328f040c3851ab9\n",
      "http://search.azlyrics.com/search.php?q=lonely+boy+paul+anka&x=3d8668771b0c5d2c207aae1e914bd019a30dd1633e66b7f78328f040c3851ab9\n",
      "http://search.azlyrics.com/search.php?q=a+big+hunk+o%27+elvis+presley&x=3d8668771b0c5d2c207aae1e914bd019a30dd1633e66b7f78328f040c3851ab9\n",
      "http://search.azlyrics.com/search.php?q=the+three+bells+the+browns&x=3d8668771b0c5d2c207aae1e914bd019a30dd1633e66b7f78328f040c3851ab9\n",
      "http://search.azlyrics.com/search.php?q=sleep+walk+santo+johnny&x=3d8668771b0c5d2c207aae1e914bd019a30dd1633e66b7f78328f040c3851ab9\n",
      "http://search.azlyrics.com/search.php?q=mack+the+knife+bobby+darin&x=3d8668771b0c5d2c207aae1e914bd019a30dd1633e66b7f78328f040c3851ab9\n",
      "http://search.azlyrics.com/search.php?q=mr.+blue+the+fleetwoods&x=3d8668771b0c5d2c207aae1e914bd019a30dd1633e66b7f78328f040c3851ab9\n",
      "http://search.azlyrics.com/search.php?q=heartaches+by+the+number+guy+mitchell&x=3d8668771b0c5d2c207aae1e914bd019a30dd1633e66b7f78328f040c3851ab9\n",
      "http://search.azlyrics.com/search.php?q=why+frankie+avalon&x=3d8668771b0c5d2c207aae1e914bd019a30dd1633e66b7f78328f040c3851ab9\n",
      "http://search.azlyrics.com/search.php?q=el+paso+marty+robbins&x=3d8668771b0c5d2c207aae1e914bd019a30dd1633e66b7f78328f040c3851ab9\n",
      "http://search.azlyrics.com/search.php?q=running+bear+johnny+preston&x=3d8668771b0c5d2c207aae1e914bd019a30dd1633e66b7f78328f040c3851ab9\n",
      "http://search.azlyrics.com/search.php?q=teen+angel+mark+dinning&x=3d8668771b0c5d2c207aae1e914bd019a30dd1633e66b7f78328f040c3851ab9\n",
      "http://search.azlyrics.com/search.php?q=the+theme+from+a+percy+faith&x=3d8668771b0c5d2c207aae1e914bd019a30dd1633e66b7f78328f040c3851ab9\n",
      "http://search.azlyrics.com/search.php?q=stuck+on+you+elvis+presley&x=3d8668771b0c5d2c207aae1e914bd019a30dd1633e66b7f78328f040c3851ab9\n",
      "http://search.azlyrics.com/search.php?q=cathy%27s+clown+the+everly&x=3d8668771b0c5d2c207aae1e914bd019a30dd1633e66b7f78328f040c3851ab9\n",
      "http://search.azlyrics.com/search.php?q=everybody%27s+somebody%27s+fool+connie+francis&x=3d8668771b0c5d2c207aae1e914bd019a30dd1633e66b7f78328f040c3851ab9\n",
      "http://search.azlyrics.com/search.php?q=alley-oop+hollywood+argyles&x=3d8668771b0c5d2c207aae1e914bd019a30dd1633e66b7f78328f040c3851ab9\n",
      "http://search.azlyrics.com/search.php?q=i%27m+sorry+brenda+lee&x=3d8668771b0c5d2c207aae1e914bd019a30dd1633e66b7f78328f040c3851ab9\n",
      "http://search.azlyrics.com/search.php?q=itsy+bitsy+teenie+weenie+brian+hyland&x=3d8668771b0c5d2c207aae1e914bd019a30dd1633e66b7f78328f040c3851ab9\n",
      "http://search.azlyrics.com/search.php?q=it%27s+now+or+never+elvis+presley&x=3d8668771b0c5d2c207aae1e914bd019a30dd1633e66b7f78328f040c3851ab9\n",
      "http://search.azlyrics.com/search.php?q=the+twist+chubby+checker&x=3d8668771b0c5d2c207aae1e914bd019a30dd1633e66b7f78328f040c3851ab9\n",
      "http://search.azlyrics.com/search.php?q=my+heart+has+a+connie+francis&x=3d8668771b0c5d2c207aae1e914bd019a30dd1633e66b7f78328f040c3851ab9\n",
      "http://search.azlyrics.com/search.php?q=mr.+custer+larry+verne&x=3d8668771b0c5d2c207aae1e914bd019a30dd1633e66b7f78328f040c3851ab9\n",
      "http://search.azlyrics.com/search.php?q=save+the+last+dance+the+drifters&x=3d8668771b0c5d2c207aae1e914bd019a30dd1633e66b7f78328f040c3851ab9\n",
      "http://search.azlyrics.com/search.php?q=i+want+to+be+brenda+lee&x=3d8668771b0c5d2c207aae1e914bd019a30dd1633e66b7f78328f040c3851ab9\n",
      "http://search.azlyrics.com/search.php?q=georgia+on+my+mind+ray+charles&x=3d8668771b0c5d2c207aae1e914bd019a30dd1633e66b7f78328f040c3851ab9\n",
      "http://search.azlyrics.com/search.php?q=stay+maurice+williams&x=3d8668771b0c5d2c207aae1e914bd019a30dd1633e66b7f78328f040c3851ab9\n",
      "http://search.azlyrics.com/search.php?q=are+you+lonesome+to-night+elvis+presley&x=3d8668771b0c5d2c207aae1e914bd019a30dd1633e66b7f78328f040c3851ab9\n",
      "http://search.azlyrics.com/search.php?q=wonderland+by+night+bert+kaempfert&x=3d8668771b0c5d2c207aae1e914bd019a30dd1633e66b7f78328f040c3851ab9\n",
      "http://search.azlyrics.com/search.php?q=will+you+love+me+the+shirelles&x=3d8668771b0c5d2c207aae1e914bd019a30dd1633e66b7f78328f040c3851ab9\n",
      "http://search.azlyrics.com/search.php?q=calcutta+lawrence+welk&x=3d8668771b0c5d2c207aae1e914bd019a30dd1633e66b7f78328f040c3851ab9\n",
      "http://search.azlyrics.com/search.php?q=pony+time+chubby+checker&x=3d8668771b0c5d2c207aae1e914bd019a30dd1633e66b7f78328f040c3851ab9\n",
      "http://search.azlyrics.com/search.php?q=surrender+elvis+presley&x=3d8668771b0c5d2c207aae1e914bd019a30dd1633e66b7f78328f040c3851ab9\n",
      "http://search.azlyrics.com/search.php?q=blue+moon+the+marcels&x=3d8668771b0c5d2c207aae1e914bd019a30dd1633e66b7f78328f040c3851ab9\n",
      "http://search.azlyrics.com/search.php?q=runaway+del+shannon&x=3d8668771b0c5d2c207aae1e914bd019a30dd1633e66b7f78328f040c3851ab9\n",
      "http://search.azlyrics.com/search.php?q=mother-in-law+ernie+k-doe&x=3d8668771b0c5d2c207aae1e914bd019a30dd1633e66b7f78328f040c3851ab9\n",
      "http://search.azlyrics.com/search.php?q=travelin%27+man+ricky+nelson&x=3d8668771b0c5d2c207aae1e914bd019a30dd1633e66b7f78328f040c3851ab9\n",
      "http://search.azlyrics.com/search.php?q=running+scared+roy+orbison&x=3d8668771b0c5d2c207aae1e914bd019a30dd1633e66b7f78328f040c3851ab9\n",
      "http://search.azlyrics.com/search.php?q=moody+river+pat+boone&x=3d8668771b0c5d2c207aae1e914bd019a30dd1633e66b7f78328f040c3851ab9\n",
      "http://search.azlyrics.com/search.php?q=quarter+to+three+u.s.+bonds&x=3d8668771b0c5d2c207aae1e914bd019a30dd1633e66b7f78328f040c3851ab9\n",
      "http://search.azlyrics.com/search.php?q=tossin%27+and+turnin%27+bobby+lewis&x=3d8668771b0c5d2c207aae1e914bd019a30dd1633e66b7f78328f040c3851ab9\n",
      "http://search.azlyrics.com/search.php?q=wooden+heart+joe+dowell&x=3d8668771b0c5d2c207aae1e914bd019a30dd1633e66b7f78328f040c3851ab9\n",
      "http://search.azlyrics.com/search.php?q=michael+the+highwaymen&x=3d8668771b0c5d2c207aae1e914bd019a30dd1633e66b7f78328f040c3851ab9\n",
      "http://search.azlyrics.com/search.php?q=take+good+care+of+bobby+vee&x=3d8668771b0c5d2c207aae1e914bd019a30dd1633e66b7f78328f040c3851ab9\n",
      "http://search.azlyrics.com/search.php?q=hit+the+road+jack+ray+charles&x=3d8668771b0c5d2c207aae1e914bd019a30dd1633e66b7f78328f040c3851ab9\n",
      "http://search.azlyrics.com/search.php?q=runaround+sue+dion&x=3d8668771b0c5d2c207aae1e914bd019a30dd1633e66b7f78328f040c3851ab9\n",
      "http://search.azlyrics.com/search.php?q=big+bad+john+jimmy+dean&x=3d8668771b0c5d2c207aae1e914bd019a30dd1633e66b7f78328f040c3851ab9\n",
      "http://search.azlyrics.com/search.php?q=please+mr.+postman+the+marvelettes&x=3d8668771b0c5d2c207aae1e914bd019a30dd1633e66b7f78328f040c3851ab9\n",
      "http://search.azlyrics.com/search.php?q=the+lion+sleeps+tonight+the+tokens&x=3d8668771b0c5d2c207aae1e914bd019a30dd1633e66b7f78328f040c3851ab9\n",
      "http://search.azlyrics.com/search.php?q=peppermint+twist+-+part+joey+dee&x=3d8668771b0c5d2c207aae1e914bd019a30dd1633e66b7f78328f040c3851ab9\n",
      "http://search.azlyrics.com/search.php?q=duke+of+earl+gene+chandler&x=3d8668771b0c5d2c207aae1e914bd019a30dd1633e66b7f78328f040c3851ab9\n",
      "http://search.azlyrics.com/search.php?q=hey+baby+bruce+channel&x=3d8668771b0c5d2c207aae1e914bd019a30dd1633e66b7f78328f040c3851ab9\n",
      "http://search.azlyrics.com/search.php?q=don%27t+break+the+heart+connie+francis&x=3d8668771b0c5d2c207aae1e914bd019a30dd1633e66b7f78328f040c3851ab9\n",
      "http://search.azlyrics.com/search.php?q=johnny+angel+shelley+fabares&x=3d8668771b0c5d2c207aae1e914bd019a30dd1633e66b7f78328f040c3851ab9\n",
      "http://search.azlyrics.com/search.php?q=good+luck+charm+elvis+presley&x=3d8668771b0c5d2c207aae1e914bd019a30dd1633e66b7f78328f040c3851ab9\n",
      "http://search.azlyrics.com/search.php?q=soldier+boy+the+shirelles&x=3d8668771b0c5d2c207aae1e914bd019a30dd1633e66b7f78328f040c3851ab9\n",
      "http://search.azlyrics.com/search.php?q=stranger+on+the+shore+mr.+acker&x=3d8668771b0c5d2c207aae1e914bd019a30dd1633e66b7f78328f040c3851ab9\n",
      "http://search.azlyrics.com/search.php?q=i+can%27t+stop+loving+ray+charles&x=3d8668771b0c5d2c207aae1e914bd019a30dd1633e66b7f78328f040c3851ab9\n",
      "http://search.azlyrics.com/search.php?q=the+stripper+david+rose&x=3d8668771b0c5d2c207aae1e914bd019a30dd1633e66b7f78328f040c3851ab9\n",
      "http://search.azlyrics.com/search.php?q=roses+are+red+bobby+vinton&x=3d8668771b0c5d2c207aae1e914bd019a30dd1633e66b7f78328f040c3851ab9\n",
      "http://search.azlyrics.com/search.php?q=breaking+up+is+hard+neil+sedaka&x=3d8668771b0c5d2c207aae1e914bd019a30dd1633e66b7f78328f040c3851ab9\n",
      "http://search.azlyrics.com/search.php?q=the+loco-motion+little+eva&x=3d8668771b0c5d2c207aae1e914bd019a30dd1633e66b7f78328f040c3851ab9\n",
      "http://search.azlyrics.com/search.php?q=sheila+tommy+roe&x=3d8668771b0c5d2c207aae1e914bd019a30dd1633e66b7f78328f040c3851ab9\n",
      "http://search.azlyrics.com/search.php?q=sherry+the+4&x=3d8668771b0c5d2c207aae1e914bd019a30dd1633e66b7f78328f040c3851ab9\n",
      "http://search.azlyrics.com/search.php?q=monster+mash+bobby+boris&x=3d8668771b0c5d2c207aae1e914bd019a30dd1633e66b7f78328f040c3851ab9\n",
      "http://search.azlyrics.com/search.php?q=he%27s+a+rebel+the+crystals&x=3d8668771b0c5d2c207aae1e914bd019a30dd1633e66b7f78328f040c3851ab9\n",
      "http://search.azlyrics.com/search.php?q=big+girls+don%27t+cry+the+4&x=3d8668771b0c5d2c207aae1e914bd019a30dd1633e66b7f78328f040c3851ab9\n",
      "http://search.azlyrics.com/search.php?q=telstar+the+tornadoes&x=3d8668771b0c5d2c207aae1e914bd019a30dd1633e66b7f78328f040c3851ab9\n",
      "http://search.azlyrics.com/search.php?q=go+away+little+girl+steve+lawrence&x=3d8668771b0c5d2c207aae1e914bd019a30dd1633e66b7f78328f040c3851ab9\n",
      "http://search.azlyrics.com/search.php?q=walk+right+in+the+rooftop&x=3d8668771b0c5d2c207aae1e914bd019a30dd1633e66b7f78328f040c3851ab9\n",
      "http://search.azlyrics.com/search.php?q=hey+paula+paul+and&x=3d8668771b0c5d2c207aae1e914bd019a30dd1633e66b7f78328f040c3851ab9\n",
      "http://search.azlyrics.com/search.php?q=walk+like+a+man+the+4&x=3d8668771b0c5d2c207aae1e914bd019a30dd1633e66b7f78328f040c3851ab9\n",
      "http://search.azlyrics.com/search.php?q=our+day+will+come+ruby+and&x=3d8668771b0c5d2c207aae1e914bd019a30dd1633e66b7f78328f040c3851ab9\n",
      "http://search.azlyrics.com/search.php?q=he%27s+so+fine+the+chiffons&x=3d8668771b0c5d2c207aae1e914bd019a30dd1633e66b7f78328f040c3851ab9\n",
      "http://search.azlyrics.com/search.php?q=i+will+follow+him+little+peggy&x=3d8668771b0c5d2c207aae1e914bd019a30dd1633e66b7f78328f040c3851ab9\n",
      "http://search.azlyrics.com/search.php?q=if+you+wanna+be+jimmy+soul&x=3d8668771b0c5d2c207aae1e914bd019a30dd1633e66b7f78328f040c3851ab9\n",
      "http://search.azlyrics.com/search.php?q=it%27s+my+party+lesley+gore&x=3d8668771b0c5d2c207aae1e914bd019a30dd1633e66b7f78328f040c3851ab9\n",
      "http://search.azlyrics.com/search.php?q=sukiyaki+kyu+sakamoto&x=3d8668771b0c5d2c207aae1e914bd019a30dd1633e66b7f78328f040c3851ab9\n",
      "http://search.azlyrics.com/search.php?q=easier+said+than+done+the+essex&x=3d8668771b0c5d2c207aae1e914bd019a30dd1633e66b7f78328f040c3851ab9\n",
      "http://search.azlyrics.com/search.php?q=surf+city+jan+dean&x=3d8668771b0c5d2c207aae1e914bd019a30dd1633e66b7f78328f040c3851ab9\n",
      "http://search.azlyrics.com/search.php?q=so+much+in+love+the+tymes&x=3d8668771b0c5d2c207aae1e914bd019a30dd1633e66b7f78328f040c3851ab9\n",
      "http://search.azlyrics.com/search.php?q=fingertips+-+pt+2+little+stevie&x=3d8668771b0c5d2c207aae1e914bd019a30dd1633e66b7f78328f040c3851ab9\n",
      "http://search.azlyrics.com/search.php?q=my+boyfriend%27s+back+the+angels&x=3d8668771b0c5d2c207aae1e914bd019a30dd1633e66b7f78328f040c3851ab9\n",
      "http://search.azlyrics.com/search.php?q=blue+velvet+bobby+vinton&x=3d8668771b0c5d2c207aae1e914bd019a30dd1633e66b7f78328f040c3851ab9\n",
      "http://search.azlyrics.com/search.php?q=sugar+shack+jimmy+gilmer&x=3d8668771b0c5d2c207aae1e914bd019a30dd1633e66b7f78328f040c3851ab9\n",
      "http://search.azlyrics.com/search.php?q=deep+purple+nino+tempo&x=3d8668771b0c5d2c207aae1e914bd019a30dd1633e66b7f78328f040c3851ab9\n",
      "'NoneType' object has no attribute 'find'\n",
      "'NoneType' object has no attribute 'find'\n",
      "'NoneType' object has no attribute 'find'\n",
      "'NoneType' object has no attribute 'find'\n",
      "'NoneType' object has no attribute 'find'\n",
      "'NoneType' object has no attribute 'find'\n",
      "'NoneType' object has no attribute 'find'\n",
      "'NoneType' object has no attribute 'find'\n",
      "'NoneType' object has no attribute 'find'\n",
      "'NoneType' object has no attribute 'find'\n",
      "'NoneType' object has no attribute 'find'\n",
      "'NoneType' object has no attribute 'find'\n",
      "'NoneType' object has no attribute 'find'\n",
      "'NoneType' object has no attribute 'find'\n",
      "'NoneType' object has no attribute 'find'\n",
      "'NoneType' object has no attribute 'find'\n",
      "'NoneType' object has no attribute 'find'\n",
      "'NoneType' object has no attribute 'find'\n",
      "'NoneType' object has no attribute 'find'\n",
      "'NoneType' object has no attribute 'find'\n",
      "'NoneType' object has no attribute 'find'\n",
      "'NoneType' object has no attribute 'find'\n",
      "'NoneType' object has no attribute 'find'\n",
      "'NoneType' object has no attribute 'find'\n",
      "'NoneType' object has no attribute 'find'\n",
      "'NoneType' object has no attribute 'find'\n"
     ]
    },
    {
     "ename": "ClientResponseError",
     "evalue": "403, message='Forbidden', url='https://b.azlyrics.com/?u=/search.php'",
     "output_type": "error",
     "traceback": [
      "\u001b[0;31m---------------------------------------------------------------------------\u001b[0m",
      "\u001b[0;31mClientResponseError\u001b[0m                       Traceback (most recent call last)",
      "Cell \u001b[0;32mIn[13], line 4\u001b[0m\n\u001b[1;32m      2\u001b[0m start_time \u001b[38;5;241m=\u001b[39m time\u001b[38;5;241m.\u001b[39mtime()\n\u001b[1;32m      3\u001b[0m init_batches_done \u001b[38;5;241m=\u001b[39m batches_done\n\u001b[0;32m----> 4\u001b[0m \u001b[43masyncio\u001b[49m\u001b[38;5;241;43m.\u001b[39;49m\u001b[43mget_event_loop\u001b[49m\u001b[43m(\u001b[49m\u001b[43m)\u001b[49m\u001b[38;5;241;43m.\u001b[39;49m\u001b[43mrun_until_complete\u001b[49m\u001b[43m(\u001b[49m\u001b[43mprocess_batches\u001b[49m\u001b[43m(\u001b[49m\u001b[43m)\u001b[49m\u001b[43m)\u001b[49m\n\u001b[1;32m      5\u001b[0m round_batches_done \u001b[38;5;241m=\u001b[39m batches_done \u001b[38;5;241m-\u001b[39m init_batches_done\n\u001b[1;32m      6\u001b[0m clear_output()\n",
      "File \u001b[0;32m~/.conda/envs/projectenv/lib/python3.12/site-packages/nest_asyncio.py:98\u001b[0m, in \u001b[0;36m_patch_loop.<locals>.run_until_complete\u001b[0;34m(self, future)\u001b[0m\n\u001b[1;32m     95\u001b[0m \u001b[38;5;28;01mif\u001b[39;00m \u001b[38;5;129;01mnot\u001b[39;00m f\u001b[38;5;241m.\u001b[39mdone():\n\u001b[1;32m     96\u001b[0m     \u001b[38;5;28;01mraise\u001b[39;00m \u001b[38;5;167;01mRuntimeError\u001b[39;00m(\n\u001b[1;32m     97\u001b[0m         \u001b[38;5;124m'\u001b[39m\u001b[38;5;124mEvent loop stopped before Future completed.\u001b[39m\u001b[38;5;124m'\u001b[39m)\n\u001b[0;32m---> 98\u001b[0m \u001b[38;5;28;01mreturn\u001b[39;00m \u001b[43mf\u001b[49m\u001b[38;5;241;43m.\u001b[39;49m\u001b[43mresult\u001b[49m\u001b[43m(\u001b[49m\u001b[43m)\u001b[49m\n",
      "File \u001b[0;32m~/.conda/envs/projectenv/lib/python3.12/asyncio/futures.py:203\u001b[0m, in \u001b[0;36mFuture.result\u001b[0;34m(self)\u001b[0m\n\u001b[1;32m    201\u001b[0m \u001b[38;5;28mself\u001b[39m\u001b[38;5;241m.\u001b[39m__log_traceback \u001b[38;5;241m=\u001b[39m \u001b[38;5;28;01mFalse\u001b[39;00m\n\u001b[1;32m    202\u001b[0m \u001b[38;5;28;01mif\u001b[39;00m \u001b[38;5;28mself\u001b[39m\u001b[38;5;241m.\u001b[39m_exception \u001b[38;5;129;01mis\u001b[39;00m \u001b[38;5;129;01mnot\u001b[39;00m \u001b[38;5;28;01mNone\u001b[39;00m:\n\u001b[0;32m--> 203\u001b[0m     \u001b[38;5;28;01mraise\u001b[39;00m \u001b[38;5;28mself\u001b[39m\u001b[38;5;241m.\u001b[39m_exception\u001b[38;5;241m.\u001b[39mwith_traceback(\u001b[38;5;28mself\u001b[39m\u001b[38;5;241m.\u001b[39m_exception_tb)\n\u001b[1;32m    204\u001b[0m \u001b[38;5;28;01mreturn\u001b[39;00m \u001b[38;5;28mself\u001b[39m\u001b[38;5;241m.\u001b[39m_result\n",
      "File \u001b[0;32m~/.conda/envs/projectenv/lib/python3.12/asyncio/tasks.py:316\u001b[0m, in \u001b[0;36mTask.__step_run_and_handle_result\u001b[0;34m(***failed resolving arguments***)\u001b[0m\n\u001b[1;32m    314\u001b[0m         result \u001b[38;5;241m=\u001b[39m coro\u001b[38;5;241m.\u001b[39msend(\u001b[38;5;28;01mNone\u001b[39;00m)\n\u001b[1;32m    315\u001b[0m     \u001b[38;5;28;01melse\u001b[39;00m:\n\u001b[0;32m--> 316\u001b[0m         result \u001b[38;5;241m=\u001b[39m \u001b[43mcoro\u001b[49m\u001b[38;5;241;43m.\u001b[39;49m\u001b[43mthrow\u001b[49m\u001b[43m(\u001b[49m\u001b[43mexc\u001b[49m\u001b[43m)\u001b[49m\n\u001b[1;32m    317\u001b[0m \u001b[38;5;28;01mexcept\u001b[39;00m \u001b[38;5;167;01mStopIteration\u001b[39;00m \u001b[38;5;28;01mas\u001b[39;00m exc:\n\u001b[1;32m    318\u001b[0m     \u001b[38;5;28;01mif\u001b[39;00m \u001b[38;5;28mself\u001b[39m\u001b[38;5;241m.\u001b[39m_must_cancel:\n\u001b[1;32m    319\u001b[0m         \u001b[38;5;66;03m# Task is cancelled right before coro stops.\u001b[39;00m\n",
      "Cell \u001b[0;32mIn[12], line 5\u001b[0m, in \u001b[0;36mprocess_batches\u001b[0;34m()\u001b[0m\n\u001b[1;32m      3\u001b[0m \u001b[38;5;28;01mwhile\u001b[39;00m batches_done \u001b[38;5;241m<\u001b[39m total_batches \u001b[38;5;129;01mand\u001b[39;00m \u001b[38;5;28minput\u001b[39m(\u001b[38;5;124m'\u001b[39m\u001b[38;5;124mContinue? (y/n): \u001b[39m\u001b[38;5;124m'\u001b[39m)\u001b[38;5;241m.\u001b[39mlower() \u001b[38;5;241m==\u001b[39m \u001b[38;5;124m'\u001b[39m\u001b[38;5;124my\u001b[39m\u001b[38;5;124m'\u001b[39m:\n\u001b[1;32m      4\u001b[0m     current_batch \u001b[38;5;241m=\u001b[39m batched_dfs[batches_done]\n\u001b[0;32m----> 5\u001b[0m     batch_results \u001b[38;5;241m=\u001b[39m \u001b[38;5;28;01mawait\u001b[39;00m get_all_links(current_batch)\n\u001b[1;32m      6\u001b[0m     \u001b[38;5;28;01mif\u001b[39;00m batch_results:\n\u001b[1;32m      7\u001b[0m         data \u001b[38;5;241m=\u001b[39m parse_data(current_batch[\u001b[38;5;124m'\u001b[39m\u001b[38;5;124mTrack ID\u001b[39m\u001b[38;5;124m'\u001b[39m], batch_results)\n",
      "Cell \u001b[0;32mIn[9], line 3\u001b[0m, in \u001b[0;36mget_all_links\u001b[0;34m(df)\u001b[0m\n\u001b[1;32m      1\u001b[0m \u001b[38;5;28;01masync\u001b[39;00m \u001b[38;5;28;01mdef\u001b[39;00m \u001b[38;5;21mget_all_links\u001b[39m(df):\n\u001b[1;32m      2\u001b[0m     tasks \u001b[38;5;241m=\u001b[39m [get_link(song, artist) \u001b[38;5;28;01mfor\u001b[39;00m song, artist \u001b[38;5;129;01min\u001b[39;00m \u001b[38;5;28mzip\u001b[39m(df[\u001b[38;5;124m\"\u001b[39m\u001b[38;5;124mSong\u001b[39m\u001b[38;5;124m\"\u001b[39m], df[\u001b[38;5;124m\"\u001b[39m\u001b[38;5;124mArtist\u001b[39m\u001b[38;5;124m\"\u001b[39m])]\n\u001b[0;32m----> 3\u001b[0m     all_links \u001b[38;5;241m=\u001b[39m \u001b[38;5;28;01mawait\u001b[39;00m asyncio\u001b[38;5;241m.\u001b[39mgather(\u001b[38;5;241m*\u001b[39mtasks)\n\u001b[1;32m      4\u001b[0m     \u001b[38;5;28;01mreturn\u001b[39;00m all_links\n",
      "File \u001b[0;32m~/.conda/envs/projectenv/lib/python3.12/asyncio/tasks.py:385\u001b[0m, in \u001b[0;36mTask.__wakeup\u001b[0;34m(self, future)\u001b[0m\n\u001b[1;32m    383\u001b[0m \u001b[38;5;28;01mdef\u001b[39;00m \u001b[38;5;21m__wakeup\u001b[39m(\u001b[38;5;28mself\u001b[39m, future):\n\u001b[1;32m    384\u001b[0m     \u001b[38;5;28;01mtry\u001b[39;00m:\n\u001b[0;32m--> 385\u001b[0m         \u001b[43mfuture\u001b[49m\u001b[38;5;241;43m.\u001b[39;49m\u001b[43mresult\u001b[49m\u001b[43m(\u001b[49m\u001b[43m)\u001b[49m\n\u001b[1;32m    386\u001b[0m     \u001b[38;5;28;01mexcept\u001b[39;00m \u001b[38;5;167;01mBaseException\u001b[39;00m \u001b[38;5;28;01mas\u001b[39;00m exc:\n\u001b[1;32m    387\u001b[0m         \u001b[38;5;66;03m# This may also be a cancellation.\u001b[39;00m\n\u001b[1;32m    388\u001b[0m         \u001b[38;5;28mself\u001b[39m\u001b[38;5;241m.\u001b[39m__step(exc)\n",
      "File \u001b[0;32m~/.conda/envs/projectenv/lib/python3.12/asyncio/tasks.py:314\u001b[0m, in \u001b[0;36mTask.__step_run_and_handle_result\u001b[0;34m(***failed resolving arguments***)\u001b[0m\n\u001b[1;32m    310\u001b[0m \u001b[38;5;28;01mtry\u001b[39;00m:\n\u001b[1;32m    311\u001b[0m     \u001b[38;5;28;01mif\u001b[39;00m exc \u001b[38;5;129;01mis\u001b[39;00m \u001b[38;5;28;01mNone\u001b[39;00m:\n\u001b[1;32m    312\u001b[0m         \u001b[38;5;66;03m# We use the `send` method directly, because coroutines\u001b[39;00m\n\u001b[1;32m    313\u001b[0m         \u001b[38;5;66;03m# don't have `__iter__` and `__next__` methods.\u001b[39;00m\n\u001b[0;32m--> 314\u001b[0m         result \u001b[38;5;241m=\u001b[39m \u001b[43mcoro\u001b[49m\u001b[38;5;241;43m.\u001b[39;49m\u001b[43msend\u001b[49m\u001b[43m(\u001b[49m\u001b[38;5;28;43;01mNone\u001b[39;49;00m\u001b[43m)\u001b[49m\n\u001b[1;32m    315\u001b[0m     \u001b[38;5;28;01melse\u001b[39;00m:\n\u001b[1;32m    316\u001b[0m         result \u001b[38;5;241m=\u001b[39m coro\u001b[38;5;241m.\u001b[39mthrow(exc)\n",
      "Cell \u001b[0;32mIn[8], line 3\u001b[0m, in \u001b[0;36mget_link\u001b[0;34m(song, artist)\u001b[0m\n\u001b[1;32m      1\u001b[0m \u001b[38;5;28;01masync\u001b[39;00m \u001b[38;5;28;01mdef\u001b[39;00m \u001b[38;5;21mget_link\u001b[39m(song, artist):\n\u001b[1;32m      2\u001b[0m     \u001b[38;5;28;01masync\u001b[39;00m \u001b[38;5;28;01mwith\u001b[39;00m aiohttp\u001b[38;5;241m.\u001b[39mClientSession() \u001b[38;5;28;01mas\u001b[39;00m session:\n\u001b[0;32m----> 3\u001b[0m         link \u001b[38;5;241m=\u001b[39m \u001b[38;5;28;01mawait\u001b[39;00m asyncio\u001b[38;5;241m.\u001b[39mgather(search(session, song, artist))\n\u001b[1;32m      4\u001b[0m         \u001b[38;5;28;01mreturn\u001b[39;00m link\n",
      "File \u001b[0;32m~/.conda/envs/projectenv/lib/python3.12/asyncio/tasks.py:385\u001b[0m, in \u001b[0;36mTask.__wakeup\u001b[0;34m(self, future)\u001b[0m\n\u001b[1;32m    383\u001b[0m \u001b[38;5;28;01mdef\u001b[39;00m \u001b[38;5;21m__wakeup\u001b[39m(\u001b[38;5;28mself\u001b[39m, future):\n\u001b[1;32m    384\u001b[0m     \u001b[38;5;28;01mtry\u001b[39;00m:\n\u001b[0;32m--> 385\u001b[0m         \u001b[43mfuture\u001b[49m\u001b[38;5;241;43m.\u001b[39;49m\u001b[43mresult\u001b[49m\u001b[43m(\u001b[49m\u001b[43m)\u001b[49m\n\u001b[1;32m    386\u001b[0m     \u001b[38;5;28;01mexcept\u001b[39;00m \u001b[38;5;167;01mBaseException\u001b[39;00m \u001b[38;5;28;01mas\u001b[39;00m exc:\n\u001b[1;32m    387\u001b[0m         \u001b[38;5;66;03m# This may also be a cancellation.\u001b[39;00m\n\u001b[1;32m    388\u001b[0m         \u001b[38;5;28mself\u001b[39m\u001b[38;5;241m.\u001b[39m__step(exc)\n",
      "File \u001b[0;32m~/.conda/envs/projectenv/lib/python3.12/asyncio/tasks.py:314\u001b[0m, in \u001b[0;36mTask.__step_run_and_handle_result\u001b[0;34m(***failed resolving arguments***)\u001b[0m\n\u001b[1;32m    310\u001b[0m \u001b[38;5;28;01mtry\u001b[39;00m:\n\u001b[1;32m    311\u001b[0m     \u001b[38;5;28;01mif\u001b[39;00m exc \u001b[38;5;129;01mis\u001b[39;00m \u001b[38;5;28;01mNone\u001b[39;00m:\n\u001b[1;32m    312\u001b[0m         \u001b[38;5;66;03m# We use the `send` method directly, because coroutines\u001b[39;00m\n\u001b[1;32m    313\u001b[0m         \u001b[38;5;66;03m# don't have `__iter__` and `__next__` methods.\u001b[39;00m\n\u001b[0;32m--> 314\u001b[0m         result \u001b[38;5;241m=\u001b[39m \u001b[43mcoro\u001b[49m\u001b[38;5;241;43m.\u001b[39;49m\u001b[43msend\u001b[49m\u001b[43m(\u001b[49m\u001b[38;5;28;43;01mNone\u001b[39;49;00m\u001b[43m)\u001b[49m\n\u001b[1;32m    315\u001b[0m     \u001b[38;5;28;01melse\u001b[39;00m:\n\u001b[1;32m    316\u001b[0m         result \u001b[38;5;241m=\u001b[39m coro\u001b[38;5;241m.\u001b[39mthrow(exc)\n",
      "Cell \u001b[0;32mIn[7], line 13\u001b[0m, in \u001b[0;36msearch\u001b[0;34m(session, song, artist)\u001b[0m\n\u001b[1;32m      9\u001b[0m \u001b[38;5;28mprint\u001b[39m(url)\n\u001b[1;32m     11\u001b[0m \u001b[38;5;28;01masync\u001b[39;00m \u001b[38;5;28;01mwith\u001b[39;00m session\u001b[38;5;241m.\u001b[39mget(url, headers\u001b[38;5;241m=\u001b[39mheaders) \u001b[38;5;28;01mas\u001b[39;00m response:\n\u001b[0;32m---> 13\u001b[0m     \u001b[43mresponse\u001b[49m\u001b[38;5;241;43m.\u001b[39;49m\u001b[43mraise_for_status\u001b[49m\u001b[43m(\u001b[49m\u001b[43m)\u001b[49m\n\u001b[1;32m     15\u001b[0m     html \u001b[38;5;241m=\u001b[39m \u001b[38;5;28;01mawait\u001b[39;00m response\u001b[38;5;241m.\u001b[39mtext()\n\u001b[1;32m     16\u001b[0m     soup \u001b[38;5;241m=\u001b[39m BeautifulSoup(html, \u001b[38;5;124m'\u001b[39m\u001b[38;5;124mhtml.parser\u001b[39m\u001b[38;5;124m'\u001b[39m)\n",
      "File \u001b[0;32m~/.conda/envs/projectenv/lib/python3.12/site-packages/aiohttp/client_reqrep.py:1135\u001b[0m, in \u001b[0;36mClientResponse.raise_for_status\u001b[0;34m(self)\u001b[0m\n\u001b[1;32m   1132\u001b[0m \u001b[38;5;28;01mif\u001b[39;00m \u001b[38;5;129;01mnot\u001b[39;00m \u001b[38;5;28mself\u001b[39m\u001b[38;5;241m.\u001b[39m_in_context:\n\u001b[1;32m   1133\u001b[0m     \u001b[38;5;28mself\u001b[39m\u001b[38;5;241m.\u001b[39mrelease()\n\u001b[0;32m-> 1135\u001b[0m \u001b[38;5;28;01mraise\u001b[39;00m ClientResponseError(\n\u001b[1;32m   1136\u001b[0m     \u001b[38;5;28mself\u001b[39m\u001b[38;5;241m.\u001b[39mrequest_info,\n\u001b[1;32m   1137\u001b[0m     \u001b[38;5;28mself\u001b[39m\u001b[38;5;241m.\u001b[39mhistory,\n\u001b[1;32m   1138\u001b[0m     status\u001b[38;5;241m=\u001b[39m\u001b[38;5;28mself\u001b[39m\u001b[38;5;241m.\u001b[39mstatus,\n\u001b[1;32m   1139\u001b[0m     message\u001b[38;5;241m=\u001b[39m\u001b[38;5;28mself\u001b[39m\u001b[38;5;241m.\u001b[39mreason,\n\u001b[1;32m   1140\u001b[0m     headers\u001b[38;5;241m=\u001b[39m\u001b[38;5;28mself\u001b[39m\u001b[38;5;241m.\u001b[39mheaders,\n\u001b[1;32m   1141\u001b[0m )\n",
      "\u001b[0;31mClientResponseError\u001b[0m: 403, message='Forbidden', url='https://b.azlyrics.com/?u=/search.php'"
     ]
    }
   ],
   "source": [
    "nest_asyncio.apply()\n",
    "start_time = time.time()\n",
    "init_batches_done = batches_done\n",
    "asyncio.get_event_loop().run_until_complete(process_batches())\n",
    "round_batches_done = batches_done - init_batches_done\n",
    "clear_output()\n",
    "print(f'Batches processed: {round_batches_done}')\n",
    "print(f\"Execution Time: {time.time() - start_time:.2f} seconds\")"
   ]
  }
 ],
 "metadata": {
  "kernelspec": {
   "display_name": "Python (projectenv)",
   "language": "python",
   "name": "projectenv"
  },
  "language_info": {
   "codemirror_mode": {
    "name": "ipython",
    "version": 3
   },
   "file_extension": ".py",
   "mimetype": "text/x-python",
   "name": "python",
   "nbconvert_exporter": "python",
   "pygments_lexer": "ipython3",
   "version": "3.12.7"
  }
 },
 "nbformat": 4,
 "nbformat_minor": 5
}
