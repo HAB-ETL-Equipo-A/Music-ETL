{
 "cells": [
  {
   "cell_type": "code",
   "execution_count": 35,
   "id": "0a25bcdf-4f33-4923-83e9-02149497568a",
   "metadata": {},
   "outputs": [],
   "source": [
    "from lyricsgenius import Genius\n",
    "import json\n",
    "import pandas as pd\n",
    "import asyncio\n",
    "import re\n",
    "import os\n",
    "from requests.exceptions import HTTPError\n",
    "from IPython.display import clear_output"
   ]
  },
  {
   "cell_type": "code",
   "execution_count": 36,
   "id": "c7af5377-4577-451f-8fa6-2e1eb4c73c13",
   "metadata": {},
   "outputs": [],
   "source": [
    "with open('../secrets.json') as f:\n",
    "    secrets = json.load(f)\n",
    "    \n",
    "token = secrets['GENIUS_ACCESS_TOKEN']\n",
    "genius = Genius(token)"
   ]
  },
  {
   "cell_type": "code",
   "execution_count": 49,
   "id": "e8b2b4f3-99be-4c7a-be33-9c9d2dbb2dc7",
   "metadata": {},
   "outputs": [],
   "source": [
    "qdf = pd.read_csv('../datasets/rank_1/query.csv')"
   ]
  },
  {
   "cell_type": "code",
   "execution_count": 50,
   "id": "550afc1c-5a3c-46ee-ad28-f85b468bc4ee",
   "metadata": {},
   "outputs": [],
   "source": [
    "artist_cache = {}"
   ]
  },
  {
   "cell_type": "code",
   "execution_count": 56,
   "id": "66c8c8c4-2335-4ffd-8cd8-3105622d2bd8",
   "metadata": {},
   "outputs": [],
   "source": [
    "async def search_artist(artist, retries, delay):\n",
    "    \n",
    "    if artist in artist_cache:\n",
    "        return artist_cache[artist]\n",
    "        \n",
    "    data = None\n",
    "    attempts = 0\n",
    "    \n",
    "    while attempts < retries:\n",
    "        \n",
    "        try:\n",
    "            data = await asyncio.to_thread(genius.search_artist, artist, max_songs=0)\n",
    "            artist_cache[artist] = data\n",
    "            return data\n",
    "            \n",
    "        except Exception as e:\n",
    "            \n",
    "            if isinstance(e, HTTPError) and e.response and e.response.status in {429, 500, 503, 504}:\n",
    "                await asyncio.sleep(delay)\n",
    "                attempts += 1\n",
    "                print('Retrying...')\n",
    "                continue\n",
    "\n",
    "            else:\n",
    "                print(e)\n",
    "                return None\n",
    "            \n",
    "    return data"
   ]
  },
  {
   "cell_type": "code",
   "execution_count": null,
   "id": "2dd146ce-0a6d-443c-b423-4a3bda7c21ca",
   "metadata": {},
   "outputs": [],
   "source": [
    "genius_artists = await asyncio.gather(*(search_artist(artist, retries=1, delay=50) for artist in qdf['Artist']))"
   ]
  },
  {
   "cell_type": "code",
   "execution_count": 27,
   "id": "93ea5d64-07d3-4ed3-a42a-4cc1349495b6",
   "metadata": {},
   "outputs": [],
   "source": [
    "async def search_song(song, artist, retries, delay):\n",
    "    data = None\n",
    "    attempts = 0\n",
    "    while attempts < retries:\n",
    "        try:\n",
    "            data = await asyncio.to_thread(genius.search_song, song, artist.name)\n",
    "            if data:\n",
    "                return data\n",
    "            else:\n",
    "                return None\n",
    "        except Exception as e:\n",
    "            if isinstance(e, HTTPError) and e.response and e.response.status in {429, 500, 503, 504}:\n",
    "                print(f\"Retrying due to error: {e}\")\n",
    "                await asyncio.sleep(delay)\n",
    "                attempts += 1\n",
    "                continue\n",
    "            else:\n",
    "                print(f\"Error: {e}\")\n",
    "    return data"
   ]
  },
  {
   "cell_type": "code",
   "execution_count": null,
   "id": "b8f0985b-aadb-4758-b28e-c026475a2fea",
   "metadata": {},
   "outputs": [],
   "source": [
    "songs_results = await asyncio.gather(*(search_song(song, artist, retries=2, delay=3) for song, artist in zip(qdf['Song'], genius_artists)))"
   ]
  },
  {
   "cell_type": "code",
   "execution_count": 10,
   "id": "0981dbc6-29b3-4264-a5a1-a2e0c9d76456",
   "metadata": {},
   "outputs": [],
   "source": [
    "lyrics = [song.lyrics if song else 'None' for song in songs_results]"
   ]
  },
  {
   "cell_type": "code",
   "execution_count": 11,
   "id": "9eaaeb2e-4b26-474f-8b2d-495c4ece3530",
   "metadata": {},
   "outputs": [],
   "source": [
    "def clean_lyrics(raw_lyrics):\n",
    "    cleaned = re.sub(r'^\\d+\\s+Contributors\\S*\\s+', '', raw_lyrics)\n",
    "    cleaned = re.sub(r\"^.*Lyrics\", '', cleaned)\n",
    "    cleaned = re.sub(r\"\\[.*?\\]\", \"\", cleaned)\n",
    "    cleaned = re.sub(r\"[^a-zA-Z0-9\\s']\", \"\", cleaned)\n",
    "    cleaned = re.sub(r\"\\s+\", \" \", cleaned).strip()\n",
    "    cleaned = re.sub(r\"\\d?Embed.*$\", \"\", cleaned).strip()\n",
    "    return cleaned"
   ]
  },
  {
   "cell_type": "code",
   "execution_count": 12,
   "id": "9c1a9d5a-57d5-4ebd-af97-239017cc489f",
   "metadata": {},
   "outputs": [],
   "source": [
    "lyrics_clean = [clean_lyrics(l) for l in lyrics]"
   ]
  },
  {
   "cell_type": "code",
   "execution_count": 13,
   "id": "3567537d-21cf-4cbe-9cac-f607cb3dde2b",
   "metadata": {},
   "outputs": [],
   "source": [
    "idf = pd.read_csv('../datasets/rank_1/unique.csv')\n",
    "track_ids = idf['Track ID']"
   ]
  },
  {
   "cell_type": "code",
   "execution_count": 14,
   "id": "78d074c2-605d-4090-8e00-b6a345d24a8b",
   "metadata": {},
   "outputs": [],
   "source": [
    "cleaned_with_ids = {\n",
    "    index: {\"track_id\": track_id, \"lyrics\": lyric}\n",
    "    for index, (track_id, lyric) in enumerate(zip(track_ids, lyrics_clean))\n",
    "}"
   ]
  },
  {
   "cell_type": "code",
   "execution_count": 15,
   "id": "f4f0a401-801f-4cdf-88af-f127839cee4f",
   "metadata": {},
   "outputs": [],
   "source": [
    "with open('../datasets/rank_1/lyrics.json', 'w') as json_file:\n",
    "    json.dump(cleaned_with_ids, json_file)"
   ]
  }
 ],
 "metadata": {
  "kernelspec": {
   "display_name": "Python 3 (ipykernel)",
   "language": "python",
   "name": "python3"
  },
  "language_info": {
   "codemirror_mode": {
    "name": "ipython",
    "version": 3
   },
   "file_extension": ".py",
   "mimetype": "text/x-python",
   "name": "python",
   "nbconvert_exporter": "python",
   "pygments_lexer": "ipython3",
   "version": "3.13.0"
  }
 },
 "nbformat": 4,
 "nbformat_minor": 5
}
