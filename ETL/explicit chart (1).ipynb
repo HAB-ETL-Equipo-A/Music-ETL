{
 "cells": [
  {
   "cell_type": "code",
   "execution_count": 7,
   "id": "e152f1f3-3b8e-47c6-ae4f-337b4aaa255a",
   "metadata": {},
   "outputs": [],
   "source": [
    "import pandas as pd\n",
    "import datetime\n",
    "import plotly.express as px\n",
    "\n",
    "charts = pd.read_csv(\"charts.csv\")\n",
    "\n",
    "#charts_sorted = charts.drop_duplicates(subset = \"Song\")\n",
    "#charts_sorted\n",
    "charts\n",
    "charts['Date'] = pd.to_datetime(charts['Date'], format='%Y-%m-%d')\n"
   ]
  },
  {
   "cell_type": "code",
   "execution_count": 9,
   "id": "ab000b3c-7a93-4af8-863c-b22535f0e37d",
   "metadata": {},
   "outputs": [
    {
     "name": "stdout",
     "output_type": "stream",
     "text": [
      "<class 'pandas.core.frame.DataFrame'>\n",
      "RangeIndex: 3456 entries, 0 to 3455\n",
      "Data columns (total 5 columns):\n",
      " #   Column           Non-Null Count  Dtype         \n",
      "---  ------           --------------  -----         \n",
      " 0   Date             3456 non-null   datetime64[ns]\n",
      " 1   Song             3456 non-null   object        \n",
      " 2   Artist           3456 non-null   object        \n",
      " 3   Weeks in Charts  3456 non-null   object        \n",
      " 4   Track ID         3456 non-null   object        \n",
      "dtypes: datetime64[ns](1), object(4)\n",
      "memory usage: 135.1+ KB\n"
     ]
    }
   ],
   "source": [
    "charts.info()"
   ]
  },
  {
   "cell_type": "code",
   "execution_count": 11,
   "id": "ac25506f-1767-4697-8347-0da64f8d68a8",
   "metadata": {},
   "outputs": [],
   "source": [
    "info = pd.read_csv(\"track_info.csv\")"
   ]
  },
  {
   "cell_type": "code",
   "execution_count": 13,
   "id": "1971d971-e26b-47f7-841c-ef282af731ac",
   "metadata": {},
   "outputs": [
    {
     "data": {
      "text/html": [
       "<div>\n",
       "<style scoped>\n",
       "    .dataframe tbody tr th:only-of-type {\n",
       "        vertical-align: middle;\n",
       "    }\n",
       "\n",
       "    .dataframe tbody tr th {\n",
       "        vertical-align: top;\n",
       "    }\n",
       "\n",
       "    .dataframe thead th {\n",
       "        text-align: right;\n",
       "    }\n",
       "</style>\n",
       "<table border=\"1\" class=\"dataframe\">\n",
       "  <thead>\n",
       "    <tr style=\"text-align: right;\">\n",
       "      <th></th>\n",
       "      <th>track_id</th>\n",
       "      <th>track_name</th>\n",
       "      <th>artist_id</th>\n",
       "      <th>artist_name</th>\n",
       "      <th>Album ID</th>\n",
       "      <th>artist_genres</th>\n",
       "      <th>explicit</th>\n",
       "      <th>duration</th>\n",
       "      <th>key</th>\n",
       "      <th>mode</th>\n",
       "      <th>time_signature</th>\n",
       "    </tr>\n",
       "  </thead>\n",
       "  <tbody>\n",
       "    <tr>\n",
       "      <th>0</th>\n",
       "      <td>5ayybTSXNwcarDtxQKqvWX</td>\n",
       "      <td>Poor Little Fool</td>\n",
       "      <td>73sSFVlM6pkweLXE8qw1OS</td>\n",
       "      <td>Ricky Nelson</td>\n",
       "      <td>08TlIPCh7esOAnqBvlmkEt</td>\n",
       "      <td>['adult standards', 'doo-wop', 'rock-and-roll'...</td>\n",
       "      <td>False</td>\n",
       "      <td>2:33</td>\n",
       "      <td>C</td>\n",
       "      <td>Major</td>\n",
       "      <td>4</td>\n",
       "    </tr>\n",
       "    <tr>\n",
       "      <th>1</th>\n",
       "      <td>006Ndmw2hHxvnLbJsBFnPx</td>\n",
       "      <td>Nel Blu Dipinto Di Blu (Volare)</td>\n",
       "      <td>4llklDtTTyMYMY2LfFOkTI</td>\n",
       "      <td>Domenico Modugno</td>\n",
       "      <td>3RWfLO5X2CSxBI5oH84mra</td>\n",
       "      <td>['classic italian pop', 'italian adult pop']</td>\n",
       "      <td>False</td>\n",
       "      <td>3:36</td>\n",
       "      <td>A♯/B♭</td>\n",
       "      <td>Major</td>\n",
       "      <td>4</td>\n",
       "    </tr>\n",
       "    <tr>\n",
       "      <th>2</th>\n",
       "      <td>6xupOaBWORbDmakCdQwMRG</td>\n",
       "      <td>Little Star</td>\n",
       "      <td>7bNoMfBqbaLJrfH3Vw1q6L</td>\n",
       "      <td>The Elegants</td>\n",
       "      <td>7mFC0w7g7lopYnuQeZH7rd</td>\n",
       "      <td>['doo-wop']</td>\n",
       "      <td>False</td>\n",
       "      <td>2:40</td>\n",
       "      <td>A</td>\n",
       "      <td>Major</td>\n",
       "      <td>4</td>\n",
       "    </tr>\n",
       "    <tr>\n",
       "      <th>3</th>\n",
       "      <td>2tvt5K7y1gndmCgtIoLo1f</td>\n",
       "      <td>It's All In The Game</td>\n",
       "      <td>1ObAu0tz0NlOI6FNHTXchD</td>\n",
       "      <td>Tommy Edwards</td>\n",
       "      <td>5Pm6JmFRagCaNbD5OLlG3d</td>\n",
       "      <td>['deep adult standards', 'doo-wop', 'rhythm an...</td>\n",
       "      <td>False</td>\n",
       "      <td>2:38</td>\n",
       "      <td>D♯/E♭</td>\n",
       "      <td>Major</td>\n",
       "      <td>4</td>\n",
       "    </tr>\n",
       "    <tr>\n",
       "      <th>4</th>\n",
       "      <td>1xVOttVNT27FBTD8iHjOfU</td>\n",
       "      <td>It's Only Make Believe</td>\n",
       "      <td>7gi3jmwpUpNWdswT8eEprF</td>\n",
       "      <td>Conway Twitty</td>\n",
       "      <td>3niZ3iipFSFzO6335VBZiP</td>\n",
       "      <td>['arkansas country', 'classic country pop', 'c...</td>\n",
       "      <td>False</td>\n",
       "      <td>2:12</td>\n",
       "      <td>B</td>\n",
       "      <td>Major</td>\n",
       "      <td>4</td>\n",
       "    </tr>\n",
       "    <tr>\n",
       "      <th>...</th>\n",
       "      <td>...</td>\n",
       "      <td>...</td>\n",
       "      <td>...</td>\n",
       "      <td>...</td>\n",
       "      <td>...</td>\n",
       "      <td>...</td>\n",
       "      <td>...</td>\n",
       "      <td>...</td>\n",
       "      <td>...</td>\n",
       "      <td>...</td>\n",
       "      <td>...</td>\n",
       "    </tr>\n",
       "    <tr>\n",
       "      <th>1170</th>\n",
       "      <td>6AI3ezQ4o3HUoP6Dhudph3</td>\n",
       "      <td>Not Like Us</td>\n",
       "      <td>2YZyLoL8N0Wb9xBt1NhZWg</td>\n",
       "      <td>Kendrick Lamar</td>\n",
       "      <td>5JjnoGJyOxfSZUZtk2rRwZ</td>\n",
       "      <td>['conscious hip hop', 'hip hop', 'rap', 'west ...</td>\n",
       "      <td>True</td>\n",
       "      <td>4:34</td>\n",
       "      <td>C♯/D♭</td>\n",
       "      <td>Major</td>\n",
       "      <td>4</td>\n",
       "    </tr>\n",
       "    <tr>\n",
       "      <th>1171</th>\n",
       "      <td>5IZXB5IKAD2qlvTPJYDCFB</td>\n",
       "      <td>I Had Some Help</td>\n",
       "      <td>246dkjvS1zLTtiykXe5h60</td>\n",
       "      <td>Post Malone Featuring Morgan Wallen</td>\n",
       "      <td>4BbsHmXEghoPPevQjPnHXx</td>\n",
       "      <td>['dfw rap', 'melodic rap', 'pop', 'rap']</td>\n",
       "      <td>True</td>\n",
       "      <td>2:58</td>\n",
       "      <td>C</td>\n",
       "      <td>Major</td>\n",
       "      <td>4</td>\n",
       "    </tr>\n",
       "    <tr>\n",
       "      <th>1172</th>\n",
       "      <td>2tHwzyyOLoWSFqYNjeVMzj</td>\n",
       "      <td>Please Please Please</td>\n",
       "      <td>74KM79TiuVKeVCqs8QtB0B</td>\n",
       "      <td>Sabrina Carpenter</td>\n",
       "      <td>3iPSVi54hsacKKl1xIR2eH</td>\n",
       "      <td>['pop']</td>\n",
       "      <td>True</td>\n",
       "      <td>3:06</td>\n",
       "      <td>A</td>\n",
       "      <td>Major</td>\n",
       "      <td>4</td>\n",
       "    </tr>\n",
       "    <tr>\n",
       "      <th>1173</th>\n",
       "      <td>2FQrifJ1N335Ljm3TjTVVf</td>\n",
       "      <td>A Bar Song (Tipsy)</td>\n",
       "      <td>3y2cIKLjiOlp1Np37WiUdH</td>\n",
       "      <td>Shaboozey</td>\n",
       "      <td>6egBeCLeGITzGSo5VyRjwZ</td>\n",
       "      <td>['modern country pop', 'pop rap']</td>\n",
       "      <td>True</td>\n",
       "      <td>2:51</td>\n",
       "      <td>A</td>\n",
       "      <td>Major</td>\n",
       "      <td>4</td>\n",
       "    </tr>\n",
       "    <tr>\n",
       "      <th>1174</th>\n",
       "      <td>7hR22TOX3RorxJPcsz5Wbo</td>\n",
       "      <td>Love Somebody</td>\n",
       "      <td>4oUHIQIBe0LHzYfvXNW4QM</td>\n",
       "      <td>Morgan Wallen</td>\n",
       "      <td>0TxewlKVKdpP18dGg279ep</td>\n",
       "      <td>['contemporary country']</td>\n",
       "      <td>False</td>\n",
       "      <td>3:24</td>\n",
       "      <td>F</td>\n",
       "      <td>Minor</td>\n",
       "      <td>4</td>\n",
       "    </tr>\n",
       "  </tbody>\n",
       "</table>\n",
       "<p>1175 rows × 11 columns</p>\n",
       "</div>"
      ],
      "text/plain": [
       "                    track_id                       track_name  \\\n",
       "0     5ayybTSXNwcarDtxQKqvWX                 Poor Little Fool   \n",
       "1     006Ndmw2hHxvnLbJsBFnPx  Nel Blu Dipinto Di Blu (Volare)   \n",
       "2     6xupOaBWORbDmakCdQwMRG                      Little Star   \n",
       "3     2tvt5K7y1gndmCgtIoLo1f             It's All In The Game   \n",
       "4     1xVOttVNT27FBTD8iHjOfU           It's Only Make Believe   \n",
       "...                      ...                              ...   \n",
       "1170  6AI3ezQ4o3HUoP6Dhudph3                      Not Like Us   \n",
       "1171  5IZXB5IKAD2qlvTPJYDCFB                  I Had Some Help   \n",
       "1172  2tHwzyyOLoWSFqYNjeVMzj             Please Please Please   \n",
       "1173  2FQrifJ1N335Ljm3TjTVVf               A Bar Song (Tipsy)   \n",
       "1174  7hR22TOX3RorxJPcsz5Wbo                    Love Somebody   \n",
       "\n",
       "                   artist_id                          artist_name  \\\n",
       "0     73sSFVlM6pkweLXE8qw1OS                         Ricky Nelson   \n",
       "1     4llklDtTTyMYMY2LfFOkTI                     Domenico Modugno   \n",
       "2     7bNoMfBqbaLJrfH3Vw1q6L                         The Elegants   \n",
       "3     1ObAu0tz0NlOI6FNHTXchD                        Tommy Edwards   \n",
       "4     7gi3jmwpUpNWdswT8eEprF                        Conway Twitty   \n",
       "...                      ...                                  ...   \n",
       "1170  2YZyLoL8N0Wb9xBt1NhZWg                       Kendrick Lamar   \n",
       "1171  246dkjvS1zLTtiykXe5h60  Post Malone Featuring Morgan Wallen   \n",
       "1172  74KM79TiuVKeVCqs8QtB0B                    Sabrina Carpenter   \n",
       "1173  3y2cIKLjiOlp1Np37WiUdH                            Shaboozey   \n",
       "1174  4oUHIQIBe0LHzYfvXNW4QM                        Morgan Wallen   \n",
       "\n",
       "                    Album ID  \\\n",
       "0     08TlIPCh7esOAnqBvlmkEt   \n",
       "1     3RWfLO5X2CSxBI5oH84mra   \n",
       "2     7mFC0w7g7lopYnuQeZH7rd   \n",
       "3     5Pm6JmFRagCaNbD5OLlG3d   \n",
       "4     3niZ3iipFSFzO6335VBZiP   \n",
       "...                      ...   \n",
       "1170  5JjnoGJyOxfSZUZtk2rRwZ   \n",
       "1171  4BbsHmXEghoPPevQjPnHXx   \n",
       "1172  3iPSVi54hsacKKl1xIR2eH   \n",
       "1173  6egBeCLeGITzGSo5VyRjwZ   \n",
       "1174  0TxewlKVKdpP18dGg279ep   \n",
       "\n",
       "                                          artist_genres  explicit duration  \\\n",
       "0     ['adult standards', 'doo-wop', 'rock-and-roll'...     False     2:33   \n",
       "1          ['classic italian pop', 'italian adult pop']     False     3:36   \n",
       "2                                           ['doo-wop']     False     2:40   \n",
       "3     ['deep adult standards', 'doo-wop', 'rhythm an...     False     2:38   \n",
       "4     ['arkansas country', 'classic country pop', 'c...     False     2:12   \n",
       "...                                                 ...       ...      ...   \n",
       "1170  ['conscious hip hop', 'hip hop', 'rap', 'west ...      True     4:34   \n",
       "1171           ['dfw rap', 'melodic rap', 'pop', 'rap']      True     2:58   \n",
       "1172                                            ['pop']      True     3:06   \n",
       "1173                  ['modern country pop', 'pop rap']      True     2:51   \n",
       "1174                           ['contemporary country']     False     3:24   \n",
       "\n",
       "        key   mode  time_signature  \n",
       "0         C  Major               4  \n",
       "1     A♯/B♭  Major               4  \n",
       "2         A  Major               4  \n",
       "3     D♯/E♭  Major               4  \n",
       "4         B  Major               4  \n",
       "...     ...    ...             ...  \n",
       "1170  C♯/D♭  Major               4  \n",
       "1171      C  Major               4  \n",
       "1172      A  Major               4  \n",
       "1173      A  Major               4  \n",
       "1174      F  Minor               4  \n",
       "\n",
       "[1175 rows x 11 columns]"
      ]
     },
     "execution_count": 13,
     "metadata": {},
     "output_type": "execute_result"
    }
   ],
   "source": [
    "info"
   ]
  },
  {
   "cell_type": "code",
   "execution_count": 15,
   "id": "e37aa6e8-dc3a-4d4e-93ba-f20e9f76a326",
   "metadata": {},
   "outputs": [
    {
     "data": {
      "text/html": [
       "<div>\n",
       "<style scoped>\n",
       "    .dataframe tbody tr th:only-of-type {\n",
       "        vertical-align: middle;\n",
       "    }\n",
       "\n",
       "    .dataframe tbody tr th {\n",
       "        vertical-align: top;\n",
       "    }\n",
       "\n",
       "    .dataframe thead th {\n",
       "        text-align: right;\n",
       "    }\n",
       "</style>\n",
       "<table border=\"1\" class=\"dataframe\">\n",
       "  <thead>\n",
       "    <tr style=\"text-align: right;\">\n",
       "      <th></th>\n",
       "      <th>Date</th>\n",
       "      <th>Song</th>\n",
       "      <th>Artist</th>\n",
       "      <th>Weeks in Charts</th>\n",
       "      <th>Track ID</th>\n",
       "      <th>track_id</th>\n",
       "      <th>track_name</th>\n",
       "      <th>artist_id</th>\n",
       "      <th>artist_name</th>\n",
       "      <th>Album ID</th>\n",
       "      <th>artist_genres</th>\n",
       "      <th>explicit</th>\n",
       "      <th>duration</th>\n",
       "      <th>key</th>\n",
       "      <th>mode</th>\n",
       "      <th>time_signature</th>\n",
       "    </tr>\n",
       "  </thead>\n",
       "  <tbody>\n",
       "    <tr>\n",
       "      <th>0</th>\n",
       "      <td>1958-08-06</td>\n",
       "      <td>Poor Little Fool</td>\n",
       "      <td>Ricky Nelson</td>\n",
       "      <td>2</td>\n",
       "      <td>5ayybTSXNwcarDtxQKqvWX</td>\n",
       "      <td>5ayybTSXNwcarDtxQKqvWX</td>\n",
       "      <td>Poor Little Fool</td>\n",
       "      <td>73sSFVlM6pkweLXE8qw1OS</td>\n",
       "      <td>Ricky Nelson</td>\n",
       "      <td>08TlIPCh7esOAnqBvlmkEt</td>\n",
       "      <td>['adult standards', 'doo-wop', 'rock-and-roll'...</td>\n",
       "      <td>False</td>\n",
       "      <td>2:33</td>\n",
       "      <td>C</td>\n",
       "      <td>Major</td>\n",
       "      <td>4</td>\n",
       "    </tr>\n",
       "    <tr>\n",
       "      <th>1</th>\n",
       "      <td>1958-08-13</td>\n",
       "      <td>Nel Blu Dipinto Di Blu (Volare)</td>\n",
       "      <td>Domenico Modugno</td>\n",
       "      <td>3</td>\n",
       "      <td>006Ndmw2hHxvnLbJsBFnPx</td>\n",
       "      <td>006Ndmw2hHxvnLbJsBFnPx</td>\n",
       "      <td>Nel Blu Dipinto Di Blu (Volare)</td>\n",
       "      <td>4llklDtTTyMYMY2LfFOkTI</td>\n",
       "      <td>Domenico Modugno</td>\n",
       "      <td>3RWfLO5X2CSxBI5oH84mra</td>\n",
       "      <td>['classic italian pop', 'italian adult pop']</td>\n",
       "      <td>False</td>\n",
       "      <td>3:36</td>\n",
       "      <td>A♯/B♭</td>\n",
       "      <td>Major</td>\n",
       "      <td>4</td>\n",
       "    </tr>\n",
       "    <tr>\n",
       "      <th>2</th>\n",
       "      <td>1958-08-20</td>\n",
       "      <td>Little Star</td>\n",
       "      <td>The Elegants</td>\n",
       "      <td>4</td>\n",
       "      <td>6xupOaBWORbDmakCdQwMRG</td>\n",
       "      <td>6xupOaBWORbDmakCdQwMRG</td>\n",
       "      <td>Little Star</td>\n",
       "      <td>7bNoMfBqbaLJrfH3Vw1q6L</td>\n",
       "      <td>The Elegants</td>\n",
       "      <td>7mFC0w7g7lopYnuQeZH7rd</td>\n",
       "      <td>['doo-wop']</td>\n",
       "      <td>False</td>\n",
       "      <td>2:40</td>\n",
       "      <td>A</td>\n",
       "      <td>Major</td>\n",
       "      <td>4</td>\n",
       "    </tr>\n",
       "    <tr>\n",
       "      <th>3</th>\n",
       "      <td>1958-08-27</td>\n",
       "      <td>Nel Blu Dipinto Di Blu (Volare)</td>\n",
       "      <td>Domenico Modugno</td>\n",
       "      <td>5</td>\n",
       "      <td>006Ndmw2hHxvnLbJsBFnPx</td>\n",
       "      <td>006Ndmw2hHxvnLbJsBFnPx</td>\n",
       "      <td>Nel Blu Dipinto Di Blu (Volare)</td>\n",
       "      <td>4llklDtTTyMYMY2LfFOkTI</td>\n",
       "      <td>Domenico Modugno</td>\n",
       "      <td>3RWfLO5X2CSxBI5oH84mra</td>\n",
       "      <td>['classic italian pop', 'italian adult pop']</td>\n",
       "      <td>False</td>\n",
       "      <td>3:36</td>\n",
       "      <td>A♯/B♭</td>\n",
       "      <td>Major</td>\n",
       "      <td>4</td>\n",
       "    </tr>\n",
       "    <tr>\n",
       "      <th>4</th>\n",
       "      <td>1958-09-03</td>\n",
       "      <td>Nel Blu Dipinto Di Blu (Volare)</td>\n",
       "      <td>Domenico Modugno</td>\n",
       "      <td>6</td>\n",
       "      <td>006Ndmw2hHxvnLbJsBFnPx</td>\n",
       "      <td>006Ndmw2hHxvnLbJsBFnPx</td>\n",
       "      <td>Nel Blu Dipinto Di Blu (Volare)</td>\n",
       "      <td>4llklDtTTyMYMY2LfFOkTI</td>\n",
       "      <td>Domenico Modugno</td>\n",
       "      <td>3RWfLO5X2CSxBI5oH84mra</td>\n",
       "      <td>['classic italian pop', 'italian adult pop']</td>\n",
       "      <td>False</td>\n",
       "      <td>3:36</td>\n",
       "      <td>A♯/B♭</td>\n",
       "      <td>Major</td>\n",
       "      <td>4</td>\n",
       "    </tr>\n",
       "    <tr>\n",
       "      <th>...</th>\n",
       "      <td>...</td>\n",
       "      <td>...</td>\n",
       "      <td>...</td>\n",
       "      <td>...</td>\n",
       "      <td>...</td>\n",
       "      <td>...</td>\n",
       "      <td>...</td>\n",
       "      <td>...</td>\n",
       "      <td>...</td>\n",
       "      <td>...</td>\n",
       "      <td>...</td>\n",
       "      <td>...</td>\n",
       "      <td>...</td>\n",
       "      <td>...</td>\n",
       "      <td>...</td>\n",
       "      <td>...</td>\n",
       "    </tr>\n",
       "    <tr>\n",
       "      <th>3633</th>\n",
       "      <td>2024-10-16</td>\n",
       "      <td>A Bar Song (Tipsy)</td>\n",
       "      <td>Shaboozey</td>\n",
       "      <td>26</td>\n",
       "      <td>2FQrifJ1N335Ljm3TjTVVf</td>\n",
       "      <td>2FQrifJ1N335Ljm3TjTVVf</td>\n",
       "      <td>A Bar Song (Tipsy)</td>\n",
       "      <td>3y2cIKLjiOlp1Np37WiUdH</td>\n",
       "      <td>Shaboozey</td>\n",
       "      <td>6egBeCLeGITzGSo5VyRjwZ</td>\n",
       "      <td>['modern country pop', 'pop rap']</td>\n",
       "      <td>True</td>\n",
       "      <td>2:51</td>\n",
       "      <td>A</td>\n",
       "      <td>Major</td>\n",
       "      <td>4</td>\n",
       "    </tr>\n",
       "    <tr>\n",
       "      <th>3634</th>\n",
       "      <td>2024-10-23</td>\n",
       "      <td>A Bar Song (Tipsy)</td>\n",
       "      <td>Shaboozey</td>\n",
       "      <td>27</td>\n",
       "      <td>2FQrifJ1N335Ljm3TjTVVf</td>\n",
       "      <td>2FQrifJ1N335Ljm3TjTVVf</td>\n",
       "      <td>A Bar Song (Tipsy)</td>\n",
       "      <td>3y2cIKLjiOlp1Np37WiUdH</td>\n",
       "      <td>Shaboozey</td>\n",
       "      <td>6egBeCLeGITzGSo5VyRjwZ</td>\n",
       "      <td>['modern country pop', 'pop rap']</td>\n",
       "      <td>True</td>\n",
       "      <td>2:51</td>\n",
       "      <td>A</td>\n",
       "      <td>Major</td>\n",
       "      <td>4</td>\n",
       "    </tr>\n",
       "    <tr>\n",
       "      <th>3635</th>\n",
       "      <td>2024-10-30</td>\n",
       "      <td>Love Somebody</td>\n",
       "      <td>Morgan Wallen</td>\n",
       "      <td>-</td>\n",
       "      <td>7hR22TOX3RorxJPcsz5Wbo</td>\n",
       "      <td>7hR22TOX3RorxJPcsz5Wbo</td>\n",
       "      <td>Love Somebody</td>\n",
       "      <td>4oUHIQIBe0LHzYfvXNW4QM</td>\n",
       "      <td>Morgan Wallen</td>\n",
       "      <td>0TxewlKVKdpP18dGg279ep</td>\n",
       "      <td>['contemporary country']</td>\n",
       "      <td>False</td>\n",
       "      <td>3:24</td>\n",
       "      <td>F</td>\n",
       "      <td>Minor</td>\n",
       "      <td>4</td>\n",
       "    </tr>\n",
       "    <tr>\n",
       "      <th>3636</th>\n",
       "      <td>2024-11-06</td>\n",
       "      <td>A Bar Song (Tipsy)</td>\n",
       "      <td>Shaboozey</td>\n",
       "      <td>29</td>\n",
       "      <td>2FQrifJ1N335Ljm3TjTVVf</td>\n",
       "      <td>2FQrifJ1N335Ljm3TjTVVf</td>\n",
       "      <td>A Bar Song (Tipsy)</td>\n",
       "      <td>3y2cIKLjiOlp1Np37WiUdH</td>\n",
       "      <td>Shaboozey</td>\n",
       "      <td>6egBeCLeGITzGSo5VyRjwZ</td>\n",
       "      <td>['modern country pop', 'pop rap']</td>\n",
       "      <td>True</td>\n",
       "      <td>2:51</td>\n",
       "      <td>A</td>\n",
       "      <td>Major</td>\n",
       "      <td>4</td>\n",
       "    </tr>\n",
       "    <tr>\n",
       "      <th>3637</th>\n",
       "      <td>2024-11-13</td>\n",
       "      <td>A Bar Song (Tipsy)</td>\n",
       "      <td>Shaboozey</td>\n",
       "      <td>30</td>\n",
       "      <td>2FQrifJ1N335Ljm3TjTVVf</td>\n",
       "      <td>2FQrifJ1N335Ljm3TjTVVf</td>\n",
       "      <td>A Bar Song (Tipsy)</td>\n",
       "      <td>3y2cIKLjiOlp1Np37WiUdH</td>\n",
       "      <td>Shaboozey</td>\n",
       "      <td>6egBeCLeGITzGSo5VyRjwZ</td>\n",
       "      <td>['modern country pop', 'pop rap']</td>\n",
       "      <td>True</td>\n",
       "      <td>2:51</td>\n",
       "      <td>A</td>\n",
       "      <td>Major</td>\n",
       "      <td>4</td>\n",
       "    </tr>\n",
       "  </tbody>\n",
       "</table>\n",
       "<p>3638 rows × 16 columns</p>\n",
       "</div>"
      ],
      "text/plain": [
       "           Date                             Song            Artist  \\\n",
       "0    1958-08-06                 Poor Little Fool      Ricky Nelson   \n",
       "1    1958-08-13  Nel Blu Dipinto Di Blu (Volare)  Domenico Modugno   \n",
       "2    1958-08-20                      Little Star      The Elegants   \n",
       "3    1958-08-27  Nel Blu Dipinto Di Blu (Volare)  Domenico Modugno   \n",
       "4    1958-09-03  Nel Blu Dipinto Di Blu (Volare)  Domenico Modugno   \n",
       "...         ...                              ...               ...   \n",
       "3633 2024-10-16               A Bar Song (Tipsy)         Shaboozey   \n",
       "3634 2024-10-23               A Bar Song (Tipsy)         Shaboozey   \n",
       "3635 2024-10-30                    Love Somebody     Morgan Wallen   \n",
       "3636 2024-11-06               A Bar Song (Tipsy)         Shaboozey   \n",
       "3637 2024-11-13               A Bar Song (Tipsy)         Shaboozey   \n",
       "\n",
       "     Weeks in Charts                Track ID                track_id  \\\n",
       "0                  2  5ayybTSXNwcarDtxQKqvWX  5ayybTSXNwcarDtxQKqvWX   \n",
       "1                  3  006Ndmw2hHxvnLbJsBFnPx  006Ndmw2hHxvnLbJsBFnPx   \n",
       "2                  4  6xupOaBWORbDmakCdQwMRG  6xupOaBWORbDmakCdQwMRG   \n",
       "3                  5  006Ndmw2hHxvnLbJsBFnPx  006Ndmw2hHxvnLbJsBFnPx   \n",
       "4                  6  006Ndmw2hHxvnLbJsBFnPx  006Ndmw2hHxvnLbJsBFnPx   \n",
       "...              ...                     ...                     ...   \n",
       "3633              26  2FQrifJ1N335Ljm3TjTVVf  2FQrifJ1N335Ljm3TjTVVf   \n",
       "3634              27  2FQrifJ1N335Ljm3TjTVVf  2FQrifJ1N335Ljm3TjTVVf   \n",
       "3635               -  7hR22TOX3RorxJPcsz5Wbo  7hR22TOX3RorxJPcsz5Wbo   \n",
       "3636              29  2FQrifJ1N335Ljm3TjTVVf  2FQrifJ1N335Ljm3TjTVVf   \n",
       "3637              30  2FQrifJ1N335Ljm3TjTVVf  2FQrifJ1N335Ljm3TjTVVf   \n",
       "\n",
       "                           track_name               artist_id  \\\n",
       "0                    Poor Little Fool  73sSFVlM6pkweLXE8qw1OS   \n",
       "1     Nel Blu Dipinto Di Blu (Volare)  4llklDtTTyMYMY2LfFOkTI   \n",
       "2                         Little Star  7bNoMfBqbaLJrfH3Vw1q6L   \n",
       "3     Nel Blu Dipinto Di Blu (Volare)  4llklDtTTyMYMY2LfFOkTI   \n",
       "4     Nel Blu Dipinto Di Blu (Volare)  4llklDtTTyMYMY2LfFOkTI   \n",
       "...                               ...                     ...   \n",
       "3633               A Bar Song (Tipsy)  3y2cIKLjiOlp1Np37WiUdH   \n",
       "3634               A Bar Song (Tipsy)  3y2cIKLjiOlp1Np37WiUdH   \n",
       "3635                    Love Somebody  4oUHIQIBe0LHzYfvXNW4QM   \n",
       "3636               A Bar Song (Tipsy)  3y2cIKLjiOlp1Np37WiUdH   \n",
       "3637               A Bar Song (Tipsy)  3y2cIKLjiOlp1Np37WiUdH   \n",
       "\n",
       "           artist_name                Album ID  \\\n",
       "0         Ricky Nelson  08TlIPCh7esOAnqBvlmkEt   \n",
       "1     Domenico Modugno  3RWfLO5X2CSxBI5oH84mra   \n",
       "2         The Elegants  7mFC0w7g7lopYnuQeZH7rd   \n",
       "3     Domenico Modugno  3RWfLO5X2CSxBI5oH84mra   \n",
       "4     Domenico Modugno  3RWfLO5X2CSxBI5oH84mra   \n",
       "...                ...                     ...   \n",
       "3633         Shaboozey  6egBeCLeGITzGSo5VyRjwZ   \n",
       "3634         Shaboozey  6egBeCLeGITzGSo5VyRjwZ   \n",
       "3635     Morgan Wallen  0TxewlKVKdpP18dGg279ep   \n",
       "3636         Shaboozey  6egBeCLeGITzGSo5VyRjwZ   \n",
       "3637         Shaboozey  6egBeCLeGITzGSo5VyRjwZ   \n",
       "\n",
       "                                          artist_genres  explicit duration  \\\n",
       "0     ['adult standards', 'doo-wop', 'rock-and-roll'...     False     2:33   \n",
       "1          ['classic italian pop', 'italian adult pop']     False     3:36   \n",
       "2                                           ['doo-wop']     False     2:40   \n",
       "3          ['classic italian pop', 'italian adult pop']     False     3:36   \n",
       "4          ['classic italian pop', 'italian adult pop']     False     3:36   \n",
       "...                                                 ...       ...      ...   \n",
       "3633                  ['modern country pop', 'pop rap']      True     2:51   \n",
       "3634                  ['modern country pop', 'pop rap']      True     2:51   \n",
       "3635                           ['contemporary country']     False     3:24   \n",
       "3636                  ['modern country pop', 'pop rap']      True     2:51   \n",
       "3637                  ['modern country pop', 'pop rap']      True     2:51   \n",
       "\n",
       "        key   mode  time_signature  \n",
       "0         C  Major               4  \n",
       "1     A♯/B♭  Major               4  \n",
       "2         A  Major               4  \n",
       "3     A♯/B♭  Major               4  \n",
       "4     A♯/B♭  Major               4  \n",
       "...     ...    ...             ...  \n",
       "3633      A  Major               4  \n",
       "3634      A  Major               4  \n",
       "3635      F  Minor               4  \n",
       "3636      A  Major               4  \n",
       "3637      A  Major               4  \n",
       "\n",
       "[3638 rows x 16 columns]"
      ]
     },
     "execution_count": 15,
     "metadata": {},
     "output_type": "execute_result"
    }
   ],
   "source": [
    "merged_df = pd.merge(charts, info, left_on='Song', right_on='track_name', how='inner')\n",
    "merged_df"
   ]
  },
  {
   "cell_type": "code",
   "execution_count": 56,
   "id": "657162a5-e494-40db-aa34-7af9c92f95f5",
   "metadata": {},
   "outputs": [
    {
     "data": {
      "text/html": [
       "<div>\n",
       "<style scoped>\n",
       "    .dataframe tbody tr th:only-of-type {\n",
       "        vertical-align: middle;\n",
       "    }\n",
       "\n",
       "    .dataframe tbody tr th {\n",
       "        vertical-align: top;\n",
       "    }\n",
       "\n",
       "    .dataframe thead th {\n",
       "        text-align: right;\n",
       "    }\n",
       "</style>\n",
       "<table border=\"1\" class=\"dataframe\">\n",
       "  <thead>\n",
       "    <tr style=\"text-align: right;\">\n",
       "      <th></th>\n",
       "      <th>track_id</th>\n",
       "      <th>danceability</th>\n",
       "      <th>energy</th>\n",
       "      <th>loudness</th>\n",
       "      <th>speechiness</th>\n",
       "      <th>acousticness</th>\n",
       "      <th>instrumentalness</th>\n",
       "      <th>liveness</th>\n",
       "      <th>valence</th>\n",
       "      <th>tempo</th>\n",
       "      <th>duration</th>\n",
       "      <th>tempo_confidence</th>\n",
       "      <th>time_signature_confidence</th>\n",
       "      <th>key_confidence</th>\n",
       "      <th>mode_confidence</th>\n",
       "    </tr>\n",
       "  </thead>\n",
       "  <tbody>\n",
       "    <tr>\n",
       "      <th>0</th>\n",
       "      <td>5ayybTSXNwcarDtxQKqvWX</td>\n",
       "      <td>0.136784</td>\n",
       "      <td>-0.160836</td>\n",
       "      <td>-0.870467</td>\n",
       "      <td>-0.870467</td>\n",
       "      <td>0.454018</td>\n",
       "      <td>-1.000000</td>\n",
       "      <td>-0.684587</td>\n",
       "      <td>0.730777</td>\n",
       "      <td>0.730777</td>\n",
       "      <td>-0.580739</td>\n",
       "      <td>0.393768</td>\n",
       "      <td>-0.500503</td>\n",
       "      <td>0.345303</td>\n",
       "      <td>0.477968</td>\n",
       "    </tr>\n",
       "    <tr>\n",
       "      <th>1</th>\n",
       "      <td>006Ndmw2hHxvnLbJsBFnPx</td>\n",
       "      <td>0.222967</td>\n",
       "      <td>-0.842796</td>\n",
       "      <td>-0.810261</td>\n",
       "      <td>-0.810261</td>\n",
       "      <td>0.998535</td>\n",
       "      <td>-0.683351</td>\n",
       "      <td>-0.602183</td>\n",
       "      <td>-0.154982</td>\n",
       "      <td>-0.154982</td>\n",
       "      <td>-0.267341</td>\n",
       "      <td>-0.614349</td>\n",
       "      <td>0.762546</td>\n",
       "      <td>0.268257</td>\n",
       "      <td>0.262674</td>\n",
       "    </tr>\n",
       "    <tr>\n",
       "      <th>2</th>\n",
       "      <td>6xupOaBWORbDmakCdQwMRG</td>\n",
       "      <td>0.021231</td>\n",
       "      <td>0.100676</td>\n",
       "      <td>-0.870040</td>\n",
       "      <td>-0.870040</td>\n",
       "      <td>0.648718</td>\n",
       "      <td>-1.000000</td>\n",
       "      <td>-0.443779</td>\n",
       "      <td>0.419849</td>\n",
       "      <td>0.419849</td>\n",
       "      <td>-0.543812</td>\n",
       "      <td>-0.746054</td>\n",
       "      <td>0.926948</td>\n",
       "      <td>-0.249643</td>\n",
       "      <td>0.048127</td>\n",
       "    </tr>\n",
       "    <tr>\n",
       "      <th>3</th>\n",
       "      <td>2tvt5K7y1gndmCgtIoLo1f</td>\n",
       "      <td>0.130815</td>\n",
       "      <td>-0.163025</td>\n",
       "      <td>-0.884149</td>\n",
       "      <td>-0.884149</td>\n",
       "      <td>0.197526</td>\n",
       "      <td>-0.387221</td>\n",
       "      <td>-0.461257</td>\n",
       "      <td>0.432373</td>\n",
       "      <td>0.432373</td>\n",
       "      <td>-0.553737</td>\n",
       "      <td>-0.319445</td>\n",
       "      <td>0.886718</td>\n",
       "      <td>-0.144788</td>\n",
       "      <td>0.105738</td>\n",
       "    </tr>\n",
       "    <tr>\n",
       "      <th>4</th>\n",
       "      <td>1xVOttVNT27FBTD8iHjOfU</td>\n",
       "      <td>0.110828</td>\n",
       "      <td>0.106674</td>\n",
       "      <td>-0.744641</td>\n",
       "      <td>-0.744641</td>\n",
       "      <td>0.806274</td>\n",
       "      <td>-0.513508</td>\n",
       "      <td>-0.671144</td>\n",
       "      <td>-0.346741</td>\n",
       "      <td>-0.346741</td>\n",
       "      <td>-0.721828</td>\n",
       "      <td>-0.459540</td>\n",
       "      <td>-0.647354</td>\n",
       "      <td>0.288636</td>\n",
       "      <td>0.087981</td>\n",
       "    </tr>\n",
       "    <tr>\n",
       "      <th>...</th>\n",
       "      <td>...</td>\n",
       "      <td>...</td>\n",
       "      <td>...</td>\n",
       "      <td>...</td>\n",
       "      <td>...</td>\n",
       "      <td>...</td>\n",
       "      <td>...</td>\n",
       "      <td>...</td>\n",
       "      <td>...</td>\n",
       "      <td>...</td>\n",
       "      <td>...</td>\n",
       "      <td>...</td>\n",
       "      <td>...</td>\n",
       "      <td>...</td>\n",
       "      <td>...</td>\n",
       "    </tr>\n",
       "    <tr>\n",
       "      <th>1170</th>\n",
       "      <td>6AI3ezQ4o3HUoP6Dhudph3</td>\n",
       "      <td>0.877552</td>\n",
       "      <td>0.118633</td>\n",
       "      <td>-0.671409</td>\n",
       "      <td>-0.671409</td>\n",
       "      <td>-0.969162</td>\n",
       "      <td>-1.000000</td>\n",
       "      <td>-0.655091</td>\n",
       "      <td>-0.434319</td>\n",
       "      <td>-0.434319</td>\n",
       "      <td>-0.049057</td>\n",
       "      <td>0.348921</td>\n",
       "      <td>0.997113</td>\n",
       "      <td>-0.056064</td>\n",
       "      <td>-0.190194</td>\n",
       "    </tr>\n",
       "    <tr>\n",
       "      <th>1171</th>\n",
       "      <td>5IZXB5IKAD2qlvTPJYDCFB</td>\n",
       "      <td>0.456602</td>\n",
       "      <td>0.825616</td>\n",
       "      <td>-0.885005</td>\n",
       "      <td>-0.885005</td>\n",
       "      <td>-0.967435</td>\n",
       "      <td>-1.000000</td>\n",
       "      <td>-0.433837</td>\n",
       "      <td>0.637436</td>\n",
       "      <td>0.637436</td>\n",
       "      <td>-0.446039</td>\n",
       "      <td>0.802989</td>\n",
       "      <td>0.963705</td>\n",
       "      <td>-0.524873</td>\n",
       "      <td>0.082038</td>\n",
       "    </tr>\n",
       "    <tr>\n",
       "      <th>1172</th>\n",
       "      <td>2tHwzyyOLoWSFqYNjeVMzj</td>\n",
       "      <td>0.511337</td>\n",
       "      <td>0.337044</td>\n",
       "      <td>-0.772524</td>\n",
       "      <td>-0.772524</td>\n",
       "      <td>-0.334346</td>\n",
       "      <td>-1.000000</td>\n",
       "      <td>-0.755462</td>\n",
       "      <td>0.409072</td>\n",
       "      <td>0.409072</td>\n",
       "      <td>-0.404833</td>\n",
       "      <td>0.708789</td>\n",
       "      <td>1.000000</td>\n",
       "      <td>0.223289</td>\n",
       "      <td>0.206244</td>\n",
       "    </tr>\n",
       "    <tr>\n",
       "      <th>1173</th>\n",
       "      <td>2FQrifJ1N335Ljm3TjTVVf</td>\n",
       "      <td>0.592420</td>\n",
       "      <td>0.555748</td>\n",
       "      <td>-0.881580</td>\n",
       "      <td>-0.881580</td>\n",
       "      <td>-0.821482</td>\n",
       "      <td>-1.000000</td>\n",
       "      <td>-0.821255</td>\n",
       "      <td>0.378318</td>\n",
       "      <td>0.378318</td>\n",
       "      <td>-0.482454</td>\n",
       "      <td>-0.212069</td>\n",
       "      <td>0.994223</td>\n",
       "      <td>-0.174979</td>\n",
       "      <td>0.138982</td>\n",
       "    </tr>\n",
       "    <tr>\n",
       "      <th>1174</th>\n",
       "      <td>7hR22TOX3RorxJPcsz5Wbo</td>\n",
       "      <td>0.411704</td>\n",
       "      <td>0.776775</td>\n",
       "      <td>-0.876875</td>\n",
       "      <td>-0.876875</td>\n",
       "      <td>-0.972678</td>\n",
       "      <td>-0.306674</td>\n",
       "      <td>-0.594326</td>\n",
       "      <td>0.625765</td>\n",
       "      <td>0.625765</td>\n",
       "      <td>-0.317848</td>\n",
       "      <td>0.647499</td>\n",
       "      <td>1.000000</td>\n",
       "      <td>0.307037</td>\n",
       "      <td>0.332604</td>\n",
       "    </tr>\n",
       "  </tbody>\n",
       "</table>\n",
       "<p>1175 rows × 15 columns</p>\n",
       "</div>"
      ],
      "text/plain": [
       "                    track_id  danceability    energy  loudness  speechiness  \\\n",
       "0     5ayybTSXNwcarDtxQKqvWX      0.136784 -0.160836 -0.870467    -0.870467   \n",
       "1     006Ndmw2hHxvnLbJsBFnPx      0.222967 -0.842796 -0.810261    -0.810261   \n",
       "2     6xupOaBWORbDmakCdQwMRG      0.021231  0.100676 -0.870040    -0.870040   \n",
       "3     2tvt5K7y1gndmCgtIoLo1f      0.130815 -0.163025 -0.884149    -0.884149   \n",
       "4     1xVOttVNT27FBTD8iHjOfU      0.110828  0.106674 -0.744641    -0.744641   \n",
       "...                      ...           ...       ...       ...          ...   \n",
       "1170  6AI3ezQ4o3HUoP6Dhudph3      0.877552  0.118633 -0.671409    -0.671409   \n",
       "1171  5IZXB5IKAD2qlvTPJYDCFB      0.456602  0.825616 -0.885005    -0.885005   \n",
       "1172  2tHwzyyOLoWSFqYNjeVMzj      0.511337  0.337044 -0.772524    -0.772524   \n",
       "1173  2FQrifJ1N335Ljm3TjTVVf      0.592420  0.555748 -0.881580    -0.881580   \n",
       "1174  7hR22TOX3RorxJPcsz5Wbo      0.411704  0.776775 -0.876875    -0.876875   \n",
       "\n",
       "      acousticness  instrumentalness  liveness   valence     tempo  duration  \\\n",
       "0         0.454018         -1.000000 -0.684587  0.730777  0.730777 -0.580739   \n",
       "1         0.998535         -0.683351 -0.602183 -0.154982 -0.154982 -0.267341   \n",
       "2         0.648718         -1.000000 -0.443779  0.419849  0.419849 -0.543812   \n",
       "3         0.197526         -0.387221 -0.461257  0.432373  0.432373 -0.553737   \n",
       "4         0.806274         -0.513508 -0.671144 -0.346741 -0.346741 -0.721828   \n",
       "...            ...               ...       ...       ...       ...       ...   \n",
       "1170     -0.969162         -1.000000 -0.655091 -0.434319 -0.434319 -0.049057   \n",
       "1171     -0.967435         -1.000000 -0.433837  0.637436  0.637436 -0.446039   \n",
       "1172     -0.334346         -1.000000 -0.755462  0.409072  0.409072 -0.404833   \n",
       "1173     -0.821482         -1.000000 -0.821255  0.378318  0.378318 -0.482454   \n",
       "1174     -0.972678         -0.306674 -0.594326  0.625765  0.625765 -0.317848   \n",
       "\n",
       "      tempo_confidence  time_signature_confidence  key_confidence  \\\n",
       "0             0.393768                  -0.500503        0.345303   \n",
       "1            -0.614349                   0.762546        0.268257   \n",
       "2            -0.746054                   0.926948       -0.249643   \n",
       "3            -0.319445                   0.886718       -0.144788   \n",
       "4            -0.459540                  -0.647354        0.288636   \n",
       "...                ...                        ...             ...   \n",
       "1170          0.348921                   0.997113       -0.056064   \n",
       "1171          0.802989                   0.963705       -0.524873   \n",
       "1172          0.708789                   1.000000        0.223289   \n",
       "1173         -0.212069                   0.994223       -0.174979   \n",
       "1174          0.647499                   1.000000        0.307037   \n",
       "\n",
       "      mode_confidence  \n",
       "0            0.477968  \n",
       "1            0.262674  \n",
       "2            0.048127  \n",
       "3            0.105738  \n",
       "4            0.087981  \n",
       "...               ...  \n",
       "1170        -0.190194  \n",
       "1171         0.082038  \n",
       "1172         0.206244  \n",
       "1173         0.138982  \n",
       "1174         0.332604  \n",
       "\n",
       "[1175 rows x 15 columns]"
      ]
     },
     "execution_count": 56,
     "metadata": {},
     "output_type": "execute_result"
    }
   ],
   "source": [
    "features"
   ]
  },
  {
   "cell_type": "code",
   "execution_count": 76,
   "id": "fc2f5a43-bb1d-49c6-bf8d-474e664ce62a",
   "metadata": {},
   "outputs": [
    {
     "ename": "MergeError",
     "evalue": "Passing 'suffixes' which cause duplicate columns {'duration_x'} is not allowed.",
     "output_type": "error",
     "traceback": [
      "\u001b[0;31m---------------------------------------------------------------------------\u001b[0m",
      "\u001b[0;31mMergeError\u001b[0m                                Traceback (most recent call last)",
      "Cell \u001b[0;32mIn[76], line 4\u001b[0m\n\u001b[1;32m      2\u001b[0m features \u001b[38;5;241m=\u001b[39m features\u001b[38;5;241m.\u001b[39mrename(columns\u001b[38;5;241m=\u001b[39m{\u001b[38;5;124m'\u001b[39m\u001b[38;5;124mtrack_id\u001b[39m\u001b[38;5;124m'\u001b[39m: \u001b[38;5;124m'\u001b[39m\u001b[38;5;124mtrack ID\u001b[39m\u001b[38;5;124m'\u001b[39m})\n\u001b[1;32m      3\u001b[0m merged_df\u001b[38;5;241m.\u001b[39mdrop_duplicates(\u001b[38;5;124m\"\u001b[39m\u001b[38;5;124mSong\u001b[39m\u001b[38;5;124m\"\u001b[39m)\n\u001b[0;32m----> 4\u001b[0m merged_df \u001b[38;5;241m=\u001b[39m pd\u001b[38;5;241m.\u001b[39mmerge(merged_df, features, left_on\u001b[38;5;241m=\u001b[39m\u001b[38;5;124m'\u001b[39m\u001b[38;5;124mtrack_id\u001b[39m\u001b[38;5;124m'\u001b[39m, right_on\u001b[38;5;241m=\u001b[39m\u001b[38;5;124m'\u001b[39m\u001b[38;5;124mtrack ID\u001b[39m\u001b[38;5;124m'\u001b[39m, how\u001b[38;5;241m=\u001b[39m\u001b[38;5;124m'\u001b[39m\u001b[38;5;124minner\u001b[39m\u001b[38;5;124m'\u001b[39m)\n\u001b[1;32m      5\u001b[0m merged_df\n",
      "File \u001b[0;32m/opt/anaconda3/lib/python3.12/site-packages/pandas/core/reshape/merge.py:184\u001b[0m, in \u001b[0;36mmerge\u001b[0;34m(left, right, how, on, left_on, right_on, left_index, right_index, sort, suffixes, copy, indicator, validate)\u001b[0m\n\u001b[1;32m    169\u001b[0m \u001b[38;5;28;01melse\u001b[39;00m:\n\u001b[1;32m    170\u001b[0m     op \u001b[38;5;241m=\u001b[39m _MergeOperation(\n\u001b[1;32m    171\u001b[0m         left_df,\n\u001b[1;32m    172\u001b[0m         right_df,\n\u001b[0;32m   (...)\u001b[0m\n\u001b[1;32m    182\u001b[0m         validate\u001b[38;5;241m=\u001b[39mvalidate,\n\u001b[1;32m    183\u001b[0m     )\n\u001b[0;32m--> 184\u001b[0m     \u001b[38;5;28;01mreturn\u001b[39;00m op\u001b[38;5;241m.\u001b[39mget_result(copy\u001b[38;5;241m=\u001b[39mcopy)\n",
      "File \u001b[0;32m/opt/anaconda3/lib/python3.12/site-packages/pandas/core/reshape/merge.py:888\u001b[0m, in \u001b[0;36m_MergeOperation.get_result\u001b[0;34m(self, copy)\u001b[0m\n\u001b[1;32m    884\u001b[0m     \u001b[38;5;28mself\u001b[39m\u001b[38;5;241m.\u001b[39mleft, \u001b[38;5;28mself\u001b[39m\u001b[38;5;241m.\u001b[39mright \u001b[38;5;241m=\u001b[39m \u001b[38;5;28mself\u001b[39m\u001b[38;5;241m.\u001b[39m_indicator_pre_merge(\u001b[38;5;28mself\u001b[39m\u001b[38;5;241m.\u001b[39mleft, \u001b[38;5;28mself\u001b[39m\u001b[38;5;241m.\u001b[39mright)\n\u001b[1;32m    886\u001b[0m join_index, left_indexer, right_indexer \u001b[38;5;241m=\u001b[39m \u001b[38;5;28mself\u001b[39m\u001b[38;5;241m.\u001b[39m_get_join_info()\n\u001b[0;32m--> 888\u001b[0m result \u001b[38;5;241m=\u001b[39m \u001b[38;5;28mself\u001b[39m\u001b[38;5;241m.\u001b[39m_reindex_and_concat(\n\u001b[1;32m    889\u001b[0m     join_index, left_indexer, right_indexer, copy\u001b[38;5;241m=\u001b[39mcopy\n\u001b[1;32m    890\u001b[0m )\n\u001b[1;32m    891\u001b[0m result \u001b[38;5;241m=\u001b[39m result\u001b[38;5;241m.\u001b[39m__finalize__(\u001b[38;5;28mself\u001b[39m, method\u001b[38;5;241m=\u001b[39m\u001b[38;5;28mself\u001b[39m\u001b[38;5;241m.\u001b[39m_merge_type)\n\u001b[1;32m    893\u001b[0m \u001b[38;5;28;01mif\u001b[39;00m \u001b[38;5;28mself\u001b[39m\u001b[38;5;241m.\u001b[39mindicator:\n",
      "File \u001b[0;32m/opt/anaconda3/lib/python3.12/site-packages/pandas/core/reshape/merge.py:840\u001b[0m, in \u001b[0;36m_MergeOperation._reindex_and_concat\u001b[0;34m(self, join_index, left_indexer, right_indexer, copy)\u001b[0m\n\u001b[1;32m    837\u001b[0m left \u001b[38;5;241m=\u001b[39m \u001b[38;5;28mself\u001b[39m\u001b[38;5;241m.\u001b[39mleft[:]\n\u001b[1;32m    838\u001b[0m right \u001b[38;5;241m=\u001b[39m \u001b[38;5;28mself\u001b[39m\u001b[38;5;241m.\u001b[39mright[:]\n\u001b[0;32m--> 840\u001b[0m llabels, rlabels \u001b[38;5;241m=\u001b[39m _items_overlap_with_suffix(\n\u001b[1;32m    841\u001b[0m     \u001b[38;5;28mself\u001b[39m\u001b[38;5;241m.\u001b[39mleft\u001b[38;5;241m.\u001b[39m_info_axis, \u001b[38;5;28mself\u001b[39m\u001b[38;5;241m.\u001b[39mright\u001b[38;5;241m.\u001b[39m_info_axis, \u001b[38;5;28mself\u001b[39m\u001b[38;5;241m.\u001b[39msuffixes\n\u001b[1;32m    842\u001b[0m )\n\u001b[1;32m    844\u001b[0m \u001b[38;5;28;01mif\u001b[39;00m left_indexer \u001b[38;5;129;01mis\u001b[39;00m \u001b[38;5;129;01mnot\u001b[39;00m \u001b[38;5;28;01mNone\u001b[39;00m \u001b[38;5;129;01mand\u001b[39;00m \u001b[38;5;129;01mnot\u001b[39;00m is_range_indexer(left_indexer, \u001b[38;5;28mlen\u001b[39m(left)):\n\u001b[1;32m    845\u001b[0m     \u001b[38;5;66;03m# Pinning the index here (and in the right code just below) is not\u001b[39;00m\n\u001b[1;32m    846\u001b[0m     \u001b[38;5;66;03m#  necessary, but makes the `.take` more performant if we have e.g.\u001b[39;00m\n\u001b[1;32m    847\u001b[0m     \u001b[38;5;66;03m#  a MultiIndex for left.index.\u001b[39;00m\n\u001b[1;32m    848\u001b[0m     lmgr \u001b[38;5;241m=\u001b[39m left\u001b[38;5;241m.\u001b[39m_mgr\u001b[38;5;241m.\u001b[39mreindex_indexer(\n\u001b[1;32m    849\u001b[0m         join_index,\n\u001b[1;32m    850\u001b[0m         left_indexer,\n\u001b[0;32m   (...)\u001b[0m\n\u001b[1;32m    855\u001b[0m         use_na_proxy\u001b[38;5;241m=\u001b[39m\u001b[38;5;28;01mTrue\u001b[39;00m,\n\u001b[1;32m    856\u001b[0m     )\n",
      "File \u001b[0;32m/opt/anaconda3/lib/python3.12/site-packages/pandas/core/reshape/merge.py:2757\u001b[0m, in \u001b[0;36m_items_overlap_with_suffix\u001b[0;34m(left, right, suffixes)\u001b[0m\n\u001b[1;32m   2755\u001b[0m     dups\u001b[38;5;241m.\u001b[39mextend(rlabels[(rlabels\u001b[38;5;241m.\u001b[39mduplicated()) \u001b[38;5;241m&\u001b[39m (\u001b[38;5;241m~\u001b[39mright\u001b[38;5;241m.\u001b[39mduplicated())]\u001b[38;5;241m.\u001b[39mtolist())\n\u001b[1;32m   2756\u001b[0m \u001b[38;5;28;01mif\u001b[39;00m dups:\n\u001b[0;32m-> 2757\u001b[0m     \u001b[38;5;28;01mraise\u001b[39;00m MergeError(\n\u001b[1;32m   2758\u001b[0m         \u001b[38;5;124mf\u001b[39m\u001b[38;5;124m\"\u001b[39m\u001b[38;5;124mPassing \u001b[39m\u001b[38;5;124m'\u001b[39m\u001b[38;5;124msuffixes\u001b[39m\u001b[38;5;124m'\u001b[39m\u001b[38;5;124m which cause duplicate columns \u001b[39m\u001b[38;5;132;01m{\u001b[39;00m\u001b[38;5;28mset\u001b[39m(dups)\u001b[38;5;132;01m}\u001b[39;00m\u001b[38;5;124m is \u001b[39m\u001b[38;5;124m\"\u001b[39m\n\u001b[1;32m   2759\u001b[0m         \u001b[38;5;124mf\u001b[39m\u001b[38;5;124m\"\u001b[39m\u001b[38;5;124mnot allowed.\u001b[39m\u001b[38;5;124m\"\u001b[39m,\n\u001b[1;32m   2760\u001b[0m     )\n\u001b[1;32m   2762\u001b[0m \u001b[38;5;28;01mreturn\u001b[39;00m llabels, rlabels\n",
      "\u001b[0;31mMergeError\u001b[0m: Passing 'suffixes' which cause duplicate columns {'duration_x'} is not allowed."
     ]
    }
   ],
   "source": [
    "features = pd.read_csv(\"features_scaled.csv\")\n",
    "features = features.rename(columns={'track_id': 'track ID'})\n",
    "merged_df.drop_duplicates(\"Song\")\n",
    "merged_df = pd.merge(merged_df, features, left_on='track_id', right_on='track ID', how='inner')\n",
    "merged_df"
   ]
  },
  {
   "cell_type": "code",
   "execution_count": 28,
   "id": "a4034c8d-a790-42d3-ac9c-41dfc08c0405",
   "metadata": {},
   "outputs": [
    {
     "data": {
      "text/html": [
       "<div>\n",
       "<style scoped>\n",
       "    .dataframe tbody tr th:only-of-type {\n",
       "        vertical-align: middle;\n",
       "    }\n",
       "\n",
       "    .dataframe tbody tr th {\n",
       "        vertical-align: top;\n",
       "    }\n",
       "\n",
       "    .dataframe thead th {\n",
       "        text-align: right;\n",
       "    }\n",
       "</style>\n",
       "<table border=\"1\" class=\"dataframe\">\n",
       "  <thead>\n",
       "    <tr style=\"text-align: right;\">\n",
       "      <th></th>\n",
       "      <th>Date</th>\n",
       "      <th>Song</th>\n",
       "      <th>Artist</th>\n",
       "      <th>Weeks in Charts</th>\n",
       "      <th>Track ID</th>\n",
       "      <th>track_id</th>\n",
       "      <th>track_name</th>\n",
       "      <th>artist_id</th>\n",
       "      <th>artist_name</th>\n",
       "      <th>Album ID</th>\n",
       "      <th>artist_genres</th>\n",
       "      <th>explicit</th>\n",
       "      <th>duration</th>\n",
       "      <th>key</th>\n",
       "      <th>mode</th>\n",
       "      <th>time_signature</th>\n",
       "      <th>Year</th>\n",
       "    </tr>\n",
       "  </thead>\n",
       "  <tbody>\n",
       "    <tr>\n",
       "      <th>133</th>\n",
       "      <td>1960-11-16</td>\n",
       "      <td>Stay</td>\n",
       "      <td>Maurice Williams &amp; The Zodiacs</td>\n",
       "      <td>8</td>\n",
       "      <td>12BB5t506Of3s3NPBoKScC</td>\n",
       "      <td>567e29TDzLwZwfDuEpGTwo</td>\n",
       "      <td>Stay</td>\n",
       "      <td>2tIP7SsRs7vjIcLrU85W8J</td>\n",
       "      <td>The Kid LAROI &amp; Justin Bieber</td>\n",
       "      <td>576UTio7xgY7YUxrHMzxeI</td>\n",
       "      <td>['australian hip hop']</td>\n",
       "      <td>True</td>\n",
       "      <td>2:21</td>\n",
       "      <td>C♯/D♭</td>\n",
       "      <td>Major</td>\n",
       "      <td>4</td>\n",
       "      <td>1960</td>\n",
       "    </tr>\n",
       "    <tr>\n",
       "      <th>1812</th>\n",
       "      <td>1991-07-17</td>\n",
       "      <td>Unbelievable</td>\n",
       "      <td>EMF</td>\n",
       "      <td>15</td>\n",
       "      <td>5VYTKiOnHw4iTrB9pG3yum</td>\n",
       "      <td>5VYTKiOnHw4iTrB9pG3yum</td>\n",
       "      <td>Unbelievable</td>\n",
       "      <td>39oSLGo3HkaeYXzUEGgAGQ</td>\n",
       "      <td>EMF</td>\n",
       "      <td>475PE6J6LTBGBpt26rRrHe</td>\n",
       "      <td>['britpop', 'dance rock', 'grebo', 'indietroni...</td>\n",
       "      <td>True</td>\n",
       "      <td>3:29</td>\n",
       "      <td>C♯/D♭</td>\n",
       "      <td>Major</td>\n",
       "      <td>4</td>\n",
       "      <td>1991</td>\n",
       "    </tr>\n",
       "    <tr>\n",
       "      <th>1843</th>\n",
       "      <td>1992-02-05</td>\n",
       "      <td>I'm Too Sexy</td>\n",
       "      <td>Right Said Fred</td>\n",
       "      <td>8</td>\n",
       "      <td>1MQrMQwfqjgOjXEUaN9AMd</td>\n",
       "      <td>1MQrMQwfqjgOjXEUaN9AMd</td>\n",
       "      <td>I'm Too Sexy</td>\n",
       "      <td>15ajdFAi5bjj5pS9laBfBL</td>\n",
       "      <td>Right Said Fred</td>\n",
       "      <td>0GeBgrCuLqz4NKMiv1aRez</td>\n",
       "      <td>[]</td>\n",
       "      <td>True</td>\n",
       "      <td>2:50</td>\n",
       "      <td>B</td>\n",
       "      <td>Minor</td>\n",
       "      <td>4</td>\n",
       "      <td>1992</td>\n",
       "    </tr>\n",
       "    <tr>\n",
       "      <th>1844</th>\n",
       "      <td>1992-02-12</td>\n",
       "      <td>I'm Too Sexy</td>\n",
       "      <td>Right Said Fred</td>\n",
       "      <td>9</td>\n",
       "      <td>1MQrMQwfqjgOjXEUaN9AMd</td>\n",
       "      <td>1MQrMQwfqjgOjXEUaN9AMd</td>\n",
       "      <td>I'm Too Sexy</td>\n",
       "      <td>15ajdFAi5bjj5pS9laBfBL</td>\n",
       "      <td>Right Said Fred</td>\n",
       "      <td>0GeBgrCuLqz4NKMiv1aRez</td>\n",
       "      <td>[]</td>\n",
       "      <td>True</td>\n",
       "      <td>2:50</td>\n",
       "      <td>B</td>\n",
       "      <td>Minor</td>\n",
       "      <td>4</td>\n",
       "      <td>1992</td>\n",
       "    </tr>\n",
       "    <tr>\n",
       "      <th>1845</th>\n",
       "      <td>1992-02-19</td>\n",
       "      <td>I'm Too Sexy</td>\n",
       "      <td>Right Said Fred</td>\n",
       "      <td>10</td>\n",
       "      <td>1MQrMQwfqjgOjXEUaN9AMd</td>\n",
       "      <td>1MQrMQwfqjgOjXEUaN9AMd</td>\n",
       "      <td>I'm Too Sexy</td>\n",
       "      <td>15ajdFAi5bjj5pS9laBfBL</td>\n",
       "      <td>Right Said Fred</td>\n",
       "      <td>0GeBgrCuLqz4NKMiv1aRez</td>\n",
       "      <td>[]</td>\n",
       "      <td>True</td>\n",
       "      <td>2:50</td>\n",
       "      <td>B</td>\n",
       "      <td>Minor</td>\n",
       "      <td>4</td>\n",
       "      <td>1992</td>\n",
       "    </tr>\n",
       "    <tr>\n",
       "      <th>...</th>\n",
       "      <td>...</td>\n",
       "      <td>...</td>\n",
       "      <td>...</td>\n",
       "      <td>...</td>\n",
       "      <td>...</td>\n",
       "      <td>...</td>\n",
       "      <td>...</td>\n",
       "      <td>...</td>\n",
       "      <td>...</td>\n",
       "      <td>...</td>\n",
       "      <td>...</td>\n",
       "      <td>...</td>\n",
       "      <td>...</td>\n",
       "      <td>...</td>\n",
       "      <td>...</td>\n",
       "      <td>...</td>\n",
       "      <td>...</td>\n",
       "    </tr>\n",
       "    <tr>\n",
       "      <th>3632</th>\n",
       "      <td>2024-10-09</td>\n",
       "      <td>A Bar Song (Tipsy)</td>\n",
       "      <td>Shaboozey</td>\n",
       "      <td>25</td>\n",
       "      <td>2FQrifJ1N335Ljm3TjTVVf</td>\n",
       "      <td>2FQrifJ1N335Ljm3TjTVVf</td>\n",
       "      <td>A Bar Song (Tipsy)</td>\n",
       "      <td>3y2cIKLjiOlp1Np37WiUdH</td>\n",
       "      <td>Shaboozey</td>\n",
       "      <td>6egBeCLeGITzGSo5VyRjwZ</td>\n",
       "      <td>['modern country pop', 'pop rap']</td>\n",
       "      <td>True</td>\n",
       "      <td>2:51</td>\n",
       "      <td>A</td>\n",
       "      <td>Major</td>\n",
       "      <td>4</td>\n",
       "      <td>2024</td>\n",
       "    </tr>\n",
       "    <tr>\n",
       "      <th>3633</th>\n",
       "      <td>2024-10-16</td>\n",
       "      <td>A Bar Song (Tipsy)</td>\n",
       "      <td>Shaboozey</td>\n",
       "      <td>26</td>\n",
       "      <td>2FQrifJ1N335Ljm3TjTVVf</td>\n",
       "      <td>2FQrifJ1N335Ljm3TjTVVf</td>\n",
       "      <td>A Bar Song (Tipsy)</td>\n",
       "      <td>3y2cIKLjiOlp1Np37WiUdH</td>\n",
       "      <td>Shaboozey</td>\n",
       "      <td>6egBeCLeGITzGSo5VyRjwZ</td>\n",
       "      <td>['modern country pop', 'pop rap']</td>\n",
       "      <td>True</td>\n",
       "      <td>2:51</td>\n",
       "      <td>A</td>\n",
       "      <td>Major</td>\n",
       "      <td>4</td>\n",
       "      <td>2024</td>\n",
       "    </tr>\n",
       "    <tr>\n",
       "      <th>3634</th>\n",
       "      <td>2024-10-23</td>\n",
       "      <td>A Bar Song (Tipsy)</td>\n",
       "      <td>Shaboozey</td>\n",
       "      <td>27</td>\n",
       "      <td>2FQrifJ1N335Ljm3TjTVVf</td>\n",
       "      <td>2FQrifJ1N335Ljm3TjTVVf</td>\n",
       "      <td>A Bar Song (Tipsy)</td>\n",
       "      <td>3y2cIKLjiOlp1Np37WiUdH</td>\n",
       "      <td>Shaboozey</td>\n",
       "      <td>6egBeCLeGITzGSo5VyRjwZ</td>\n",
       "      <td>['modern country pop', 'pop rap']</td>\n",
       "      <td>True</td>\n",
       "      <td>2:51</td>\n",
       "      <td>A</td>\n",
       "      <td>Major</td>\n",
       "      <td>4</td>\n",
       "      <td>2024</td>\n",
       "    </tr>\n",
       "    <tr>\n",
       "      <th>3636</th>\n",
       "      <td>2024-11-06</td>\n",
       "      <td>A Bar Song (Tipsy)</td>\n",
       "      <td>Shaboozey</td>\n",
       "      <td>29</td>\n",
       "      <td>2FQrifJ1N335Ljm3TjTVVf</td>\n",
       "      <td>2FQrifJ1N335Ljm3TjTVVf</td>\n",
       "      <td>A Bar Song (Tipsy)</td>\n",
       "      <td>3y2cIKLjiOlp1Np37WiUdH</td>\n",
       "      <td>Shaboozey</td>\n",
       "      <td>6egBeCLeGITzGSo5VyRjwZ</td>\n",
       "      <td>['modern country pop', 'pop rap']</td>\n",
       "      <td>True</td>\n",
       "      <td>2:51</td>\n",
       "      <td>A</td>\n",
       "      <td>Major</td>\n",
       "      <td>4</td>\n",
       "      <td>2024</td>\n",
       "    </tr>\n",
       "    <tr>\n",
       "      <th>3637</th>\n",
       "      <td>2024-11-13</td>\n",
       "      <td>A Bar Song (Tipsy)</td>\n",
       "      <td>Shaboozey</td>\n",
       "      <td>30</td>\n",
       "      <td>2FQrifJ1N335Ljm3TjTVVf</td>\n",
       "      <td>2FQrifJ1N335Ljm3TjTVVf</td>\n",
       "      <td>A Bar Song (Tipsy)</td>\n",
       "      <td>3y2cIKLjiOlp1Np37WiUdH</td>\n",
       "      <td>Shaboozey</td>\n",
       "      <td>6egBeCLeGITzGSo5VyRjwZ</td>\n",
       "      <td>['modern country pop', 'pop rap']</td>\n",
       "      <td>True</td>\n",
       "      <td>2:51</td>\n",
       "      <td>A</td>\n",
       "      <td>Major</td>\n",
       "      <td>4</td>\n",
       "      <td>2024</td>\n",
       "    </tr>\n",
       "  </tbody>\n",
       "</table>\n",
       "<p>548 rows × 17 columns</p>\n",
       "</div>"
      ],
      "text/plain": [
       "           Date                Song                          Artist  \\\n",
       "133  1960-11-16                Stay  Maurice Williams & The Zodiacs   \n",
       "1812 1991-07-17        Unbelievable                             EMF   \n",
       "1843 1992-02-05        I'm Too Sexy                 Right Said Fred   \n",
       "1844 1992-02-12        I'm Too Sexy                 Right Said Fred   \n",
       "1845 1992-02-19        I'm Too Sexy                 Right Said Fred   \n",
       "...         ...                 ...                             ...   \n",
       "3632 2024-10-09  A Bar Song (Tipsy)                       Shaboozey   \n",
       "3633 2024-10-16  A Bar Song (Tipsy)                       Shaboozey   \n",
       "3634 2024-10-23  A Bar Song (Tipsy)                       Shaboozey   \n",
       "3636 2024-11-06  A Bar Song (Tipsy)                       Shaboozey   \n",
       "3637 2024-11-13  A Bar Song (Tipsy)                       Shaboozey   \n",
       "\n",
       "     Weeks in Charts                Track ID                track_id  \\\n",
       "133                8  12BB5t506Of3s3NPBoKScC  567e29TDzLwZwfDuEpGTwo   \n",
       "1812              15  5VYTKiOnHw4iTrB9pG3yum  5VYTKiOnHw4iTrB9pG3yum   \n",
       "1843               8  1MQrMQwfqjgOjXEUaN9AMd  1MQrMQwfqjgOjXEUaN9AMd   \n",
       "1844               9  1MQrMQwfqjgOjXEUaN9AMd  1MQrMQwfqjgOjXEUaN9AMd   \n",
       "1845              10  1MQrMQwfqjgOjXEUaN9AMd  1MQrMQwfqjgOjXEUaN9AMd   \n",
       "...              ...                     ...                     ...   \n",
       "3632              25  2FQrifJ1N335Ljm3TjTVVf  2FQrifJ1N335Ljm3TjTVVf   \n",
       "3633              26  2FQrifJ1N335Ljm3TjTVVf  2FQrifJ1N335Ljm3TjTVVf   \n",
       "3634              27  2FQrifJ1N335Ljm3TjTVVf  2FQrifJ1N335Ljm3TjTVVf   \n",
       "3636              29  2FQrifJ1N335Ljm3TjTVVf  2FQrifJ1N335Ljm3TjTVVf   \n",
       "3637              30  2FQrifJ1N335Ljm3TjTVVf  2FQrifJ1N335Ljm3TjTVVf   \n",
       "\n",
       "              track_name               artist_id  \\\n",
       "133                 Stay  2tIP7SsRs7vjIcLrU85W8J   \n",
       "1812        Unbelievable  39oSLGo3HkaeYXzUEGgAGQ   \n",
       "1843        I'm Too Sexy  15ajdFAi5bjj5pS9laBfBL   \n",
       "1844        I'm Too Sexy  15ajdFAi5bjj5pS9laBfBL   \n",
       "1845        I'm Too Sexy  15ajdFAi5bjj5pS9laBfBL   \n",
       "...                  ...                     ...   \n",
       "3632  A Bar Song (Tipsy)  3y2cIKLjiOlp1Np37WiUdH   \n",
       "3633  A Bar Song (Tipsy)  3y2cIKLjiOlp1Np37WiUdH   \n",
       "3634  A Bar Song (Tipsy)  3y2cIKLjiOlp1Np37WiUdH   \n",
       "3636  A Bar Song (Tipsy)  3y2cIKLjiOlp1Np37WiUdH   \n",
       "3637  A Bar Song (Tipsy)  3y2cIKLjiOlp1Np37WiUdH   \n",
       "\n",
       "                        artist_name                Album ID  \\\n",
       "133   The Kid LAROI & Justin Bieber  576UTio7xgY7YUxrHMzxeI   \n",
       "1812                            EMF  475PE6J6LTBGBpt26rRrHe   \n",
       "1843                Right Said Fred  0GeBgrCuLqz4NKMiv1aRez   \n",
       "1844                Right Said Fred  0GeBgrCuLqz4NKMiv1aRez   \n",
       "1845                Right Said Fred  0GeBgrCuLqz4NKMiv1aRez   \n",
       "...                             ...                     ...   \n",
       "3632                      Shaboozey  6egBeCLeGITzGSo5VyRjwZ   \n",
       "3633                      Shaboozey  6egBeCLeGITzGSo5VyRjwZ   \n",
       "3634                      Shaboozey  6egBeCLeGITzGSo5VyRjwZ   \n",
       "3636                      Shaboozey  6egBeCLeGITzGSo5VyRjwZ   \n",
       "3637                      Shaboozey  6egBeCLeGITzGSo5VyRjwZ   \n",
       "\n",
       "                                          artist_genres  explicit duration  \\\n",
       "133                              ['australian hip hop']      True     2:21   \n",
       "1812  ['britpop', 'dance rock', 'grebo', 'indietroni...      True     3:29   \n",
       "1843                                                 []      True     2:50   \n",
       "1844                                                 []      True     2:50   \n",
       "1845                                                 []      True     2:50   \n",
       "...                                                 ...       ...      ...   \n",
       "3632                  ['modern country pop', 'pop rap']      True     2:51   \n",
       "3633                  ['modern country pop', 'pop rap']      True     2:51   \n",
       "3634                  ['modern country pop', 'pop rap']      True     2:51   \n",
       "3636                  ['modern country pop', 'pop rap']      True     2:51   \n",
       "3637                  ['modern country pop', 'pop rap']      True     2:51   \n",
       "\n",
       "        key   mode  time_signature  Year  \n",
       "133   C♯/D♭  Major               4  1960  \n",
       "1812  C♯/D♭  Major               4  1991  \n",
       "1843      B  Minor               4  1992  \n",
       "1844      B  Minor               4  1992  \n",
       "1845      B  Minor               4  1992  \n",
       "...     ...    ...             ...   ...  \n",
       "3632      A  Major               4  2024  \n",
       "3633      A  Major               4  2024  \n",
       "3634      A  Major               4  2024  \n",
       "3636      A  Major               4  2024  \n",
       "3637      A  Major               4  2024  \n",
       "\n",
       "[548 rows x 17 columns]"
      ]
     },
     "execution_count": 28,
     "metadata": {},
     "output_type": "execute_result"
    }
   ],
   "source": [
    "merged_df['Year'] = merged_df['Date'].dt.year\n",
    "\n",
    "merged_df[merged_df['explicit']]"
   ]
  },
  {
   "cell_type": "code",
   "execution_count": 44,
   "id": "aed68a31-deab-40f0-b802-39f8260e773b",
   "metadata": {},
   "outputs": [
    {
     "data": {
      "application/vnd.plotly.v1+json": {
       "config": {
        "plotlyServerURL": "https://plot.ly"
       },
       "data": [
        {
         "hovertemplate": "Year=%{x}<br>count=%{y}<extra></extra>",
         "legendgroup": "",
         "line": {
          "color": "#636efa",
          "dash": "solid"
         },
         "marker": {
          "symbol": "circle"
         },
         "mode": "lines+markers",
         "name": "",
         "orientation": "v",
         "showlegend": false,
         "type": "scatter",
         "x": [
          1960,
          1991,
          1992,
          1996,
          1997,
          1998,
          2000,
          2001,
          2002,
          2003,
          2004,
          2005,
          2006,
          2007,
          2008,
          2009,
          2010,
          2011,
          2013,
          2014,
          2015,
          2016,
          2017,
          2018,
          2019,
          2020,
          2021,
          2022,
          2023,
          2024
         ],
         "xaxis": "x",
         "y": [
          1,
          1,
          8,
          10,
          11,
          5,
          6,
          6,
          37,
          22,
          15,
          23,
          20,
          13,
          19,
          18,
          17,
          2,
          20,
          17,
          20,
          18,
          26,
          48,
          20,
          43,
          27,
          11,
          26,
          38
         ],
         "yaxis": "y"
        }
       ],
       "layout": {
        "autosize": true,
        "legend": {
         "tracegroupgap": 0
        },
        "template": {
         "data": {
          "bar": [
           {
            "error_x": {
             "color": "#2a3f5f"
            },
            "error_y": {
             "color": "#2a3f5f"
            },
            "marker": {
             "line": {
              "color": "#E5ECF6",
              "width": 0.5
             },
             "pattern": {
              "fillmode": "overlay",
              "size": 10,
              "solidity": 0.2
             }
            },
            "type": "bar"
           }
          ],
          "barpolar": [
           {
            "marker": {
             "line": {
              "color": "#E5ECF6",
              "width": 0.5
             },
             "pattern": {
              "fillmode": "overlay",
              "size": 10,
              "solidity": 0.2
             }
            },
            "type": "barpolar"
           }
          ],
          "carpet": [
           {
            "aaxis": {
             "endlinecolor": "#2a3f5f",
             "gridcolor": "white",
             "linecolor": "white",
             "minorgridcolor": "white",
             "startlinecolor": "#2a3f5f"
            },
            "baxis": {
             "endlinecolor": "#2a3f5f",
             "gridcolor": "white",
             "linecolor": "white",
             "minorgridcolor": "white",
             "startlinecolor": "#2a3f5f"
            },
            "type": "carpet"
           }
          ],
          "choropleth": [
           {
            "colorbar": {
             "outlinewidth": 0,
             "ticks": ""
            },
            "type": "choropleth"
           }
          ],
          "contour": [
           {
            "colorbar": {
             "outlinewidth": 0,
             "ticks": ""
            },
            "colorscale": [
             [
              0,
              "#0d0887"
             ],
             [
              0.1111111111111111,
              "#46039f"
             ],
             [
              0.2222222222222222,
              "#7201a8"
             ],
             [
              0.3333333333333333,
              "#9c179e"
             ],
             [
              0.4444444444444444,
              "#bd3786"
             ],
             [
              0.5555555555555556,
              "#d8576b"
             ],
             [
              0.6666666666666666,
              "#ed7953"
             ],
             [
              0.7777777777777778,
              "#fb9f3a"
             ],
             [
              0.8888888888888888,
              "#fdca26"
             ],
             [
              1,
              "#f0f921"
             ]
            ],
            "type": "contour"
           }
          ],
          "contourcarpet": [
           {
            "colorbar": {
             "outlinewidth": 0,
             "ticks": ""
            },
            "type": "contourcarpet"
           }
          ],
          "heatmap": [
           {
            "colorbar": {
             "outlinewidth": 0,
             "ticks": ""
            },
            "colorscale": [
             [
              0,
              "#0d0887"
             ],
             [
              0.1111111111111111,
              "#46039f"
             ],
             [
              0.2222222222222222,
              "#7201a8"
             ],
             [
              0.3333333333333333,
              "#9c179e"
             ],
             [
              0.4444444444444444,
              "#bd3786"
             ],
             [
              0.5555555555555556,
              "#d8576b"
             ],
             [
              0.6666666666666666,
              "#ed7953"
             ],
             [
              0.7777777777777778,
              "#fb9f3a"
             ],
             [
              0.8888888888888888,
              "#fdca26"
             ],
             [
              1,
              "#f0f921"
             ]
            ],
            "type": "heatmap"
           }
          ],
          "heatmapgl": [
           {
            "colorbar": {
             "outlinewidth": 0,
             "ticks": ""
            },
            "colorscale": [
             [
              0,
              "#0d0887"
             ],
             [
              0.1111111111111111,
              "#46039f"
             ],
             [
              0.2222222222222222,
              "#7201a8"
             ],
             [
              0.3333333333333333,
              "#9c179e"
             ],
             [
              0.4444444444444444,
              "#bd3786"
             ],
             [
              0.5555555555555556,
              "#d8576b"
             ],
             [
              0.6666666666666666,
              "#ed7953"
             ],
             [
              0.7777777777777778,
              "#fb9f3a"
             ],
             [
              0.8888888888888888,
              "#fdca26"
             ],
             [
              1,
              "#f0f921"
             ]
            ],
            "type": "heatmapgl"
           }
          ],
          "histogram": [
           {
            "marker": {
             "pattern": {
              "fillmode": "overlay",
              "size": 10,
              "solidity": 0.2
             }
            },
            "type": "histogram"
           }
          ],
          "histogram2d": [
           {
            "colorbar": {
             "outlinewidth": 0,
             "ticks": ""
            },
            "colorscale": [
             [
              0,
              "#0d0887"
             ],
             [
              0.1111111111111111,
              "#46039f"
             ],
             [
              0.2222222222222222,
              "#7201a8"
             ],
             [
              0.3333333333333333,
              "#9c179e"
             ],
             [
              0.4444444444444444,
              "#bd3786"
             ],
             [
              0.5555555555555556,
              "#d8576b"
             ],
             [
              0.6666666666666666,
              "#ed7953"
             ],
             [
              0.7777777777777778,
              "#fb9f3a"
             ],
             [
              0.8888888888888888,
              "#fdca26"
             ],
             [
              1,
              "#f0f921"
             ]
            ],
            "type": "histogram2d"
           }
          ],
          "histogram2dcontour": [
           {
            "colorbar": {
             "outlinewidth": 0,
             "ticks": ""
            },
            "colorscale": [
             [
              0,
              "#0d0887"
             ],
             [
              0.1111111111111111,
              "#46039f"
             ],
             [
              0.2222222222222222,
              "#7201a8"
             ],
             [
              0.3333333333333333,
              "#9c179e"
             ],
             [
              0.4444444444444444,
              "#bd3786"
             ],
             [
              0.5555555555555556,
              "#d8576b"
             ],
             [
              0.6666666666666666,
              "#ed7953"
             ],
             [
              0.7777777777777778,
              "#fb9f3a"
             ],
             [
              0.8888888888888888,
              "#fdca26"
             ],
             [
              1,
              "#f0f921"
             ]
            ],
            "type": "histogram2dcontour"
           }
          ],
          "mesh3d": [
           {
            "colorbar": {
             "outlinewidth": 0,
             "ticks": ""
            },
            "type": "mesh3d"
           }
          ],
          "parcoords": [
           {
            "line": {
             "colorbar": {
              "outlinewidth": 0,
              "ticks": ""
             }
            },
            "type": "parcoords"
           }
          ],
          "pie": [
           {
            "automargin": true,
            "type": "pie"
           }
          ],
          "scatter": [
           {
            "fillpattern": {
             "fillmode": "overlay",
             "size": 10,
             "solidity": 0.2
            },
            "type": "scatter"
           }
          ],
          "scatter3d": [
           {
            "line": {
             "colorbar": {
              "outlinewidth": 0,
              "ticks": ""
             }
            },
            "marker": {
             "colorbar": {
              "outlinewidth": 0,
              "ticks": ""
             }
            },
            "type": "scatter3d"
           }
          ],
          "scattercarpet": [
           {
            "marker": {
             "colorbar": {
              "outlinewidth": 0,
              "ticks": ""
             }
            },
            "type": "scattercarpet"
           }
          ],
          "scattergeo": [
           {
            "marker": {
             "colorbar": {
              "outlinewidth": 0,
              "ticks": ""
             }
            },
            "type": "scattergeo"
           }
          ],
          "scattergl": [
           {
            "marker": {
             "colorbar": {
              "outlinewidth": 0,
              "ticks": ""
             }
            },
            "type": "scattergl"
           }
          ],
          "scattermapbox": [
           {
            "marker": {
             "colorbar": {
              "outlinewidth": 0,
              "ticks": ""
             }
            },
            "type": "scattermapbox"
           }
          ],
          "scatterpolar": [
           {
            "marker": {
             "colorbar": {
              "outlinewidth": 0,
              "ticks": ""
             }
            },
            "type": "scatterpolar"
           }
          ],
          "scatterpolargl": [
           {
            "marker": {
             "colorbar": {
              "outlinewidth": 0,
              "ticks": ""
             }
            },
            "type": "scatterpolargl"
           }
          ],
          "scatterternary": [
           {
            "marker": {
             "colorbar": {
              "outlinewidth": 0,
              "ticks": ""
             }
            },
            "type": "scatterternary"
           }
          ],
          "surface": [
           {
            "colorbar": {
             "outlinewidth": 0,
             "ticks": ""
            },
            "colorscale": [
             [
              0,
              "#0d0887"
             ],
             [
              0.1111111111111111,
              "#46039f"
             ],
             [
              0.2222222222222222,
              "#7201a8"
             ],
             [
              0.3333333333333333,
              "#9c179e"
             ],
             [
              0.4444444444444444,
              "#bd3786"
             ],
             [
              0.5555555555555556,
              "#d8576b"
             ],
             [
              0.6666666666666666,
              "#ed7953"
             ],
             [
              0.7777777777777778,
              "#fb9f3a"
             ],
             [
              0.8888888888888888,
              "#fdca26"
             ],
             [
              1,
              "#f0f921"
             ]
            ],
            "type": "surface"
           }
          ],
          "table": [
           {
            "cells": {
             "fill": {
              "color": "#EBF0F8"
             },
             "line": {
              "color": "white"
             }
            },
            "header": {
             "fill": {
              "color": "#C8D4E3"
             },
             "line": {
              "color": "white"
             }
            },
            "type": "table"
           }
          ]
         },
         "layout": {
          "annotationdefaults": {
           "arrowcolor": "#2a3f5f",
           "arrowhead": 0,
           "arrowwidth": 1
          },
          "autotypenumbers": "strict",
          "coloraxis": {
           "colorbar": {
            "outlinewidth": 0,
            "ticks": ""
           }
          },
          "colorscale": {
           "diverging": [
            [
             0,
             "#8e0152"
            ],
            [
             0.1,
             "#c51b7d"
            ],
            [
             0.2,
             "#de77ae"
            ],
            [
             0.3,
             "#f1b6da"
            ],
            [
             0.4,
             "#fde0ef"
            ],
            [
             0.5,
             "#f7f7f7"
            ],
            [
             0.6,
             "#e6f5d0"
            ],
            [
             0.7,
             "#b8e186"
            ],
            [
             0.8,
             "#7fbc41"
            ],
            [
             0.9,
             "#4d9221"
            ],
            [
             1,
             "#276419"
            ]
           ],
           "sequential": [
            [
             0,
             "#0d0887"
            ],
            [
             0.1111111111111111,
             "#46039f"
            ],
            [
             0.2222222222222222,
             "#7201a8"
            ],
            [
             0.3333333333333333,
             "#9c179e"
            ],
            [
             0.4444444444444444,
             "#bd3786"
            ],
            [
             0.5555555555555556,
             "#d8576b"
            ],
            [
             0.6666666666666666,
             "#ed7953"
            ],
            [
             0.7777777777777778,
             "#fb9f3a"
            ],
            [
             0.8888888888888888,
             "#fdca26"
            ],
            [
             1,
             "#f0f921"
            ]
           ],
           "sequentialminus": [
            [
             0,
             "#0d0887"
            ],
            [
             0.1111111111111111,
             "#46039f"
            ],
            [
             0.2222222222222222,
             "#7201a8"
            ],
            [
             0.3333333333333333,
             "#9c179e"
            ],
            [
             0.4444444444444444,
             "#bd3786"
            ],
            [
             0.5555555555555556,
             "#d8576b"
            ],
            [
             0.6666666666666666,
             "#ed7953"
            ],
            [
             0.7777777777777778,
             "#fb9f3a"
            ],
            [
             0.8888888888888888,
             "#fdca26"
            ],
            [
             1,
             "#f0f921"
            ]
           ]
          },
          "colorway": [
           "#636efa",
           "#EF553B",
           "#00cc96",
           "#ab63fa",
           "#FFA15A",
           "#19d3f3",
           "#FF6692",
           "#B6E880",
           "#FF97FF",
           "#FECB52"
          ],
          "font": {
           "color": "#2a3f5f"
          },
          "geo": {
           "bgcolor": "white",
           "lakecolor": "white",
           "landcolor": "#E5ECF6",
           "showlakes": true,
           "showland": true,
           "subunitcolor": "white"
          },
          "hoverlabel": {
           "align": "left"
          },
          "hovermode": "closest",
          "mapbox": {
           "style": "light"
          },
          "paper_bgcolor": "white",
          "plot_bgcolor": "#E5ECF6",
          "polar": {
           "angularaxis": {
            "gridcolor": "white",
            "linecolor": "white",
            "ticks": ""
           },
           "bgcolor": "#E5ECF6",
           "radialaxis": {
            "gridcolor": "white",
            "linecolor": "white",
            "ticks": ""
           }
          },
          "scene": {
           "xaxis": {
            "backgroundcolor": "#E5ECF6",
            "gridcolor": "white",
            "gridwidth": 2,
            "linecolor": "white",
            "showbackground": true,
            "ticks": "",
            "zerolinecolor": "white"
           },
           "yaxis": {
            "backgroundcolor": "#E5ECF6",
            "gridcolor": "white",
            "gridwidth": 2,
            "linecolor": "white",
            "showbackground": true,
            "ticks": "",
            "zerolinecolor": "white"
           },
           "zaxis": {
            "backgroundcolor": "#E5ECF6",
            "gridcolor": "white",
            "gridwidth": 2,
            "linecolor": "white",
            "showbackground": true,
            "ticks": "",
            "zerolinecolor": "white"
           }
          },
          "shapedefaults": {
           "line": {
            "color": "#2a3f5f"
           }
          },
          "ternary": {
           "aaxis": {
            "gridcolor": "white",
            "linecolor": "white",
            "ticks": ""
           },
           "baxis": {
            "gridcolor": "white",
            "linecolor": "white",
            "ticks": ""
           },
           "bgcolor": "#E5ECF6",
           "caxis": {
            "gridcolor": "white",
            "linecolor": "white",
            "ticks": ""
           }
          },
          "title": {
           "x": 0.05
          },
          "xaxis": {
           "automargin": true,
           "gridcolor": "white",
           "linecolor": "white",
           "ticks": "",
           "title": {
            "standoff": 15
           },
           "zerolinecolor": "white",
           "zerolinewidth": 2
          },
          "yaxis": {
           "automargin": true,
           "gridcolor": "white",
           "linecolor": "white",
           "ticks": "",
           "title": {
            "standoff": 15
           },
           "zerolinecolor": "white",
           "zerolinewidth": 2
          }
         }
        },
        "title": {
         "font": {
          "size": 14
         },
         "text": "Conteo de Semanas en las que Aparecen Canciones Explícitas en los Charts"
        },
        "xaxis": {
         "anchor": "y",
         "autorange": true,
         "domain": [
          0,
          1
         ],
         "range": [
          1956.132444132444,
          2027.867555867556
         ],
         "title": {
          "text": "Año"
         },
         "type": "linear"
        },
        "yaxis": {
         "anchor": "x",
         "autorange": true,
         "domain": [
          0,
          1
         ],
         "range": [
          -2.878640776699029,
          51.87864077669903
         ],
         "title": {
          "text": "Semanas en los Charts"
         },
         "type": "linear"
        }
       }
      },
      "image/png": "[encoded data removed]",
      "text/html": [
       "<div>                            <div id=\"4d2aa5d2-a953-41da-9d83-cc2092ea9953\" class=\"plotly-graph-div\" style=\"height:525px; width:100%;\"></div>            <script type=\"text/javascript\">                require([\"plotly\"], function(Plotly) {                    window.PLOTLYENV=window.PLOTLYENV || {};                                    if (document.getElementById(\"4d2aa5d2-a953-41da-9d83-cc2092ea9953\")) {                    Plotly.newPlot(                        \"4d2aa5d2-a953-41da-9d83-cc2092ea9953\",                        [{\"hovertemplate\":\"Year=%{x}\\u003cbr\\u003ecount=%{y}\\u003cextra\\u003e\\u003c\\u002fextra\\u003e\",\"legendgroup\":\"\",\"line\":{\"color\":\"#636efa\",\"dash\":\"solid\"},\"marker\":{\"symbol\":\"circle\"},\"mode\":\"lines+markers\",\"name\":\"\",\"orientation\":\"v\",\"showlegend\":false,\"x\":[1960,1991,1992,1996,1997,1998,2000,2001,2002,2003,2004,2005,2006,2007,2008,2009,2010,2011,2013,2014,2015,2016,2017,2018,2019,2020,2021,2022,2023,2024],\"xaxis\":\"x\",\"y\":[1,1,8,10,11,5,6,6,37,22,15,23,20,13,19,18,17,2,20,17,20,18,26,48,20,43,27,11,26,38],\"yaxis\":\"y\",\"type\":\"scatter\"}],                        {\"template\":{\"data\":{\"histogram2dcontour\":[{\"type\":\"histogram2dcontour\",\"colorbar\":{\"outlinewidth\":0,\"ticks\":\"\"},\"colorscale\":[[0.0,\"#0d0887\"],[0.1111111111111111,\"#46039f\"],[0.2222222222222222,\"#7201a8\"],[0.3333333333333333,\"#9c179e\"],[0.4444444444444444,\"#bd3786\"],[0.5555555555555556,\"#d8576b\"],[0.6666666666666666,\"#ed7953\"],[0.7777777777777778,\"#fb9f3a\"],[0.8888888888888888,\"#fdca26\"],[1.0,\"#f0f921\"]]}],\"choropleth\":[{\"type\":\"choropleth\",\"colorbar\":{\"outlinewidth\":0,\"ticks\":\"\"}}],\"histogram2d\":[{\"type\":\"histogram2d\",\"colorbar\":{\"outlinewidth\":0,\"ticks\":\"\"},\"colorscale\":[[0.0,\"#0d0887\"],[0.1111111111111111,\"#46039f\"],[0.2222222222222222,\"#7201a8\"],[0.3333333333333333,\"#9c179e\"],[0.4444444444444444,\"#bd3786\"],[0.5555555555555556,\"#d8576b\"],[0.6666666666666666,\"#ed7953\"],[0.7777777777777778,\"#fb9f3a\"],[0.8888888888888888,\"#fdca26\"],[1.0,\"#f0f921\"]]}],\"heatmap\":[{\"type\":\"heatmap\",\"colorbar\":{\"outlinewidth\":0,\"ticks\":\"\"},\"colorscale\":[[0.0,\"#0d0887\"],[0.1111111111111111,\"#46039f\"],[0.2222222222222222,\"#7201a8\"],[0.3333333333333333,\"#9c179e\"],[0.4444444444444444,\"#bd3786\"],[0.5555555555555556,\"#d8576b\"],[0.6666666666666666,\"#ed7953\"],[0.7777777777777778,\"#fb9f3a\"],[0.8888888888888888,\"#fdca26\"],[1.0,\"#f0f921\"]]}],\"heatmapgl\":[{\"type\":\"heatmapgl\",\"colorbar\":{\"outlinewidth\":0,\"ticks\":\"\"},\"colorscale\":[[0.0,\"#0d0887\"],[0.1111111111111111,\"#46039f\"],[0.2222222222222222,\"#7201a8\"],[0.3333333333333333,\"#9c179e\"],[0.4444444444444444,\"#bd3786\"],[0.5555555555555556,\"#d8576b\"],[0.6666666666666666,\"#ed7953\"],[0.7777777777777778,\"#fb9f3a\"],[0.8888888888888888,\"#fdca26\"],[1.0,\"#f0f921\"]]}],\"contourcarpet\":[{\"type\":\"contourcarpet\",\"colorbar\":{\"outlinewidth\":0,\"ticks\":\"\"}}],\"contour\":[{\"type\":\"contour\",\"colorbar\":{\"outlinewidth\":0,\"ticks\":\"\"},\"colorscale\":[[0.0,\"#0d0887\"],[0.1111111111111111,\"#46039f\"],[0.2222222222222222,\"#7201a8\"],[0.3333333333333333,\"#9c179e\"],[0.4444444444444444,\"#bd3786\"],[0.5555555555555556,\"#d8576b\"],[0.6666666666666666,\"#ed7953\"],[0.7777777777777778,\"#fb9f3a\"],[0.8888888888888888,\"#fdca26\"],[1.0,\"#f0f921\"]]}],\"surface\":[{\"type\":\"surface\",\"colorbar\":{\"outlinewidth\":0,\"ticks\":\"\"},\"colorscale\":[[0.0,\"#0d0887\"],[0.1111111111111111,\"#46039f\"],[0.2222222222222222,\"#7201a8\"],[0.3333333333333333,\"#9c179e\"],[0.4444444444444444,\"#bd3786\"],[0.5555555555555556,\"#d8576b\"],[0.6666666666666666,\"#ed7953\"],[0.7777777777777778,\"#fb9f3a\"],[0.8888888888888888,\"#fdca26\"],[1.0,\"#f0f921\"]]}],\"mesh3d\":[{\"type\":\"mesh3d\",\"colorbar\":{\"outlinewidth\":0,\"ticks\":\"\"}}],\"scatter\":[{\"fillpattern\":{\"fillmode\":\"overlay\",\"size\":10,\"solidity\":0.2},\"type\":\"scatter\"}],\"parcoords\":[{\"type\":\"parcoords\",\"line\":{\"colorbar\":{\"outlinewidth\":0,\"ticks\":\"\"}}}],\"scatterpolargl\":[{\"type\":\"scatterpolargl\",\"marker\":{\"colorbar\":{\"outlinewidth\":0,\"ticks\":\"\"}}}],\"bar\":[{\"error_x\":{\"color\":\"#2a3f5f\"},\"error_y\":{\"color\":\"#2a3f5f\"},\"marker\":{\"line\":{\"color\":\"#E5ECF6\",\"width\":0.5},\"pattern\":{\"fillmode\":\"overlay\",\"size\":10,\"solidity\":0.2}},\"type\":\"bar\"}],\"scattergeo\":[{\"type\":\"scattergeo\",\"marker\":{\"colorbar\":{\"outlinewidth\":0,\"ticks\":\"\"}}}],\"scatterpolar\":[{\"type\":\"scatterpolar\",\"marker\":{\"colorbar\":{\"outlinewidth\":0,\"ticks\":\"\"}}}],\"histogram\":[{\"marker\":{\"pattern\":{\"fillmode\":\"overlay\",\"size\":10,\"solidity\":0.2}},\"type\":\"histogram\"}],\"scattergl\":[{\"type\":\"scattergl\",\"marker\":{\"colorbar\":{\"outlinewidth\":0,\"ticks\":\"\"}}}],\"scatter3d\":[{\"type\":\"scatter3d\",\"line\":{\"colorbar\":{\"outlinewidth\":0,\"ticks\":\"\"}},\"marker\":{\"colorbar\":{\"outlinewidth\":0,\"ticks\":\"\"}}}],\"scattermapbox\":[{\"type\":\"scattermapbox\",\"marker\":{\"colorbar\":{\"outlinewidth\":0,\"ticks\":\"\"}}}],\"scatterternary\":[{\"type\":\"scatterternary\",\"marker\":{\"colorbar\":{\"outlinewidth\":0,\"ticks\":\"\"}}}],\"scattercarpet\":[{\"type\":\"scattercarpet\",\"marker\":{\"colorbar\":{\"outlinewidth\":0,\"ticks\":\"\"}}}],\"carpet\":[{\"aaxis\":{\"endlinecolor\":\"#2a3f5f\",\"gridcolor\":\"white\",\"linecolor\":\"white\",\"minorgridcolor\":\"white\",\"startlinecolor\":\"#2a3f5f\"},\"baxis\":{\"endlinecolor\":\"#2a3f5f\",\"gridcolor\":\"white\",\"linecolor\":\"white\",\"minorgridcolor\":\"white\",\"startlinecolor\":\"#2a3f5f\"},\"type\":\"carpet\"}],\"table\":[{\"cells\":{\"fill\":{\"color\":\"#EBF0F8\"},\"line\":{\"color\":\"white\"}},\"header\":{\"fill\":{\"color\":\"#C8D4E3\"},\"line\":{\"color\":\"white\"}},\"type\":\"table\"}],\"barpolar\":[{\"marker\":{\"line\":{\"color\":\"#E5ECF6\",\"width\":0.5},\"pattern\":{\"fillmode\":\"overlay\",\"size\":10,\"solidity\":0.2}},\"type\":\"barpolar\"}],\"pie\":[{\"automargin\":true,\"type\":\"pie\"}]},\"layout\":{\"autotypenumbers\":\"strict\",\"colorway\":[\"#636efa\",\"#EF553B\",\"#00cc96\",\"#ab63fa\",\"#FFA15A\",\"#19d3f3\",\"#FF6692\",\"#B6E880\",\"#FF97FF\",\"#FECB52\"],\"font\":{\"color\":\"#2a3f5f\"},\"hovermode\":\"closest\",\"hoverlabel\":{\"align\":\"left\"},\"paper_bgcolor\":\"white\",\"plot_bgcolor\":\"#E5ECF6\",\"polar\":{\"bgcolor\":\"#E5ECF6\",\"angularaxis\":{\"gridcolor\":\"white\",\"linecolor\":\"white\",\"ticks\":\"\"},\"radialaxis\":{\"gridcolor\":\"white\",\"linecolor\":\"white\",\"ticks\":\"\"}},\"ternary\":{\"bgcolor\":\"#E5ECF6\",\"aaxis\":{\"gridcolor\":\"white\",\"linecolor\":\"white\",\"ticks\":\"\"},\"baxis\":{\"gridcolor\":\"white\",\"linecolor\":\"white\",\"ticks\":\"\"},\"caxis\":{\"gridcolor\":\"white\",\"linecolor\":\"white\",\"ticks\":\"\"}},\"coloraxis\":{\"colorbar\":{\"outlinewidth\":0,\"ticks\":\"\"}},\"colorscale\":{\"sequential\":[[0.0,\"#0d0887\"],[0.1111111111111111,\"#46039f\"],[0.2222222222222222,\"#7201a8\"],[0.3333333333333333,\"#9c179e\"],[0.4444444444444444,\"#bd3786\"],[0.5555555555555556,\"#d8576b\"],[0.6666666666666666,\"#ed7953\"],[0.7777777777777778,\"#fb9f3a\"],[0.8888888888888888,\"#fdca26\"],[1.0,\"#f0f921\"]],\"sequentialminus\":[[0.0,\"#0d0887\"],[0.1111111111111111,\"#46039f\"],[0.2222222222222222,\"#7201a8\"],[0.3333333333333333,\"#9c179e\"],[0.4444444444444444,\"#bd3786\"],[0.5555555555555556,\"#d8576b\"],[0.6666666666666666,\"#ed7953\"],[0.7777777777777778,\"#fb9f3a\"],[0.8888888888888888,\"#fdca26\"],[1.0,\"#f0f921\"]],\"diverging\":[[0,\"#8e0152\"],[0.1,\"#c51b7d\"],[0.2,\"#de77ae\"],[0.3,\"#f1b6da\"],[0.4,\"#fde0ef\"],[0.5,\"#f7f7f7\"],[0.6,\"#e6f5d0\"],[0.7,\"#b8e186\"],[0.8,\"#7fbc41\"],[0.9,\"#4d9221\"],[1,\"#276419\"]]},\"xaxis\":{\"gridcolor\":\"white\",\"linecolor\":\"white\",\"ticks\":\"\",\"title\":{\"standoff\":15},\"zerolinecolor\":\"white\",\"automargin\":true,\"zerolinewidth\":2},\"yaxis\":{\"gridcolor\":\"white\",\"linecolor\":\"white\",\"ticks\":\"\",\"title\":{\"standoff\":15},\"zerolinecolor\":\"white\",\"automargin\":true,\"zerolinewidth\":2},\"scene\":{\"xaxis\":{\"backgroundcolor\":\"#E5ECF6\",\"gridcolor\":\"white\",\"linecolor\":\"white\",\"showbackground\":true,\"ticks\":\"\",\"zerolinecolor\":\"white\",\"gridwidth\":2},\"yaxis\":{\"backgroundcolor\":\"#E5ECF6\",\"gridcolor\":\"white\",\"linecolor\":\"white\",\"showbackground\":true,\"ticks\":\"\",\"zerolinecolor\":\"white\",\"gridwidth\":2},\"zaxis\":{\"backgroundcolor\":\"#E5ECF6\",\"gridcolor\":\"white\",\"linecolor\":\"white\",\"showbackground\":true,\"ticks\":\"\",\"zerolinecolor\":\"white\",\"gridwidth\":2}},\"shapedefaults\":{\"line\":{\"color\":\"#2a3f5f\"}},\"annotationdefaults\":{\"arrowcolor\":\"#2a3f5f\",\"arrowhead\":0,\"arrowwidth\":1},\"geo\":{\"bgcolor\":\"white\",\"landcolor\":\"#E5ECF6\",\"subunitcolor\":\"white\",\"showland\":true,\"showlakes\":true,\"lakecolor\":\"white\"},\"title\":{\"x\":0.05},\"mapbox\":{\"style\":\"light\"}}},\"xaxis\":{\"anchor\":\"y\",\"domain\":[0.0,1.0],\"title\":{\"text\":\"A\\u00f1o\"}},\"yaxis\":{\"anchor\":\"x\",\"domain\":[0.0,1.0],\"title\":{\"text\":\"Semanas en los Charts\"}},\"legend\":{\"tracegroupgap\":0},\"title\":{\"text\":\"Conteo de Semanas en las que Aparecen Canciones Expl\\u00edcitas en los Charts\",\"font\":{\"size\":14}}},                        {\"responsive\": true}                    ).then(function(){\n",
       "                            \n",
       "var gd = document.getElementById('4d2aa5d2-a953-41da-9d83-cc2092ea9953');\n",
       "var x = new MutationObserver(function (mutations, observer) {{\n",
       "        var display = window.getComputedStyle(gd).display;\n",
       "        if (!display || display === 'none') {{\n",
       "            console.log([gd, 'removed!']);\n",
       "            Plotly.purge(gd);\n",
       "            observer.disconnect();\n",
       "        }}\n",
       "}});\n",
       "\n",
       "// Listen for the removal of the full notebook cells\n",
       "var notebookContainer = gd.closest('#notebook-container');\n",
       "if (notebookContainer) {{\n",
       "    x.observe(notebookContainer, {childList: true});\n",
       "}}\n",
       "\n",
       "// Listen for the clearing of the current output cell\n",
       "var outputEl = gd.closest('.output');\n",
       "if (outputEl) {{\n",
       "    x.observe(outputEl, {childList: true});\n",
       "}}\n",
       "\n",
       "                        })                };                });            </script>        </div>"
      ]
     },
     "metadata": {},
     "output_type": "display_data"
    }
   ],
   "source": [
    "\n",
    "explicit_count = merged_df[merged_df['explicit']].groupby('Year').size().reset_index(name='count')\n",
    "\n",
    "# Plot using plotly\n",
    "fig = px.line(explicit_count, x='Year', y='count', markers=True, title='Conteo de Semanas en las que Aparecen Canciones Explícitas en los Charts')\n",
    "fig.update_layout(\n",
    "    xaxis_title='Año',\n",
    "    yaxis_title='Semanas en los Charts',\n",
    "    title_font_size=14\n",
    ")\n",
    "fig.show()\n"
   ]
  },
  {
   "cell_type": "code",
   "execution_count": 32,
   "id": "297d185b-23f6-4123-8e8c-3d695e44ce8c",
   "metadata": {},
   "outputs": [
    {
     "data": {
      "text/html": [
       "<div>\n",
       "<style scoped>\n",
       "    .dataframe tbody tr th:only-of-type {\n",
       "        vertical-align: middle;\n",
       "    }\n",
       "\n",
       "    .dataframe tbody tr th {\n",
       "        vertical-align: top;\n",
       "    }\n",
       "\n",
       "    .dataframe thead th {\n",
       "        text-align: right;\n",
       "    }\n",
       "</style>\n",
       "<table border=\"1\" class=\"dataframe\">\n",
       "  <thead>\n",
       "    <tr style=\"text-align: right;\">\n",
       "      <th></th>\n",
       "      <th>Year</th>\n",
       "      <th>count</th>\n",
       "    </tr>\n",
       "  </thead>\n",
       "  <tbody>\n",
       "    <tr>\n",
       "      <th>0</th>\n",
       "      <td>1960</td>\n",
       "      <td>1</td>\n",
       "    </tr>\n",
       "    <tr>\n",
       "      <th>1</th>\n",
       "      <td>1991</td>\n",
       "      <td>1</td>\n",
       "    </tr>\n",
       "    <tr>\n",
       "      <th>2</th>\n",
       "      <td>1992</td>\n",
       "      <td>8</td>\n",
       "    </tr>\n",
       "    <tr>\n",
       "      <th>3</th>\n",
       "      <td>1996</td>\n",
       "      <td>10</td>\n",
       "    </tr>\n",
       "    <tr>\n",
       "      <th>4</th>\n",
       "      <td>1997</td>\n",
       "      <td>11</td>\n",
       "    </tr>\n",
       "    <tr>\n",
       "      <th>5</th>\n",
       "      <td>1998</td>\n",
       "      <td>5</td>\n",
       "    </tr>\n",
       "    <tr>\n",
       "      <th>6</th>\n",
       "      <td>2000</td>\n",
       "      <td>6</td>\n",
       "    </tr>\n",
       "    <tr>\n",
       "      <th>7</th>\n",
       "      <td>2001</td>\n",
       "      <td>6</td>\n",
       "    </tr>\n",
       "    <tr>\n",
       "      <th>8</th>\n",
       "      <td>2002</td>\n",
       "      <td>37</td>\n",
       "    </tr>\n",
       "    <tr>\n",
       "      <th>9</th>\n",
       "      <td>2003</td>\n",
       "      <td>22</td>\n",
       "    </tr>\n",
       "    <tr>\n",
       "      <th>10</th>\n",
       "      <td>2004</td>\n",
       "      <td>15</td>\n",
       "    </tr>\n",
       "    <tr>\n",
       "      <th>11</th>\n",
       "      <td>2005</td>\n",
       "      <td>23</td>\n",
       "    </tr>\n",
       "    <tr>\n",
       "      <th>12</th>\n",
       "      <td>2006</td>\n",
       "      <td>20</td>\n",
       "    </tr>\n",
       "    <tr>\n",
       "      <th>13</th>\n",
       "      <td>2007</td>\n",
       "      <td>13</td>\n",
       "    </tr>\n",
       "    <tr>\n",
       "      <th>14</th>\n",
       "      <td>2008</td>\n",
       "      <td>19</td>\n",
       "    </tr>\n",
       "    <tr>\n",
       "      <th>15</th>\n",
       "      <td>2009</td>\n",
       "      <td>18</td>\n",
       "    </tr>\n",
       "    <tr>\n",
       "      <th>16</th>\n",
       "      <td>2010</td>\n",
       "      <td>17</td>\n",
       "    </tr>\n",
       "    <tr>\n",
       "      <th>17</th>\n",
       "      <td>2011</td>\n",
       "      <td>2</td>\n",
       "    </tr>\n",
       "    <tr>\n",
       "      <th>18</th>\n",
       "      <td>2013</td>\n",
       "      <td>20</td>\n",
       "    </tr>\n",
       "    <tr>\n",
       "      <th>19</th>\n",
       "      <td>2014</td>\n",
       "      <td>17</td>\n",
       "    </tr>\n",
       "    <tr>\n",
       "      <th>20</th>\n",
       "      <td>2015</td>\n",
       "      <td>20</td>\n",
       "    </tr>\n",
       "    <tr>\n",
       "      <th>21</th>\n",
       "      <td>2016</td>\n",
       "      <td>18</td>\n",
       "    </tr>\n",
       "    <tr>\n",
       "      <th>22</th>\n",
       "      <td>2017</td>\n",
       "      <td>26</td>\n",
       "    </tr>\n",
       "    <tr>\n",
       "      <th>23</th>\n",
       "      <td>2018</td>\n",
       "      <td>48</td>\n",
       "    </tr>\n",
       "    <tr>\n",
       "      <th>24</th>\n",
       "      <td>2019</td>\n",
       "      <td>20</td>\n",
       "    </tr>\n",
       "    <tr>\n",
       "      <th>25</th>\n",
       "      <td>2020</td>\n",
       "      <td>43</td>\n",
       "    </tr>\n",
       "    <tr>\n",
       "      <th>26</th>\n",
       "      <td>2021</td>\n",
       "      <td>27</td>\n",
       "    </tr>\n",
       "    <tr>\n",
       "      <th>27</th>\n",
       "      <td>2022</td>\n",
       "      <td>11</td>\n",
       "    </tr>\n",
       "    <tr>\n",
       "      <th>28</th>\n",
       "      <td>2023</td>\n",
       "      <td>26</td>\n",
       "    </tr>\n",
       "    <tr>\n",
       "      <th>29</th>\n",
       "      <td>2024</td>\n",
       "      <td>38</td>\n",
       "    </tr>\n",
       "  </tbody>\n",
       "</table>\n",
       "</div>"
      ],
      "text/plain": [
       "    Year  count\n",
       "0   1960      1\n",
       "1   1991      1\n",
       "2   1992      8\n",
       "3   1996     10\n",
       "4   1997     11\n",
       "5   1998      5\n",
       "6   2000      6\n",
       "7   2001      6\n",
       "8   2002     37\n",
       "9   2003     22\n",
       "10  2004     15\n",
       "11  2005     23\n",
       "12  2006     20\n",
       "13  2007     13\n",
       "14  2008     19\n",
       "15  2009     18\n",
       "16  2010     17\n",
       "17  2011      2\n",
       "18  2013     20\n",
       "19  2014     17\n",
       "20  2015     20\n",
       "21  2016     18\n",
       "22  2017     26\n",
       "23  2018     48\n",
       "24  2019     20\n",
       "25  2020     43\n",
       "26  2021     27\n",
       "27  2022     11\n",
       "28  2023     26\n",
       "29  2024     38"
      ]
     },
     "execution_count": 32,
     "metadata": {},
     "output_type": "execute_result"
    }
   ],
   "source": [
    "explicit_count"
   ]
  },
  {
   "cell_type": "code",
   "execution_count": null,
   "id": "42e26d9c-4c72-4003-87c1-5c28f7874796",
   "metadata": {},
   "outputs": [],
   "source": []
  },
  {
   "cell_type": "code",
   "execution_count": null,
   "id": "df5920f1-9363-483b-b53a-ae7fe8d80086",
   "metadata": {},
   "outputs": [],
   "source": []
  },
  {
   "cell_type": "code",
   "execution_count": null,
   "id": "6a769cd4-40ce-44bd-8cdd-0287525ef1f9",
   "metadata": {},
   "outputs": [],
   "source": []
  },
  {
   "cell_type": "code",
   "execution_count": null,
   "id": "f2fd674f-1fca-4cba-b033-bc1c33791c0b",
   "metadata": {},
   "outputs": [],
   "source": []
  }
 ],
 "metadata": {
  "kernelspec": {
   "display_name": "Python 3 (ipykernel)",
   "language": "python",
   "name": "python3"
  },
  "language_info": {
   "codemirror_mode": {
    "name": "ipython",
    "version": 3
   },
   "file_extension": ".py",
   "mimetype": "text/x-python",
   "name": "python",
   "nbconvert_exporter": "python",
   "pygments_lexer": "ipython3",
   "version": "3.12.4"
  }
 },
 "nbformat": 4,
 "nbformat_minor": 5
}
