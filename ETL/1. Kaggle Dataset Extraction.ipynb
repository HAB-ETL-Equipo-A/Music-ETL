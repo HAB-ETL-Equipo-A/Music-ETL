{
 "cells": [
  {
   "cell_type": "code",
   "execution_count": 1,
   "id": "7579b9f6-abdd-4b22-822c-61398a9879b4",
   "metadata": {},
   "outputs": [],
   "source": [
    "from kaggle.api.kaggle_api_extended import KaggleApi\n",
    "import os\n",
    "import pandas as pd\n",
    "import streamlit as st"
   ]
  },
  {
   "cell_type": "code",
   "execution_count": 23,
   "id": "1bdb831b-0e30-4e9c-9371-422623f3ff29",
   "metadata": {},
   "outputs": [],
   "source": [
    "kaggle_datasets_path = 'datasets/kaggle'"
   ]
  },
  {
   "cell_type": "code",
   "execution_count": 18,
   "id": "f6c0ce1b-510d-41dd-9628-901efe18548b",
   "metadata": {},
   "outputs": [],
   "source": [
    "def download_datasets():\n",
    "    \n",
    "    api = KaggleApi()\n",
    "    api.authenticate()\n",
    "    \n",
    "    datasets = [\"ludmin/billboard\", \"joebeachcapital/top-10000-spotify-songs-1960-now\"]\n",
    "    \n",
    "    for d in datasets:\n",
    "        api.dataset_download_files(d, path=kaggle_datasets_path, unzip=True)\n",
    "    \n",
    "    print(f\"Dataset downloaded and extracted to {kaggle_datasets_path}\")\n",
    "    \n",
    "    files_to_keep = {\"hot100.csv\", \"top_10000_1960-now.csv\"}\n",
    "    \n",
    "    for file_name in os.listdir(kaggle_datasets_path):\n",
    "        file_path = os.path.join(kaggle_datasets_path, file_name)\n",
    "        \n",
    "        if os.path.isfile(file_path) and file_name not in files_to_keep:\n",
    "            os.remove(file_path)\n",
    "            print(f\"Removed {file_path}\")\n",
    "        else:\n",
    "            print(f\"Kept {file_path}\")"
   ]
  },
  {
   "cell_type": "code",
   "execution_count": 19,
   "id": "750db122-d58a-47d8-b7be-36bce25ba5f7",
   "metadata": {},
   "outputs": [
    {
     "name": "stdout",
     "output_type": "stream",
     "text": [
      "Dataset URL: https://www.kaggle.com/datasets/ludmin/billboard\n",
      "Dataset URL: https://www.kaggle.com/datasets/joebeachcapital/top-10000-spotify-songs-1960-now\n",
      "Dataset downloaded and extracted to ../datasets/kaggle\n",
      "Removed ../datasets/kaggle/billboard200.csv\n",
      "Removed ../datasets/kaggle/digital_songs.csv\n",
      "Kept ../datasets/kaggle/hot100.csv\n",
      "Removed ../datasets/kaggle/radio.csv\n",
      "Removed ../datasets/kaggle/streaming_songs.csv\n",
      "Removed ../datasets/kaggle/top_10000_1950-now.csv\n",
      "Kept ../datasets/kaggle/top_10000_1960-now.csv\n"
     ]
    }
   ],
   "source": [
    "download_datasets()"
   ]
  },
  {
   "cell_type": "code",
   "execution_count": 26,
   "id": "42626079-d57a-4b6b-ae52-77570e721393",
   "metadata": {},
   "outputs": [],
   "source": [
    "def extract_datasets():\n",
    "    \n",
    "    hot_100_df = pd.read_csv(f'{kaggle_datasets_path}/hot100.csv')\n",
    "    spotify_df = pd.read_csv(f'{kaggle_datasets_path}/top_10000_1960-now.csv')\n",
    "    \n",
    "    hot_100_rank_1 = hot_100_df[hot_100_df['Rank'] == 1]\n",
    "\n",
    "    hot_100_rank_1_path = 'datasets/hot_100_rank_1.csv'\n",
    "    hot_100_rank_1.to_csv(hot_100_rank_1_path, index=False)\n",
    "    print(f\"Saved dataset to {hot_100_rank_1_path}\")\n",
    "    \n",
    "    spotify_df.rename(columns={'Track Name': 'Song', 'Artist Name(s)': 'Artist'}, inplace=True)\n",
    "\n",
    "    spotify_path = 'datasets/top_10000_spotify.csv'\n",
    "    spotify_df.to_csv(spotify_path, index=False)\n",
    "    print(f\"Saved dataset to {spotify_path}\")"
   ]
  },
  {
   "cell_type": "code",
   "execution_count": 27,
   "id": "1e0b4912-520a-4962-ae20-8cda7391e40f",
   "metadata": {},
   "outputs": [
    {
     "name": "stdout",
     "output_type": "stream",
     "text": [
      "Saved dataset to datasets/hot_100_rank_1.csv\n",
      "Saved dataset to datasets/top_10000_spotify.csv\n"
     ]
    }
   ],
   "source": [
    "extract_datasets()"
   ]
  }
 ],
 "metadata": {
  "kernelspec": {
   "display_name": "Python 3 (ipykernel)",
   "language": "python",
   "name": "python3"
  },
  "language_info": {
   "codemirror_mode": {
    "name": "ipython",
    "version": 3
   },
   "file_extension": ".py",
   "mimetype": "text/x-python",
   "name": "python",
   "nbconvert_exporter": "python",
   "pygments_lexer": "ipython3",
   "version": "3.13.0"
  }
 },
 "nbformat": 4,
 "nbformat_minor": 5
}
