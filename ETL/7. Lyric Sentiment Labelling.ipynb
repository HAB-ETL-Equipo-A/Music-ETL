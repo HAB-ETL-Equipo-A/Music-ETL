{
 "cells": [
  {
   "cell_type": "code",
   "execution_count": 287,
   "id": "9e7ba61a-09ae-4360-aa3a-166b9598d394",
   "metadata": {},
   "outputs": [],
   "source": [
    "import pandas as pd\n",
    "import spacy\n",
    "from transformers import pipeline\n",
    "import torch\n",
    "import json\n",
    "from datasets import Dataset\n",
    "from concurrent.futures import ThreadPoolExecutor\n",
    "import torch.multiprocessing as mp"
   ]
  },
  {
   "cell_type": "code",
   "execution_count": 281,
   "id": "2f5f91ba-6de2-46e5-bd27-9ad9441300a0",
   "metadata": {},
   "outputs": [
    {
     "name": "stdout",
     "output_type": "stream",
     "text": [
      "True\n",
      "0\n"
     ]
    }
   ],
   "source": [
    "mp.set_start_method('spawn', force=True)\n",
    "\n",
    "print(torch.cuda.is_available())\n",
    "print(torch.cuda.current_device())"
   ]
  },
  {
   "cell_type": "code",
   "execution_count": 3,
   "id": "7eb2bcab-db04-4be5-9dd9-2c9b982c2670",
   "metadata": {},
   "outputs": [],
   "source": [
    "nlp = spacy.load(\"en_core_web_sm\")"
   ]
  },
  {
   "cell_type": "code",
   "execution_count": 158,
   "id": "9710c85f-5f92-4a10-9a37-f969c98eea33",
   "metadata": {},
   "outputs": [],
   "source": [
    "with open('../datasets/rank_1/lyrics.json', 'r') as file:\n",
    "    lyrics_json = json.load(file)\n",
    "lyrics = [lyrics_json[i]['lyrics'] for i in lyrics_json]\n",
    "track_ids = [lyrics_json[i]['track_id'] for i in lyrics_json]"
   ]
  },
  {
   "cell_type": "code",
   "execution_count": 159,
   "id": "923bae3d-16ed-4f9b-aaed-57be6af2b4e7",
   "metadata": {},
   "outputs": [],
   "source": [
    "def tokenize(text):\n",
    "    doc = nlp(text)\n",
    "    tokens = [token.text.lower() for token in doc if not token.is_stop and not token.is_punct]\n",
    "    return ' '.join(tokens)"
   ]
  },
  {
   "cell_type": "code",
   "execution_count": 162,
   "id": "9985af05-41ef-4341-904e-e42c061c2a14",
   "metadata": {},
   "outputs": [],
   "source": [
    "tokenized_lyrics = [tokenize(lyric) for lyric in lyrics]\n",
    "dataset = Dataset.from_dict({'lyrics': tokenized_lyrics})"
   ]
  },
  {
   "cell_type": "code",
   "execution_count": 17,
   "id": "2b4d8fdf-59b9-45e6-aa69-29f6f43dfaa8",
   "metadata": {},
   "outputs": [
    {
     "data": {
      "text/plain": [
       "[['OPTIMISM', 'PESSIMISM'],\n",
       " ['LOVE', 'HATE'],\n",
       " ['JOY', 'SORROW'],\n",
       " ['HOPE', 'DESPAIR'],\n",
       " ['STRENGTH', 'WEAKNESS'],\n",
       " ['BRAVERY', 'FEAR'],\n",
       " ['SUCCESS', 'FAILURE'],\n",
       " ['GRATITUDE', 'ENTITLEMENT'],\n",
       " ['FORGIVENESS', 'RESENTMENT'],\n",
       " ['PEACE', 'CHAOS']]"
      ]
     },
     "execution_count": 17,
     "metadata": {},
     "output_type": "execute_result"
    }
   ],
   "source": [
    "with open('../datasets/topic_labels.json', 'r') as file:\n",
    "    labels_json = json.load(file)\n",
    "label_pairs = labels_json['labels']\n",
    "label_pairs"
   ]
  },
  {
   "cell_type": "code",
   "execution_count": 34,
   "id": "ed4ebc25-f648-4bc8-b3ee-e9d3f0fd6d70",
   "metadata": {},
   "outputs": [
    {
     "name": "stderr",
     "output_type": "stream",
     "text": [
      "Some weights of the model checkpoint at roberta-large-mnli were not used when initializing RobertaForSequenceClassification: ['roberta.pooler.dense.bias', 'roberta.pooler.dense.weight']\n",
      "- This IS expected if you are initializing RobertaForSequenceClassification from the checkpoint of a model trained on another task or with another architecture (e.g. initializing a BertForSequenceClassification model from a BertForPreTraining model).\n",
      "- This IS NOT expected if you are initializing RobertaForSequenceClassification from the checkpoint of a model that you expect to be exactly identical (initializing a BertForSequenceClassification model from a BertForSequenceClassification model).\n"
     ]
    }
   ],
   "source": [
    "classifier = pipeline('zero-shot-classification', model='roberta-large-mnli', device=0)"
   ]
  },
  {
   "cell_type": "code",
   "execution_count": 84,
   "id": "38d13b19-020c-453e-b462-aed8429e783c",
   "metadata": {},
   "outputs": [],
   "source": [
    "def classify_pair(lyric, label_pair):\n",
    "    if not lyric.strip():\n",
    "        return {label_pair[0]: 0.0, label_pair[1]: 0.0}\n",
    "    result = classifier(lyric, label_pair)\n",
    "    return {label_pair[0]: result['scores'][0], label_pair[1]: result['scores'][1]}"
   ]
  },
  {
   "cell_type": "code",
   "execution_count": 237,
   "id": "cba80765-7903-4d0a-802d-1664ec936f47",
   "metadata": {},
   "outputs": [
    {
     "data": {
      "application/vnd.jupyter.widget-view+json": {
       "model_id": "148ae91dae8945ea904fdf3edee3561f",
       "version_major": 2,
       "version_minor": 0
      },
      "text/plain": [
       "Map:   0%|          | 0/20 [00:00<?, ? examples/s]"
      ]
     },
     "metadata": {},
     "output_type": "display_data"
    },
    {
     "data": {
      "application/vnd.jupyter.widget-view+json": {
       "model_id": "dd6874e5922c4989924ddd92eb319d66",
       "version_major": 2,
       "version_minor": 0
      },
      "text/plain": [
       "Map:   0%|          | 0/20 [00:00<?, ? examples/s]"
      ]
     },
     "metadata": {},
     "output_type": "display_data"
    },
    {
     "data": {
      "application/vnd.jupyter.widget-view+json": {
       "model_id": "021831eb84244f74b9a02085a7648d26",
       "version_major": 2,
       "version_minor": 0
      },
      "text/plain": [
       "Map:   0%|          | 0/20 [00:00<?, ? examples/s]"
      ]
     },
     "metadata": {},
     "output_type": "display_data"
    },
    {
     "data": {
      "application/vnd.jupyter.widget-view+json": {
       "model_id": "73855e83b63845ad8c0e5f258142d907",
       "version_major": 2,
       "version_minor": 0
      },
      "text/plain": [
       "Map:   0%|          | 0/20 [00:00<?, ? examples/s]"
      ]
     },
     "metadata": {},
     "output_type": "display_data"
    },
    {
     "data": {
      "application/vnd.jupyter.widget-view+json": {
       "model_id": "8e70b029b8ce4291b213bae0faf84d7a",
       "version_major": 2,
       "version_minor": 0
      },
      "text/plain": [
       "Map:   0%|          | 0/20 [00:00<?, ? examples/s]"
      ]
     },
     "metadata": {},
     "output_type": "display_data"
    },
    {
     "data": {
      "application/vnd.jupyter.widget-view+json": {
       "model_id": "04af5be7ffa54ed1b6e0e8305422d696",
       "version_major": 2,
       "version_minor": 0
      },
      "text/plain": [
       "Map:   0%|          | 0/20 [00:00<?, ? examples/s]"
      ]
     },
     "metadata": {},
     "output_type": "display_data"
    },
    {
     "data": {
      "application/vnd.jupyter.widget-view+json": {
       "model_id": "ab659377bf6d44c59b26b4eaf37b6d25",
       "version_major": 2,
       "version_minor": 0
      },
      "text/plain": [
       "Map:   0%|          | 0/20 [00:00<?, ? examples/s]"
      ]
     },
     "metadata": {},
     "output_type": "display_data"
    },
    {
     "data": {
      "application/vnd.jupyter.widget-view+json": {
       "model_id": "e4fbf7ed945840d5a7b998e00d13fdd0",
       "version_major": 2,
       "version_minor": 0
      },
      "text/plain": [
       "Map:   0%|          | 0/20 [00:00<?, ? examples/s]"
      ]
     },
     "metadata": {},
     "output_type": "display_data"
    },
    {
     "data": {
      "application/vnd.jupyter.widget-view+json": {
       "model_id": "694aa0eac0b647a0bfdb8afd1778ef83",
       "version_major": 2,
       "version_minor": 0
      },
      "text/plain": [
       "Map:   0%|          | 0/20 [00:00<?, ? examples/s]"
      ]
     },
     "metadata": {},
     "output_type": "display_data"
    },
    {
     "data": {
      "application/vnd.jupyter.widget-view+json": {
       "model_id": "65b3e28f45c14e2da1620b1d34f1bb89",
       "version_major": 2,
       "version_minor": 0
      },
      "text/plain": [
       "Map:   0%|          | 0/20 [00:00<?, ? examples/s]"
      ]
     },
     "metadata": {},
     "output_type": "display_data"
    },
    {
     "name": "stdout",
     "output_type": "stream",
     "text": [
      "CPU times: user 22.2 s, sys: 9.68 s, total: 31.9 s\n",
      "Wall time: 32.1 s\n"
     ]
    }
   ],
   "source": [
    "%%time\n",
    "results = []\n",
    "for label_pair in label_pairs:\n",
    "    result = dataset.map(lambda x: {'results': classify_pair(x['lyrics'], label_pair)}, batched=False)\n",
    "    results.append(result)"
   ]
  },
  {
   "cell_type": "markdown",
   "id": "036ddc04-5da8-4f62-8d58-6ca7478831d8",
   "metadata": {},
   "source": [
    "## Too slow, must find another way..."
   ]
  },
  {
   "cell_type": "code",
   "execution_count": 282,
   "id": "b3111d87-0bde-4fef-8402-2f89ffd8403e",
   "metadata": {},
   "outputs": [],
   "source": [
    "def classify_parallel(lyrics, label_pairs, num_workers=4):\n",
    "    \n",
    "    all_results = []\n",
    "    \n",
    "    for lyric in lyrics:\n",
    "        \n",
    "        with ThreadPoolExecutor(max_workers=num_workers) as executor:\n",
    "            \n",
    "            futures = [executor.submit(partial(classify_pair, lyric, label_pair)) for label_pair in label_pairs]\n",
    "            results = [future.result() for future in futures]\n",
    "            \n",
    "        all_results.append(results)\n",
    "        \n",
    "    return all_results"
   ]
  },
  {
   "cell_type": "code",
   "execution_count": 283,
   "id": "7bf2208a-31cf-4155-958b-db25ba26095a",
   "metadata": {},
   "outputs": [
    {
     "name": "stdout",
     "output_type": "stream",
     "text": [
      "CPU times: user 16.4 s, sys: 1.2 s, total: 17.6 s\n",
      "Wall time: 11.9 s\n"
     ]
    }
   ],
   "source": [
    "%%time\n",
    "results = classify_parallel(tokenized_lyrics, label_pairs)"
   ]
  },
  {
   "cell_type": "markdown",
   "id": "be3315d8-13f5-4e60-8686-814dbaf07817",
   "metadata": {},
   "source": [
    "# 2x Faster!"
   ]
  },
  {
   "cell_type": "code",
   "execution_count": 285,
   "id": "418eb830-233c-4250-9dcd-c72713d59ee3",
   "metadata": {},
   "outputs": [
    {
     "data": {
      "text/html": [
       "<div>\n",
       "<style scoped>\n",
       "    .dataframe tbody tr th:only-of-type {\n",
       "        vertical-align: middle;\n",
       "    }\n",
       "\n",
       "    .dataframe tbody tr th {\n",
       "        vertical-align: top;\n",
       "    }\n",
       "\n",
       "    .dataframe thead th {\n",
       "        text-align: right;\n",
       "    }\n",
       "</style>\n",
       "<table border=\"1\" class=\"dataframe\">\n",
       "  <thead>\n",
       "    <tr style=\"text-align: right;\">\n",
       "      <th></th>\n",
       "      <th>track_id</th>\n",
       "      <th>OPTIMISM</th>\n",
       "      <th>PESSIMISM</th>\n",
       "      <th>LOVE</th>\n",
       "      <th>HATE</th>\n",
       "      <th>JOY</th>\n",
       "      <th>SORROW</th>\n",
       "      <th>HOPE</th>\n",
       "      <th>DESPAIR</th>\n",
       "      <th>STRENGTH</th>\n",
       "      <th>...</th>\n",
       "      <th>BRAVERY</th>\n",
       "      <th>FEAR</th>\n",
       "      <th>SUCCESS</th>\n",
       "      <th>FAILURE</th>\n",
       "      <th>GRATITUDE</th>\n",
       "      <th>ENTITLEMENT</th>\n",
       "      <th>FORGIVENESS</th>\n",
       "      <th>RESENTMENT</th>\n",
       "      <th>PEACE</th>\n",
       "      <th>CHAOS</th>\n",
       "    </tr>\n",
       "  </thead>\n",
       "  <tbody>\n",
       "    <tr>\n",
       "      <th>0</th>\n",
       "      <td>5ayybTSXNwcarDtxQKqvWX</td>\n",
       "      <td>0.509144</td>\n",
       "      <td>0.490856</td>\n",
       "      <td>0.801051</td>\n",
       "      <td>0.198949</td>\n",
       "      <td>0.845799</td>\n",
       "      <td>0.154201</td>\n",
       "      <td>0.714910</td>\n",
       "      <td>0.285090</td>\n",
       "      <td>0.643750</td>\n",
       "      <td>...</td>\n",
       "      <td>0.637215</td>\n",
       "      <td>0.362785</td>\n",
       "      <td>0.717940</td>\n",
       "      <td>0.282060</td>\n",
       "      <td>0.622349</td>\n",
       "      <td>0.377651</td>\n",
       "      <td>0.510038</td>\n",
       "      <td>0.489962</td>\n",
       "      <td>0.682343</td>\n",
       "      <td>0.317656</td>\n",
       "    </tr>\n",
       "    <tr>\n",
       "      <th>1</th>\n",
       "      <td>006Ndmw2hHxvnLbJsBFnPx</td>\n",
       "      <td>0.539714</td>\n",
       "      <td>0.460286</td>\n",
       "      <td>0.590999</td>\n",
       "      <td>0.409001</td>\n",
       "      <td>0.543967</td>\n",
       "      <td>0.456033</td>\n",
       "      <td>0.625337</td>\n",
       "      <td>0.374663</td>\n",
       "      <td>0.546861</td>\n",
       "      <td>...</td>\n",
       "      <td>0.716674</td>\n",
       "      <td>0.283326</td>\n",
       "      <td>0.578891</td>\n",
       "      <td>0.421109</td>\n",
       "      <td>0.543178</td>\n",
       "      <td>0.456822</td>\n",
       "      <td>0.589031</td>\n",
       "      <td>0.410969</td>\n",
       "      <td>0.718144</td>\n",
       "      <td>0.281856</td>\n",
       "    </tr>\n",
       "    <tr>\n",
       "      <th>2</th>\n",
       "      <td>6xupOaBWORbDmakCdQwMRG</td>\n",
       "      <td>0.582897</td>\n",
       "      <td>0.417102</td>\n",
       "      <td>0.954446</td>\n",
       "      <td>0.045554</td>\n",
       "      <td>0.652956</td>\n",
       "      <td>0.347044</td>\n",
       "      <td>0.679851</td>\n",
       "      <td>0.320149</td>\n",
       "      <td>0.665997</td>\n",
       "      <td>...</td>\n",
       "      <td>0.608168</td>\n",
       "      <td>0.391832</td>\n",
       "      <td>0.700274</td>\n",
       "      <td>0.299726</td>\n",
       "      <td>0.556012</td>\n",
       "      <td>0.443988</td>\n",
       "      <td>0.580708</td>\n",
       "      <td>0.419292</td>\n",
       "      <td>0.543781</td>\n",
       "      <td>0.456219</td>\n",
       "    </tr>\n",
       "    <tr>\n",
       "      <th>3</th>\n",
       "      <td>2tvt5K7y1gndmCgtIoLo1f</td>\n",
       "      <td>0.702907</td>\n",
       "      <td>0.297093</td>\n",
       "      <td>0.912151</td>\n",
       "      <td>0.087849</td>\n",
       "      <td>0.729678</td>\n",
       "      <td>0.270322</td>\n",
       "      <td>0.816118</td>\n",
       "      <td>0.183882</td>\n",
       "      <td>0.593635</td>\n",
       "      <td>...</td>\n",
       "      <td>0.958914</td>\n",
       "      <td>0.041086</td>\n",
       "      <td>0.966054</td>\n",
       "      <td>0.033946</td>\n",
       "      <td>0.622359</td>\n",
       "      <td>0.377641</td>\n",
       "      <td>0.763382</td>\n",
       "      <td>0.236618</td>\n",
       "      <td>0.662791</td>\n",
       "      <td>0.337209</td>\n",
       "    </tr>\n",
       "    <tr>\n",
       "      <th>4</th>\n",
       "      <td>1xVOttVNT27FBTD8iHjOfU</td>\n",
       "      <td>0.741109</td>\n",
       "      <td>0.258890</td>\n",
       "      <td>0.919729</td>\n",
       "      <td>0.080271</td>\n",
       "      <td>0.626690</td>\n",
       "      <td>0.373310</td>\n",
       "      <td>0.873529</td>\n",
       "      <td>0.126471</td>\n",
       "      <td>0.569743</td>\n",
       "      <td>...</td>\n",
       "      <td>0.675482</td>\n",
       "      <td>0.324518</td>\n",
       "      <td>0.848694</td>\n",
       "      <td>0.151306</td>\n",
       "      <td>0.528214</td>\n",
       "      <td>0.471786</td>\n",
       "      <td>0.561546</td>\n",
       "      <td>0.438454</td>\n",
       "      <td>0.567714</td>\n",
       "      <td>0.432286</td>\n",
       "    </tr>\n",
       "  </tbody>\n",
       "</table>\n",
       "<p>5 rows × 21 columns</p>\n",
       "</div>"
      ],
      "text/plain": [
       "                 track_id  OPTIMISM  PESSIMISM      LOVE      HATE       JOY  \\\n",
       "0  5ayybTSXNwcarDtxQKqvWX  0.509144   0.490856  0.801051  0.198949  0.845799   \n",
       "1  006Ndmw2hHxvnLbJsBFnPx  0.539714   0.460286  0.590999  0.409001  0.543967   \n",
       "2  6xupOaBWORbDmakCdQwMRG  0.582897   0.417102  0.954446  0.045554  0.652956   \n",
       "3  2tvt5K7y1gndmCgtIoLo1f  0.702907   0.297093  0.912151  0.087849  0.729678   \n",
       "4  1xVOttVNT27FBTD8iHjOfU  0.741109   0.258890  0.919729  0.080271  0.626690   \n",
       "\n",
       "     SORROW      HOPE   DESPAIR  STRENGTH  ...   BRAVERY      FEAR   SUCCESS  \\\n",
       "0  0.154201  0.714910  0.285090  0.643750  ...  0.637215  0.362785  0.717940   \n",
       "1  0.456033  0.625337  0.374663  0.546861  ...  0.716674  0.283326  0.578891   \n",
       "2  0.347044  0.679851  0.320149  0.665997  ...  0.608168  0.391832  0.700274   \n",
       "3  0.270322  0.816118  0.183882  0.593635  ...  0.958914  0.041086  0.966054   \n",
       "4  0.373310  0.873529  0.126471  0.569743  ...  0.675482  0.324518  0.848694   \n",
       "\n",
       "    FAILURE  GRATITUDE  ENTITLEMENT  FORGIVENESS  RESENTMENT     PEACE  \\\n",
       "0  0.282060   0.622349     0.377651     0.510038    0.489962  0.682343   \n",
       "1  0.421109   0.543178     0.456822     0.589031    0.410969  0.718144   \n",
       "2  0.299726   0.556012     0.443988     0.580708    0.419292  0.543781   \n",
       "3  0.033946   0.622359     0.377641     0.763382    0.236618  0.662791   \n",
       "4  0.151306   0.528214     0.471786     0.561546    0.438454  0.567714   \n",
       "\n",
       "      CHAOS  \n",
       "0  0.317656  \n",
       "1  0.281856  \n",
       "2  0.456219  \n",
       "3  0.337209  \n",
       "4  0.432286  \n",
       "\n",
       "[5 rows x 21 columns]"
      ]
     },
     "execution_count": 285,
     "metadata": {},
     "output_type": "execute_result"
    }
   ],
   "source": [
    "flattened_data = []\n",
    "for i, result in enumerate(results):\n",
    "    track_data = {'track_id': track_ids[i]}\n",
    "    for category in result:\n",
    "        track_data.update(category)\n",
    "    flattened_data.append(track_data)\n",
    "\n",
    "df = pd.DataFrame(flattened_data)\n",
    "df.head()"
   ]
  },
  {
   "cell_type": "code",
   "execution_count": 290,
   "id": "6d2387f6-12da-4ac9-993c-e898e33064d3",
   "metadata": {},
   "outputs": [],
   "source": [
    "df.to_csv('../datasets/rank_1/lyric_sentiment.csv', index=False)"
   ]
  }
 ],
 "metadata": {
  "kernelspec": {
   "display_name": "Python (projectenv)",
   "language": "python",
   "name": "projectenv"
  },
  "language_info": {
   "codemirror_mode": {
    "name": "ipython",
    "version": 3
   },
   "file_extension": ".py",
   "mimetype": "text/x-python",
   "name": "python",
   "nbconvert_exporter": "python",
   "pygments_lexer": "ipython3",
   "version": "3.12.7"
  }
 },
 "nbformat": 4,
 "nbformat_minor": 5
}
