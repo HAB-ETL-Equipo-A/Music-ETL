{
 "cells": [
  {
   "cell_type": "code",
   "execution_count": 1,
   "id": "2f448a13-db51-4c40-9451-525877f9e6ee",
   "metadata": {},
   "outputs": [],
   "source": [
    "import pandas as pd\n",
    "import os\n",
    "import json\n",
    "import sys\n",
    "sys.path.append('..')\n",
    "from spotify_api import SpotifyAPI"
   ]
  },
  {
   "cell_type": "code",
   "execution_count": 2,
   "id": "93af0a9a-a7a2-410c-a62e-5f297367d062",
   "metadata": {},
   "outputs": [
    {
     "data": {
      "text/html": [
       "<div>\n",
       "<style scoped>\n",
       "    .dataframe tbody tr th:only-of-type {\n",
       "        vertical-align: middle;\n",
       "    }\n",
       "\n",
       "    .dataframe tbody tr th {\n",
       "        vertical-align: top;\n",
       "    }\n",
       "\n",
       "    .dataframe thead th {\n",
       "        text-align: right;\n",
       "    }\n",
       "</style>\n",
       "<table border=\"1\" class=\"dataframe\">\n",
       "  <thead>\n",
       "    <tr style=\"text-align: right;\">\n",
       "      <th></th>\n",
       "      <th>Song</th>\n",
       "      <th>Artist</th>\n",
       "      <th>Track ID</th>\n",
       "    </tr>\n",
       "  </thead>\n",
       "  <tbody>\n",
       "    <tr>\n",
       "      <th>0</th>\n",
       "      <td>Poor Little Fool</td>\n",
       "      <td>Ricky Nelson</td>\n",
       "      <td>5ayybTSXNwcarDtxQKqvWX</td>\n",
       "    </tr>\n",
       "    <tr>\n",
       "      <th>1</th>\n",
       "      <td>Nel Blu Dipinto Di Blu (Volare)</td>\n",
       "      <td>Domenico Modugno</td>\n",
       "      <td>006Ndmw2hHxvnLbJsBFnPx</td>\n",
       "    </tr>\n",
       "    <tr>\n",
       "      <th>2</th>\n",
       "      <td>Little Star</td>\n",
       "      <td>The Elegants</td>\n",
       "      <td>6xupOaBWORbDmakCdQwMRG</td>\n",
       "    </tr>\n",
       "    <tr>\n",
       "      <th>3</th>\n",
       "      <td>It's All In The Game</td>\n",
       "      <td>Tommy Edwards</td>\n",
       "      <td>2tvt5K7y1gndmCgtIoLo1f</td>\n",
       "    </tr>\n",
       "    <tr>\n",
       "      <th>4</th>\n",
       "      <td>It's Only Make Believe</td>\n",
       "      <td>Conway Twitty</td>\n",
       "      <td>1xVOttVNT27FBTD8iHjOfU</td>\n",
       "    </tr>\n",
       "  </tbody>\n",
       "</table>\n",
       "</div>"
      ],
      "text/plain": [
       "                              Song            Artist                Track ID\n",
       "0                 Poor Little Fool      Ricky Nelson  5ayybTSXNwcarDtxQKqvWX\n",
       "1  Nel Blu Dipinto Di Blu (Volare)  Domenico Modugno  006Ndmw2hHxvnLbJsBFnPx\n",
       "2                      Little Star      The Elegants  6xupOaBWORbDmakCdQwMRG\n",
       "3             It's All In The Game     Tommy Edwards  2tvt5K7y1gndmCgtIoLo1f\n",
       "4           It's Only Make Believe     Conway Twitty  1xVOttVNT27FBTD8iHjOfU"
      ]
     },
     "execution_count": 2,
     "metadata": {},
     "output_type": "execute_result"
    }
   ],
   "source": [
    "songs_df = pd.read_csv('../datasets/hot_100_rank_1_with_id_unique.csv')\n",
    "songs_df.head()"
   ]
  },
  {
   "cell_type": "code",
   "execution_count": 3,
   "id": "ff1bb29a-81b2-40a1-bce7-be335a341f70",
   "metadata": {},
   "outputs": [],
   "source": [
    "api = SpotifyAPI(secrets_path='../secrets.json')"
   ]
  },
  {
   "cell_type": "code",
   "execution_count": 11,
   "id": "d94550c6-55ee-442a-85aa-de8e760c12a1",
   "metadata": {},
   "outputs": [
    {
     "data": {
      "text/plain": [
       "1175"
      ]
     },
     "execution_count": 11,
     "metadata": {},
     "output_type": "execute_result"
    }
   ],
   "source": [
    "len(songs_df)"
   ]
  },
  {
   "cell_type": "markdown",
   "id": "da0900c1-67a3-487d-97c6-d3cff107355b",
   "metadata": {},
   "source": [
    "---"
   ]
  },
  {
   "cell_type": "markdown",
   "id": "2d555c79-23e1-4752-bb85-0980ca4e9385",
   "metadata": {},
   "source": [
    "## Track Data"
   ]
  },
  {
   "cell_type": "code",
   "execution_count": 10,
   "id": "3b77998d-a9a3-43a4-a3c1-9129eb319b56",
   "metadata": {},
   "outputs": [
    {
     "name": "stdout",
     "output_type": "stream",
     "text": [
      "Generated Access Token\n",
      "1175\n"
     ]
    }
   ],
   "source": [
    "track_data_json = await api.get_tracks_data(songs_df['Track ID'], retries=3, delay=3)\n",
    "len(track_data_json)"
   ]
  },
  {
   "cell_type": "code",
   "execution_count": 7,
   "id": "6482e74c-13ba-4c36-b245-bae42e150fc3",
   "metadata": {},
   "outputs": [],
   "source": [
    "output_file = \"../assets/track_data.json\"\n",
    "os.makedirs(os.path.dirname(output_file), exist_ok=True)\n",
    "\n",
    "with open(output_file, \"w\") as f:\n",
    "    json.dump(track_data_json, f, indent=4)"
   ]
  },
  {
   "cell_type": "markdown",
   "id": "8bda6831-3580-4284-a82e-85b54f21f371",
   "metadata": {},
   "source": [
    "---"
   ]
  },
  {
   "cell_type": "markdown",
   "id": "c281b70e-7eb6-40b0-9d00-a6a6bb33a237",
   "metadata": {},
   "source": [
    "## Audio Features"
   ]
  },
  {
   "cell_type": "code",
   "execution_count": 8,
   "id": "8b1f7262-d187-470a-9b0c-fab67d6b2665",
   "metadata": {},
   "outputs": [
    {
     "name": "stdout",
     "output_type": "stream",
     "text": [
      "Generated Access Token\n"
     ]
    },
    {
     "data": {
      "text/plain": [
       "1175"
      ]
     },
     "execution_count": 8,
     "metadata": {},
     "output_type": "execute_result"
    }
   ],
   "source": [
    "audio_features_json = await api.get_tracks_audio_features(songs_df['Track ID'], retries=3, delay=3)\n",
    "len(audio_features_json)"
   ]
  },
  {
   "cell_type": "code",
   "execution_count": 7,
   "id": "9b676158-bddb-4aef-b2d1-449567a101c7",
   "metadata": {},
   "outputs": [],
   "source": [
    "output_file = \"../assets/audio_features.json\"\n",
    "os.makedirs(os.path.dirname(output_file), exist_ok=True)\n",
    "\n",
    "with open(output_file, \"w\") as f:\n",
    "    json.dump(audio_features_json, f, indent=4)"
   ]
  },
  {
   "cell_type": "markdown",
   "id": "17a8997d-a834-499b-863c-c87c3d54c9e6",
   "metadata": {},
   "source": [
    "---"
   ]
  },
  {
   "cell_type": "markdown",
   "id": "66e9f164-534b-457e-b2b1-8764426a1283",
   "metadata": {},
   "source": [
    "## Audio Analysis"
   ]
  },
  {
   "cell_type": "code",
   "execution_count": 12,
   "id": "7024b23c-a18a-4d91-89a6-a3069d31efbd",
   "metadata": {},
   "outputs": [
    {
     "data": {
      "text/plain": [
       "1175"
      ]
     },
     "execution_count": 12,
     "metadata": {},
     "output_type": "execute_result"
    }
   ],
   "source": [
    "audio_analysis_json = await api.get_tracks_audio_analysis(songs_df['Track ID'], retries=3, delay=3)\n",
    "len(audio_analysis_json)"
   ]
  },
  {
   "cell_type": "code",
   "execution_count": 23,
   "id": "d119a56d-1fd3-43d1-bf4e-0909e53acbf1",
   "metadata": {},
   "outputs": [],
   "source": [
    "track_keys = [\n",
    "    'num_samples', 'duration', 'analysis_sample_rate',\n",
    "    'analysis_channels', 'end_of_fade_in', 'start_of_fade_out',\n",
    "    'loudness', 'tempo', 'tempo_confidence',\n",
    "    'time_signature', 'time_signature_confidence', 'key',\n",
    "    'key_confidence', 'mode', 'mode_confidence'\n",
    "]\n",
    "audio_analysis_clean_json = []\n",
    "for track in audio_analysis_json:\n",
    "    clean_json = {key: track['track'].get(key) for key in track_keys if key in track['track']}\n",
    "    audio_analysis_clean_json.append(clean_json)"
   ]
  },
  {
   "cell_type": "code",
   "execution_count": 25,
   "id": "797d1156-f794-44ab-8a89-7de0d0652f2a",
   "metadata": {},
   "outputs": [],
   "source": [
    "output_file = \"../assets/audio_analysis.json\"\n",
    "os.makedirs(os.path.dirname(output_file), exist_ok=True)\n",
    "\n",
    "with open(output_file, \"w\") as f:\n",
    "    json.dump(audio_analysis_clean_json, f, indent=4)"
   ]
  }
 ],
 "metadata": {
  "kernelspec": {
   "display_name": "Python 3 (ipykernel)",
   "language": "python",
   "name": "python3"
  },
  "language_info": {
   "codemirror_mode": {
    "name": "ipython",
    "version": 3
   },
   "file_extension": ".py",
   "mimetype": "text/x-python",
   "name": "python",
   "nbconvert_exporter": "python",
   "pygments_lexer": "ipython3",
   "version": "3.13.0"
  }
 },
 "nbformat": 4,
 "nbformat_minor": 5
}
